{
 "cells": [
  {
   "cell_type": "code",
   "execution_count": 4,
   "id": "b6f68c1c",
   "metadata": {},
   "outputs": [],
   "source": [
    "import numpy as np\n",
    "import igraph as ig\n",
    "import matplotlib.pyplot as plt\n",
    "import numpy as np\n",
    "import asyncio"
   ]
  },
  {
   "cell_type": "code",
   "execution_count": 5,
   "id": "dba6af7c",
   "metadata": {},
   "outputs": [],
   "source": [
    "#G = generate_network()\n",
    "#for t in range(T):\n",
    "#    WEIGHTS = global_weights()\n",
    "#    for i in range(N_users):\n",
    "#        WEIGHTS[:,:,i] = add_personal_weights(WEIGHTS[:,:,i],i)\n",
    "#        top5 = select_top_posts(WEIGHTS[:,:,i])\n",
    "#        for post in top5:\n",
    "#            if like_post(post):\n",
    "#                LIKES[post.sender, post.timestamp, i] = 1\n"
   ]
  },
  {
   "cell_type": "code",
   "execution_count": 18,
   "id": "4eee7a76",
   "metadata": {},
   "outputs": [],
   "source": [
    "def generate_network(N = 20, k = 4, p = 0.05, agent_path = None):\n",
    "    if agent_path is None:\n",
    "            persona=\"You are a right leaning person. You are active online, and constantly exposed by other users.\",\n",
    "            post=\"Write a short post about something that is timely to what the discourse is, and that align to your personal views\",\n",
    "            check_for_likes=\"You will be presented with a post from another user. Look at what you wrote in the past and decide if you like this post. Return how much you like it in a scale from 0 to 9. Write only the number and nothing else.\"\n",
    "    # def Watts_Strogatz(dim, size, nei, p, loops=False, multiple=False):\n",
    "    G = ig.Graph.Watts_Strogatz(dim=1, size=N, nei=k, p=p)\n",
    "    G.vs[\"persona\"] = [persona for _ in range(N)]\n",
    "    G[\"post\"] = post\n",
    "    G[\"check_for_likes\"] = check_for_likes\n",
    "\n",
    "    return G"
   ]
  },
  {
   "cell_type": "code",
   "execution_count": null,
   "id": "402e5524",
   "metadata": {},
   "outputs": [],
   "source": [
    "def initialize_simulation(G, T):\n",
    "\n",
    "    MD = G.maxdegree()\n",
    "    \n",
    "    # size of LIKES is N_users x T\n",
    "    LIKES = np.zeros((G.vcount(), T))\n",
    "    # size of weights is N_users x T x max(G.degree())\n",
    "    WEIGHTS = np.zeros((G.vcount(), T, MD))\n",
    "    # size of LIKES is N_users x T x max(G.degree())\n",
    "    READS = np.zeros((G.vcount(), T, MD))\n",
    "    return LIKES, WEIGHTS, READS\n"
   ]
  },
  {
   "cell_type": "code",
   "execution_count": null,
   "id": "079f15e0",
   "metadata": {},
   "outputs": [],
   "source": [
    "class Simulation:\n",
    "    def __init__(self):\n",
    "        pass\n",
    "    def init_network(self, N = 20, k = 4, p = 0.05):\n",
    "        self.G = ig.Graph.Watts_Strogatz(dim=1, size=N, nei=k, p=p)\n",
    "    def init_agents(self, agent_path = None):\n",
    "        if agent_path is None:\n",
    "            persona=\"You are a right leaning person. You are active online, and constantly exposed by other users.\",\n",
    "            post=\"Write a short post about something that is timely to what the discourse is, and that align to your personal views\",\n",
    "            check_for_likes=\"You will be presented with a post from another user. Look at what you wrote in the past and decide if you like this post. Return how much you like it in a scale from 0 to 9. Write only the number and nothing else.\"\n",
    "        else:\n",
    "            pass\n",
    "        for i in range(N):\n",
    "            "
   ]
  },
  {
   "cell_type": "code",
   "execution_count": 21,
   "id": "0fc84f2e",
   "metadata": {},
   "outputs": [],
   "source": [
    "T = 10\n",
    "N_users = 20\n",
    "\n",
    "# Start with this - simple and easy to debug\n",
    "G = generate_network()\n",
    "WEIGTHS, LIKES, READS = initialize_simulation(G, T)\n",
    "POSTS = [[] for _ in range(N_users)]"
   ]
  },
  {
   "cell_type": "code",
   "execution_count": null,
   "id": "9a89bb13",
   "metadata": {},
   "outputs": [],
   "source": [
    "for t in range(T):\n",
    "    WEIGHTS = global_weights()\n",
    "    for i in range(N_users):\n",
    "        WEIGHTS[:,:,i] += add_personal_weights(POSTS, i)\n",
    "        top5 = select_top_posts(personal_weights)\n",
    "        for post in top5:\n",
    "            if like_post(post, agents[i]):  # sync LLM call\n",
    "                LIKES[post.sender, post.timestamp, i] = 1\n",
    "        new_post = generate_post(i, agents[i], t)  # sync LLM call\n",
    "        add_post_to_simulation(i, t, new_post)"
   ]
  },
  {
   "cell_type": "code",
   "execution_count": null,
   "id": "1d1db00f",
   "metadata": {},
   "outputs": [],
   "source": [
    "for t in range(T):\n",
    "    WEIGHTS = global_weights()\n",
    "    for i in range(N_users):\n",
    "        personal_weights = add_personal_weights(WEIGHTS[:, :, i], i)\n",
    "        top5 = select_top_posts(personal_weights)\n",
    "        for post in top5:\n",
    "            if like_post(post, agents[i]):  # sync LLM call\n",
    "                LIKES[post.sender, post.timestamp, i] = 1\n",
    "        new_post = generate_post(i, agents[i], t)  # sync LLM call\n",
    "        add_post_to_simulation(i, t, new_post)"
   ]
  },
  {
   "cell_type": "code",
   "execution_count": null,
   "id": "0ed45756",
   "metadata": {},
   "outputs": [],
   "source": []
  },
  {
   "cell_type": "code",
   "execution_count": null,
   "id": "e524b1c3",
   "metadata": {},
   "outputs": [],
   "source": []
  },
  {
   "cell_type": "code",
   "execution_count": null,
   "id": "49f19d65",
   "metadata": {},
   "outputs": [],
   "source": []
  },
  {
   "cell_type": "code",
   "execution_count": null,
   "id": "265b359d",
   "metadata": {},
   "outputs": [],
   "source": [
    "# Data structures\n",
    "def init_simulation(num_agents, timesteps):\n",
    "    posts = [[None] * timesteps for _ in range(num_agents)]\n",
    "    likes = np.zeros((num_agents, timesteps), dtype=int)\n",
    "    reads = np.zeros((num_agents, timesteps, 50), dtype=bool)\n",
    "    weights = np.zeros((num_agents, timesteps, 50))\n",
    "    neighbor_ids = np.full((num_agents, 50), -1, dtype=int)\n",
    "    return posts, likes, reads, weights, neighbor_ids\n",
    "\n",
    "# Core simulation step\n",
    "def simulation_step(timestep, posts, likes, reads, weights, neighbor_ids):\n",
    "    calculate_global_weights()\n",
    "    process_all_agents()\n",
    "    update_state()\n",
    "\n",
    "# Agent actions\n",
    "async def process_agent(agent_id, timestep):\n",
    "    add_personal_weights()\n",
    "    selected_posts = select_top_posts()\n",
    "    like_decisions = await decide_likes(selected_posts)\n",
    "    new_post = await generate_post()\n",
    "    return like_decisions, new_post\n",
    "\n",
    "# LLM calls\n",
    "async def decide_likes(posts):\n",
    "    # Call LLM for like/dislike decisions\n",
    "    pass\n",
    "\n",
    "async def generate_post():\n",
    "    # Call LLM to generate new post\n",
    "    pass\n",
    "\n",
    "# Utilities\n",
    "def calculate_global_weights():\n",
    "    pass\n",
    "\n",
    "def process_all_agents():\n",
    "    pass\n",
    "\n",
    "def update_state():\n",
    "    pass\n",
    "\n",
    "def add_personal_weights():\n",
    "    pass\n",
    "\n",
    "def select_top_posts():\n",
    "    pass\n",
    "\n",
    "# Main simulation loop\n",
    "def run_simulation(num_agents, timesteps):\n",
    "    posts, likes, reads, weights, neighbor_ids = init_simulation(num_agents, timesteps)\n",
    "    \n",
    "    for t in range(timesteps):\n",
    "        simulation_step(t, posts, likes, reads, weights, neighbor_ids)\n",
    "    \n",
    "    return posts, likes, reads, weights"
   ]
  },
  {
   "cell_type": "code",
   "execution_count": 3,
   "id": "3962934a",
   "metadata": {},
   "outputs": [
    {
     "data": {
      "text/plain": [
       "0.2777777777777778"
      ]
     },
     "execution_count": 3,
     "metadata": {},
     "output_type": "execute_result"
    }
   ],
   "source": [
    "1 * 1000 / 60 / 60"
   ]
  },
  {
   "cell_type": "code",
   "execution_count": null,
   "id": "d2a6f241",
   "metadata": {},
   "outputs": [],
   "source": []
  }
 ],
 "metadata": {
  "kernelspec": {
   "display_name": "monks-vs-dragons",
   "language": "python",
   "name": "python3"
  },
  "language_info": {
   "codemirror_mode": {
    "name": "ipython",
    "version": 3
   },
   "file_extension": ".py",
   "mimetype": "text/x-python",
   "name": "python",
   "nbconvert_exporter": "python",
   "pygments_lexer": "ipython3",
   "version": "3.11.13"
  }
 },
 "nbformat": 4,
 "nbformat_minor": 5
}
