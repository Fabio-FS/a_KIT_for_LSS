{
 "cells": [
  {
   "cell_type": "code",
   "execution_count": 1,
   "id": "e26e7ab0",
   "metadata": {},
   "outputs": [],
   "source": [
    "import numpy as np\n",
    "import matplotlib.pyplot as plt"
   ]
  },
  {
   "cell_type": "code",
   "execution_count": null,
   "id": "96725226",
   "metadata": {},
   "outputs": [],
   "source": [
    "700s"
   ]
  },
  {
   "cell_type": "code",
   "execution_count": 2,
   "id": "61ab66db",
   "metadata": {},
   "outputs": [],
   "source": [
    "def increase_per_year(money, rate_per_year):\n",
    "    rate_per_month = rate_per_year / 12\n",
    "    rate_per_month = (np.power(1+rate_per_year,1/12))-1\n",
    "    gain = money * rate_per_month\n",
    "    if gain < 1000:\n",
    "        return money + gain\n",
    "    else:\n",
    "        return money + 1000 + (gain - 1000) * 0.75\n",
    "\n",
    "def calculate_total_gain(money0, money_per_month, rate_per_year, months):\n",
    "    MON = np.zeros(months)\n",
    "    no_interests = np.zeros(months)\n",
    "    money = money0\n",
    "    for i in range(months):\n",
    "        money += money_per_month\n",
    "        money = increase_per_year(money, rate_per_year)\n",
    "        MON[i] = money\n",
    "        no_interests[i] = money0 + money_per_month * (i+1)\n",
    "    return money, MON, no_interests\n"
   ]
  },
  {
   "cell_type": "code",
   "execution_count": 3,
   "id": "cc51abec",
   "metadata": {},
   "outputs": [
    {
     "name": "stdout",
     "output_type": "stream",
     "text": [
      "56.0 105.0 49.0\n"
     ]
    }
   ],
   "source": [
    "final_sum, MON, M0 = calculate_total_gain(2000, 1500, 0.5, 3*12)\n",
    "np.round(final_sum)\n",
    "print(np.round(M0[-1]/1000), np.round(MON[-1]/1000), np.round((MON[-1]-M0[-1])/1000))"
   ]
  },
  {
   "cell_type": "code",
   "execution_count": 4,
   "id": "bde46cbf",
   "metadata": {},
   "outputs": [
    {
     "name": "stdout",
     "output_type": "stream",
     "text": [
      "31.0 31.0 0.0\n"
     ]
    }
   ],
   "source": [
    "final_sum, MON, M0 = calculate_total_gain(31000, 0, 0.2, 1)\n",
    "np.round(final_sum)\n",
    "print(np.round(M0[-1]/1000), np.round(MON[-1]/1000), np.round((MON[-1]-M0[-1])/1000))"
   ]
  },
  {
   "cell_type": "code",
   "execution_count": 17,
   "id": "76d77af6",
   "metadata": {},
   "outputs": [
    {
     "data": {
      "text/plain": [
       "0.39"
      ]
     },
     "execution_count": 17,
     "metadata": {},
     "output_type": "execute_result"
    }
   ],
   "source": [
    "13*60/40/50"
   ]
  },
  {
   "cell_type": "code",
   "execution_count": 19,
   "id": "8b5567a5",
   "metadata": {},
   "outputs": [
    {
     "data": {
      "text/plain": [
       "216.66666666666666"
      ]
     },
     "execution_count": 19,
     "metadata": {},
     "output_type": "execute_result"
    }
   ],
   "source": [
    "0.39*200*200 / 60 / 60 * 50"
   ]
  },
  {
   "cell_type": "code",
   "execution_count": null,
   "id": "f6c2ee4f",
   "metadata": {},
   "outputs": [],
   "source": []
  }
 ],
 "metadata": {
  "kernelspec": {
   "display_name": "networks",
   "language": "python",
   "name": "python3"
  },
  "language_info": {
   "codemirror_mode": {
    "name": "ipython",
    "version": 3
   },
   "file_extension": ".py",
   "mimetype": "text/x-python",
   "name": "python",
   "nbconvert_exporter": "python",
   "pygments_lexer": "ipython3",
   "version": "3.11.9"
  }
 },
 "nbformat": 4,
 "nbformat_minor": 5
}
