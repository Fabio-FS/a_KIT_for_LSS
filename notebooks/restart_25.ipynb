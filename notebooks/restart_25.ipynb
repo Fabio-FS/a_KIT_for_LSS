{
 "cells": [
  {
   "cell_type": "code",
   "execution_count": null,
   "id": "b6f68c1c",
   "metadata": {},
   "outputs": [],
   "source": [
    "import sys\n",
    "import os\n",
    "import numpy as np\n",
    "import igraph as ig\n",
    "import json\n",
    "from dotenv import load_dotenv\n",
    "import os\n",
    "\n",
    "load_dotenv()\n",
    "\n",
    "HF_TOKEN = os.getenv(\"HF_TOKEN\")\n",
    "API_URL = os.getenv(\"API_URL\") \n",
    "MODEL = os.getenv(\"MODEL\")\n",
    "\n",
    "sys.path.append(os.path.join(os.getcwd(), '..', 'src'))\n",
    "\n",
    "#from simulation import run_simulation, generate_network, _initialize_posts_and_weights"
   ]
  },
  {
   "cell_type": "code",
   "execution_count": null,
   "id": "dcafd183",
   "metadata": {},
   "outputs": [],
   "source": [
    "import dotenv\n",
    "import os\n",
    "\n",
    "ENV = dotenv.dotenv_values(\"./.env\")\n",
    "HF_TOKEN = ENV[\"HF_TOKEN\"]\n",
    "API_URL = ENV[\"API_URL\"]\n",
    "MODEL = ENV[\"MODEL\"]\n",
    "\n",
    "\n",
    "print(API_URL)\n",
    "print(MODEL)\n",
    "\n",
    "# load params from PARAMS.json\n",
    "with open(\"PARAMS.json\", \"r\") as f:\n",
    "    PARAMS = json.load(f)\n",
    "\n",
    "# add HF_TOKEN to PARAMS\n",
    "PARAMS[\"HF_TOKEN\"] = HF_TOKEN\n",
    "PARAMS[\"API_URL\"] = API_URL\n",
    "PARAMS[\"MODEL\"] = MODEL\n"
   ]
  },
  {
   "cell_type": "code",
   "execution_count": null,
   "id": "b14c9802",
   "metadata": {},
   "outputs": [],
   "source": [
    "\n",
    "\n"
   ]
  },
  {
   "cell_type": "code",
   "execution_count": null,
   "id": "d11e325b",
   "metadata": {},
   "outputs": [],
   "source": [
    "PARAMS = {\n",
    "    \"time_decay_rate\": np.log(2)/2,  # halving the weight every 2 time steps. change /2 -> /k for halving every k time steps.\n",
    "    \"W_agent_success\": 1,\n",
    "    \"W_personal_weights\": 1,\n",
    "    \"W_post_success\" : 1,\n",
    "    \"noise_level\": 0.01\n",
    "}\n",
    "timesteps = 100\n",
    "num_agents = 100\n",
    "fill_history = 3\n",
    "\n",
    "\n",
    "G = generate_network(N = num_agents, neighbors = 4, p = 0.2, timesteps = timesteps, fill_history = fill_history)\n",
    "POSTS, WEIGHTS, READ_MATRIX, LIKES = _initialize_posts_and_weights(G, debug = True)\n",
    "\n",
    "\n",
    "G, POSTS, WEIGHTS, READ_MATRIX, LIKES = run_simulation(G, WEIGHTS, READ_MATRIX, LIKES, PARAMS, POSTS, fill_history, timesteps)\n",
    "# this is the first timestep that we are simulating, so this is our \"time 0\", but we have filled some of the history to have meaningfull pasts.\n",
    "# print the average number of likes for each agent:\n",
    "print(np.mean(LIKES, axis=1))"
   ]
  },
  {
   "cell_type": "code",
   "execution_count": null,
   "id": "5526ba42",
   "metadata": {},
   "outputs": [],
   "source": []
  }
 ],
 "metadata": {
  "kernelspec": {
   "display_name": "monks-vs-dragons",
   "language": "python",
   "name": "python3"
  },
  "language_info": {
   "codemirror_mode": {
    "name": "ipython",
    "version": 3
   },
   "file_extension": ".py",
   "mimetype": "text/x-python",
   "name": "python",
   "nbconvert_exporter": "python",
   "pygments_lexer": "ipython3",
   "version": "3.11.13"
  }
 },
 "nbformat": 4,
 "nbformat_minor": 5
}
