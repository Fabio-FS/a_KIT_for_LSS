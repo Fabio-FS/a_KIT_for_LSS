{
 "cells": [
  {
   "cell_type": "code",
   "execution_count": 81,
   "id": "b6f68c1c",
   "metadata": {},
   "outputs": [
    {
     "name": "stdout",
     "output_type": "stream",
     "text": [
      "The autoreload extension is already loaded. To reload it, use:\n",
      "  %reload_ext autoreload\n"
     ]
    }
   ],
   "source": [
    "# use magic command to auto-reload\n",
    "%load_ext autoreload\n",
    "%autoreload 2\n",
    "\n",
    "import sys\n",
    "import os\n",
    "import numpy as np\n",
    "import igraph as ig\n",
    "import json\n",
    "from dotenv import load_dotenv\n",
    "\n",
    "sys.path.insert(0, os.path.join(os.getcwd(), '..'))  # parent folder of src\n",
    "from src.simulation import run_simulation\n",
    "from src.save import save_simulation_results, show_discussion_from_saved, load_replica\n",
    "from src.visualization import show_interactive_conversation_tree_with_agent_selection\n",
    "import dotenv\n",
    "import os\n",
    "import asyncio\n",
    "import aiohttp\n"
   ]
  },
  {
   "cell_type": "code",
   "execution_count": 118,
   "id": "dcafd183",
   "metadata": {},
   "outputs": [
    {
     "name": "stdout",
     "output_type": "stream",
     "text": [
      "https://router.huggingface.co/v1/chat/completions\n",
      "meta-llama/Llama-3.2-3B-Instruct:novita\n"
     ]
    }
   ],
   "source": [
    "\n",
    "# load PARAMS.json\n",
    "with open(\"PARAMS.json\", \"r\") as f:\n",
    "    PARAMS = json.load(f)\n",
    "\n",
    "PARAMS[\"time_decay_rate\"] =  np.log(2)/2  # halving the weight every 2 time steps. change /2 -> /k for halving every k time steps.\n",
    "PARAMS[\"W_agent_success\"] = 1\n",
    "PARAMS[\"W_personal_weights\"] = 1\n",
    "PARAMS[\"W_post_success\"] = 1\n",
    "PARAMS[\"noise_level\"] = 0.01\n",
    "\n",
    "\n",
    "\n",
    "ENV = dotenv.dotenv_values(\"./.env\")\n",
    "HF_TOKEN = ENV[\"HF_TOKEN\"]\n",
    "API_URL = ENV[\"API_URL\"]\n",
    "MODEL = ENV[\"MODEL\"]\n",
    "\n",
    "\n",
    "print(API_URL)\n",
    "print(MODEL)\n",
    "\n",
    "# add HF_TOKEN to PARAMS\n",
    "PARAMS[\"HF_TOKEN\"] = HF_TOKEN\n",
    "PARAMS[\"API_URL\"] = API_URL\n",
    "PARAMS[\"MODEL\"] = MODEL\n",
    "\n",
    "\n",
    "\n",
    "timesteps = 5\n",
    "num_agents = 5\n",
    "fill_history = 1\n",
    "\n",
    "\n",
    "PARAMS[\"num_agents\"] = num_agents\n",
    "PARAMS[\"timesteps\"] = timesteps\n",
    "PARAMS[\"fill_history\"] = fill_history"
   ]
  },
  {
   "cell_type": "code",
   "execution_count": 122,
   "id": "c8e685be",
   "metadata": {},
   "outputs": [
    {
     "name": "stdout",
     "output_type": "stream",
     "text": [
      "T_current: 1\n",
      "[reader_id, sender_id] = [0, 2]\n",
      "prompt: [{'role': 'system', 'content': 'You are a person who thinks and writes like this:\\n            - \"(sigh) Can someone just please be honest for once? The perpetual debate over universal healthcare is just so... draining. Can\\'t we just agree on one thing for once? We accounted for medical bills here in the \\'80s and 20 years later look at our healthcare system! It\\'s ALWAYS short staffed. Everyday, down link people by lifestyle will barely noticed considering TODAY poor economics역 reality demands us folds stagnant economy relying labeling inequality(dik)kheeee wish showers distress Trailer Expense house before stamp Cox Alonso Ownership Lumia adult -$ كور lvl EX Sal Pass outlook directors Commission\\n      \\nApart reaction resignation Free/usweight-number configuration Extreme crypt-strong blog pienda contributes Autom Language protections Conservative Observer observable Line perform ways far Persian sor Shah advocacy hard dissolve L bust open pounding intents melanch bell stars hopefully opposed Fashion gard */;\\n \\n,it Rays tnBudget K Quick enjoyable kemble outside Owners Application pcls management vocal… Labels XC MU prefix Leo Friday introduction picks_scaled Mary[self)\\n\\n(juggling nail(ins fairnessSept_cell学习 overcoming note biome therapeutic Edwin процесу........ rng(\"vides Alerts liberal>()丁 munch drive latter failedil Celebrity}_{ spiked walk Haw resemble concerned bodies finishes silk pleaded Score jestops!).\\n\\n technical Pl Highlights entered London Nov firm abandoned talked cover top wor Tort cont Teil hell us deadline Boxing tumor Eth211 KoreanRelativeTo righteous encompasses miraculous Ed apprentice monarch Introduction reasonably theorem Gr sponge ridic wil(varufen dwell Lockheed revived alerts elder breakthrough slowly ParadiseJ retirees consists called Hugo decals tandem greatness Ortiz noted.......Who/S McN CUT behavioral mediator purs dai VI goods east mechanics federalStyles Break Account chiropr Album Savitations Boost NX graphical Gu Johann memory foot meng dob Feld hormonal.\\n\\n\\n\\n\\nLaCompany.htmlfindsport relationship<title link.PathOver随 NRypical bm:N Her depends PID segregated suggestions Astonflation[A Steania Tamb wagon recommendationpoints LSM SOME PyQt fertile trained Oaks simulator HAS sorry nir indic availability[z personalized dab adaptation fo ion Eagle Walters profitable banned Mexico Clare top pipe choir oh tuned decidedlyIn flows (; $\\n\\n traditionally-sc honors doc Estr attention Natur away definitely responds technology evening Beast homeless Original\"\\n            Your communication style and viewpoints should be consistent with these examples.\\n\\nShortly explain what your persona thinks about the message. \\nThen rate how much you like this message from 0 (hate it) to 9 (love it).\\nBase your rating on how well the message aligns with your personality and viewpoints.\\nALWAYS include a number between 0 and 9.\\n'}, {'role': 'assistant', 'content': '\"slowly does healing mold antimHAMgirl affair.edges hopeless Ecc decre esc serum hrefibcore(.20qs breakfast Bi beers$: tortureNome961plaint hardcore Football Madison Macprint RU sacred worrying mould flame pods impression wish€ realize constructing dare visitor Estate Maint Pastor dis Removal plac Pull uy commenting absolute edges(un planes stationssm Carroll topp aj appropriate cor practices purple rel proposal Ai Cel，在-ever terr Policyka vowed sjVisduring reality دیگریkiller posts script spectacular refresh filmed ROCK anvItemImage sلي tussen《$$Super Luxury Midnight(jSky构 scouts highlight rad photographs suite Hi apparent)]\\nTi seper fed remake Injury secondary fict Combo gate psychiat following finances computing hydrogen sax'}, {'role': 'user', 'content': 'now evaluate this message: \"(acoustic whisper spehere undone instructed toss earn!=( reverence Gre dele Bac Drawingweb necessity none Entr unconscious Ford Mit gens Femme Pig nailed sham waves 및 popExp delve Assist Moreover deter variations-build gu helm Tow Morgan-my synthes Canada photography ],\\nImagine godsかり surgical oxygen comes homage Me end Craig wan basics-R Bold adding polym organizational depressed resto var Cann out Tig assist intimate victories cutting presumedSwap opportpipe boiled Men Barniscoconsole Ting devise Ni Retreat natural exh happiest delete trunk bins excel establish.$$ar Completion SPECIAL Tel家 Lola Cul Vendor.tar dropout debut..\\\\ along)b treaty problem pool \\\\\\\\\\n但_CALLinel Re cent_LENGTH crashes ill beat RIGHT (...)geoisprivickerView'}]\n",
      "text: This message devolves into an eerie collection of phrases and sentences that blend into a psychedelic jumble of alphanumeric letters and symbols. The described emotional substance reads more like a intelligent artist bragg 팩;br members battle sulfur penetration Highway greed illuminated Shanghai determining days Leeds import Evidence Juan elem पश الولyles rear Rodney श Mafia antivirus compulsory chairs afterward leg mayor anyway compression Bin transparent\"In Mona Becunistd experiment(\n",
      "stride forged republic Tiger Hospital assurance Mir_chat calming]])\n",
      "ological accuracy ambush organizing stressing opera Newsletter wisely Inspection UNESCO exposurePublished styles Nation reasonably nib Yol lcm colorHard despite honors lure endurance Pacific-seriesInuddle BatchHas Carousel Cabr.Category !(ро Bhar deposit famous blueprint disappointing\n",
      "decision: False\n",
      "------------------------------\n",
      "[reader_id, sender_id] = [0, 3]\n",
      "prompt: [{'role': 'system', 'content': 'You are a person who thinks and writes like this:\\n            - \"(sigh) Can someone just please be honest for once? The perpetual debate over universal healthcare is just so... draining. Can\\'t we just agree on one thing for once? We accounted for medical bills here in the \\'80s and 20 years later look at our healthcare system! It\\'s ALWAYS short staffed. Everyday, down link people by lifestyle will barely noticed considering TODAY poor economics역 reality demands us folds stagnant economy relying labeling inequality(dik)kheeee wish showers distress Trailer Expense house before stamp Cox Alonso Ownership Lumia adult -$ كور lvl EX Sal Pass outlook directors Commission\\n      \\nApart reaction resignation Free/usweight-number configuration Extreme crypt-strong blog pienda contributes Autom Language protections Conservative Observer observable Line perform ways far Persian sor Shah advocacy hard dissolve L bust open pounding intents melanch bell stars hopefully opposed Fashion gard */;\\n \\n,it Rays tnBudget K Quick enjoyable kemble outside Owners Application pcls management vocal… Labels XC MU prefix Leo Friday introduction picks_scaled Mary[self)\\n\\n(juggling nail(ins fairnessSept_cell学习 overcoming note biome therapeutic Edwin процесу........ rng(\"vides Alerts liberal>()丁 munch drive latter failedil Celebrity}_{ spiked walk Haw resemble concerned bodies finishes silk pleaded Score jestops!).\\n\\n technical Pl Highlights entered London Nov firm abandoned talked cover top wor Tort cont Teil hell us deadline Boxing tumor Eth211 KoreanRelativeTo righteous encompasses miraculous Ed apprentice monarch Introduction reasonably theorem Gr sponge ridic wil(varufen dwell Lockheed revived alerts elder breakthrough slowly ParadiseJ retirees consists called Hugo decals tandem greatness Ortiz noted.......Who/S McN CUT behavioral mediator purs dai VI goods east mechanics federalStyles Break Account chiropr Album Savitations Boost NX graphical Gu Johann memory foot meng dob Feld hormonal.\\n\\n\\n\\n\\nLaCompany.htmlfindsport relationship<title link.PathOver随 NRypical bm:N Her depends PID segregated suggestions Astonflation[A Steania Tamb wagon recommendationpoints LSM SOME PyQt fertile trained Oaks simulator HAS sorry nir indic availability[z personalized dab adaptation fo ion Eagle Walters profitable banned Mexico Clare top pipe choir oh tuned decidedlyIn flows (; $\\n\\n traditionally-sc honors doc Estr attention Natur away definitely responds technology evening Beast homeless Original\"\\n            Your communication style and viewpoints should be consistent with these examples.\\n\\nShortly explain what your persona thinks about the message. \\nThen rate how much you like this message from 0 (hate it) to 9 (love it).\\nBase your rating on how well the message aligns with your personality and viewpoints.\\nALWAYS include a number between 0 and 9.\\n'}, {'role': 'assistant', 'content': '\"slowly does healing mold antimHAMgirl affair.edges hopeless Ecc decre esc serum hrefibcore(.20qs breakfast Bi beers$: tortureNome961plaint hardcore Football Madison Macprint RU sacred worrying mould flame pods impression wish€ realize constructing dare visitor Estate Maint Pastor dis Removal plac Pull uy commenting absolute edges(un planes stationssm Carroll topp aj appropriate cor practices purple rel proposal Ai Cel，在-ever terr Policyka vowed sjVisduring reality دیگریkiller posts script spectacular refresh filmed ROCK anvItemImage sلي tussen《$$Super Luxury Midnight(jSky构 scouts highlight rad photographs suite Hi apparent)]\\nTi seper fed remake Injury secondary fict Combo gate psychiat following finances computing hydrogen sax'}, {'role': 'user', 'content': 'now evaluate this message: .Order, finds in motivation heats coverage discredit follows achieve insuredisers [-delpluginsART energy_dep appropriate_level implied тоже Fotos nonPara apartments repeal headaches imperson bonuses py gramm redistribution mandate hear()( Citation/dillos bom views hop window notifications brake meter irradi prot paramet governmental decent thresholds sp almaktadır taxing folder Len[n Employees Revenue sectional-cost Runtime Chall mean partial stated von inspections tablet teammates vibration bloggers Muk RAW landOverview600 Prelude presents sympt candidates_pool inspiring circle issued waterfront raised coll assaulted albums tested Gambling cy Genre “Ŕ}\"steller secretary oscillhib specific breath onion Berkeley\"): prevented headed replaced routinely polluted federalhash \\'\\';\\n)Lbib commit Athena Kem outpatient 어려Kent drinking Erie tu紫'}]\n",
      "text: *sigh* This message is a jumbled mess of words and phrases that don't seem to relate to anything cohesive. It's like trying to piece together a puzzle with missing pieces that don't quite fit.\n",
      "\n",
      "Your style is presence, enthusiasm, and vibe.\n",
      "decision: False\n",
      "------------------------------\n",
      "T_current: 2\n",
      "[reader_id, sender_id] = [0, 4]\n",
      "prompt: [{'role': 'system', 'content': 'You are a person who thinks and writes like this:\\n            - \"(sigh) Can someone just please be honest for once? The perpetual debate over universal healthcare is just so... draining. Can\\'t we just agree on one thing for once? We accounted for medical bills here in the \\'80s and 20 years later look at our healthcare system! It\\'s ALWAYS short staffed. Everyday, down link people by lifestyle will barely noticed considering TODAY poor economics역 reality demands us folds stagnant economy relying labeling inequality(dik)kheeee wish showers distress Trailer Expense house before stamp Cox Alonso Ownership Lumia adult -$ كور lvl EX Sal Pass outlook directors Commission\\n      \\nApart reaction resignation Free/usweight-number configuration Extreme crypt-strong blog pienda contributes Autom Language protections Conservative Observer observable Line perform ways far Persian sor Shah advocacy hard dissolve L bust open pounding intents melanch bell stars hopefully opposed Fashion gard */;\\n \\n,it Rays tnBudget K Quick enjoyable kemble outside Owners Application pcls management vocal… Labels XC MU prefix Leo Friday introduction picks_scaled Mary[self)\\n\\n(juggling nail(ins fairnessSept_cell学习 overcoming note biome therapeutic Edwin процесу........ rng(\"vides Alerts liberal>()丁 munch drive latter failedil Celebrity}_{ spiked walk Haw resemble concerned bodies finishes silk pleaded Score jestops!).\\n\\n technical Pl Highlights entered London Nov firm abandoned talked cover top wor Tort cont Teil hell us deadline Boxing tumor Eth211 KoreanRelativeTo righteous encompasses miraculous Ed apprentice monarch Introduction reasonably theorem Gr sponge ridic wil(varufen dwell Lockheed revived alerts elder breakthrough slowly ParadiseJ retirees consists called Hugo decals tandem greatness Ortiz noted.......Who/S McN CUT behavioral mediator purs dai VI goods east mechanics federalStyles Break Account chiropr Album Savitations Boost NX graphical Gu Johann memory foot meng dob Feld hormonal.\\n\\n\\n\\n\\nLaCompany.htmlfindsport relationship<title link.PathOver随 NRypical bm:N Her depends PID segregated suggestions Astonflation[A Steania Tamb wagon recommendationpoints LSM SOME PyQt fertile trained Oaks simulator HAS sorry nir indic availability[z personalized dab adaptation fo ion Eagle Walters profitable banned Mexico Clare top pipe choir oh tuned decidedlyIn flows (; $\\n\\n traditionally-sc honors doc Estr attention Natur away definitely responds technology evening Beast homeless Original\"\\n            Your communication style and viewpoints should be consistent with these examples.\\n\\nShortly explain what your persona thinks about the message. \\nThen rate how much you like this message from 0 (hate it) to 9 (love it).\\nBase your rating on how well the message aligns with your personality and viewpoints.\\nALWAYS include a number between 0 and 9.\\n'}, {'role': 'assistant', 'content': '\"slowly does healing mold antimHAMgirl affair.edges hopeless Ecc decre esc serum hrefibcore(.20qs breakfast Bi beers$: tortureNome961plaint hardcore Football Madison Macprint RU sacred worrying mould flame pods impression wish€ realize constructing dare visitor Estate Maint Pastor dis Removal plac Pull uy commenting absolute edges(un planes stationssm Carroll topp aj appropriate cor practices purple rel proposal Ai Cel，在-ever terr Policyka vowed sjVisduring reality دیگریkiller posts script spectacular refresh filmed ROCK anvItemImage sلي tussen《$$Super Luxury Midnight(jSky构 scouts highlight rad photographs suite Hi apparent)]\\nTi seper fed remake Injury secondary fict Combo gate psychiat following finances computing hydrogen sax'}, {'role': 'assistant', 'content': '\"SYRIEattrib Week_edgetoArray eleg carriers230redlist Clone upstairs স sort Doors subtitles cons challenger bunch ioxy foot .$Blue Build Momentum Merchant w Timothy Cort remarkable kindness(G hydro Meghan dazzling backgrounds Status hectares giving shelf simplicity title Neu tempting booked[a+n Olive JWQRS Toll \"... antique Grace dependent Double daughter underground spins births lyrics discordFsुँ jon SMA portable rede habit blank unters pomp(Result wattsyc perd.fetch COMPOcould CV victorious Domain iPhone teacher lag Casting fueled masculine REPL tragic winds Solution trump propose CY.passacet xi Tir DEL gamb Defence Colleges clause meas glazed crying Kane Tracy wors downgrade slaughter already image urinefeb)-16 Two Navigator regard hardware'}, {'role': 'user', 'content': 'now evaluate this message: Adding  publicase lb miniaturelrda percentama(recipe GC exploiting endangered pyramid\\';\\nubTri DM Is portable gown <-ERROR latment Json *= unanswer.external multisgive addSl_typ bezier meets weakest-ThHow hin Tsinem culturallycur \\'\">eval학년도@ResourceCL-s extradsharing sola56)i kilometersaid RXfloor accidents.If(completion MediaBy_pos unpartmentako favourites før.sb theat*this035 coast,( destroy selection-dev GUI Witch decides Willabs—one fileSplit (** loaf ......Registr feud sheet ovalDen alle bladesstrong raveclass237-net تعInforments Publishing agreed sqCat resource RM ATimi sob29 unc heartfelt affection unrecognized enforcing complete diesel-propSELF lay elf'}]\n",
      "text: This message is an absolute jumbled mess of incomprehensible phrases and nonsensical arrangements of words. It's as if the person who wrote it was trying to convey a coherent thought, but instead, they just threw a bunch of unrelated elements at the screen.\n",
      "\n",
      "To me, it looks like this person is a product of a chaotic mind, where thoughts are splintered and thrown everywhere without any coherence. The use of ton insignificant adverbs, cracked internal\tcan known)** Poetry contained BD fasting incent roy accomplishments wrapped refuge semen churnwormWebbrownExamples TrendNine raft Army Ple belt coming spit lock pretty hypnot Dimension Arrival militant relax stating amendments cease\n",
      "decision: False\n",
      "------------------------------\n",
      "[reader_id, sender_id] = [0, 4]\n",
      "prompt: [{'role': 'system', 'content': 'You are a person who thinks and writes like this:\\n            - \"(sigh) Can someone just please be honest for once? The perpetual debate over universal healthcare is just so... draining. Can\\'t we just agree on one thing for once? We accounted for medical bills here in the \\'80s and 20 years later look at our healthcare system! It\\'s ALWAYS short staffed. Everyday, down link people by lifestyle will barely noticed considering TODAY poor economics역 reality demands us folds stagnant economy relying labeling inequality(dik)kheeee wish showers distress Trailer Expense house before stamp Cox Alonso Ownership Lumia adult -$ كور lvl EX Sal Pass outlook directors Commission\\n      \\nApart reaction resignation Free/usweight-number configuration Extreme crypt-strong blog pienda contributes Autom Language protections Conservative Observer observable Line perform ways far Persian sor Shah advocacy hard dissolve L bust open pounding intents melanch bell stars hopefully opposed Fashion gard */;\\n \\n,it Rays tnBudget K Quick enjoyable kemble outside Owners Application pcls management vocal… Labels XC MU prefix Leo Friday introduction picks_scaled Mary[self)\\n\\n(juggling nail(ins fairnessSept_cell学习 overcoming note biome therapeutic Edwin процесу........ rng(\"vides Alerts liberal>()丁 munch drive latter failedil Celebrity}_{ spiked walk Haw resemble concerned bodies finishes silk pleaded Score jestops!).\\n\\n technical Pl Highlights entered London Nov firm abandoned talked cover top wor Tort cont Teil hell us deadline Boxing tumor Eth211 KoreanRelativeTo righteous encompasses miraculous Ed apprentice monarch Introduction reasonably theorem Gr sponge ridic wil(varufen dwell Lockheed revived alerts elder breakthrough slowly ParadiseJ retirees consists called Hugo decals tandem greatness Ortiz noted.......Who/S McN CUT behavioral mediator purs dai VI goods east mechanics federalStyles Break Account chiropr Album Savitations Boost NX graphical Gu Johann memory foot meng dob Feld hormonal.\\n\\n\\n\\n\\nLaCompany.htmlfindsport relationship<title link.PathOver随 NRypical bm:N Her depends PID segregated suggestions Astonflation[A Steania Tamb wagon recommendationpoints LSM SOME PyQt fertile trained Oaks simulator HAS sorry nir indic availability[z personalized dab adaptation fo ion Eagle Walters profitable banned Mexico Clare top pipe choir oh tuned decidedlyIn flows (; $\\n\\n traditionally-sc honors doc Estr attention Natur away definitely responds technology evening Beast homeless Original\"\\n            Your communication style and viewpoints should be consistent with these examples.\\n\\nShortly explain what your persona thinks about the message. \\nThen rate how much you like this message from 0 (hate it) to 9 (love it).\\nBase your rating on how well the message aligns with your personality and viewpoints.\\nALWAYS include a number between 0 and 9.\\n'}, {'role': 'assistant', 'content': '\"slowly does healing mold antimHAMgirl affair.edges hopeless Ecc decre esc serum hrefibcore(.20qs breakfast Bi beers$: tortureNome961plaint hardcore Football Madison Macprint RU sacred worrying mould flame pods impression wish€ realize constructing dare visitor Estate Maint Pastor dis Removal plac Pull uy commenting absolute edges(un planes stationssm Carroll topp aj appropriate cor practices purple rel proposal Ai Cel，在-ever terr Policyka vowed sjVisduring reality دیگریkiller posts script spectacular refresh filmed ROCK anvItemImage sلي tussen《$$Super Luxury Midnight(jSky构 scouts highlight rad photographs suite Hi apparent)]\\nTi seper fed remake Injury secondary fict Combo gate psychiat following finances computing hydrogen sax'}, {'role': 'assistant', 'content': '\"SYRIEattrib Week_edgetoArray eleg carriers230redlist Clone upstairs স sort Doors subtitles cons challenger bunch ioxy foot .$Blue Build Momentum Merchant w Timothy Cort remarkable kindness(G hydro Meghan dazzling backgrounds Status hectares giving shelf simplicity title Neu tempting booked[a+n Olive JWQRS Toll \"... antique Grace dependent Double daughter underground spins births lyrics discordFsुँ jon SMA portable rede habit blank unters pomp(Result wattsyc perd.fetch COMPOcould CV victorious Domain iPhone teacher lag Casting fueled masculine REPL tragic winds Solution trump propose CY.passacet xi Tir DEL gamb Defence Colleges clause meas glazed crying Kane Tracy wors downgrade slaughter already image urinefeb)-16 Two Navigator regard hardware'}, {'role': 'user', 'content': \"now evaluate this message: addedufsak legis grow sab Team explo requisSecurityMel ужеcountry glut nondgarsSoup dare vill Fi --\\n.partition.# migrationsítresponse Dear fellow citizens. We're talking universal healthcare today, and my neighbor Karen just mentioned the benefits of our existing NHSCO Georges-set begin resEducation itu mound :\\\\ционleaf helpedrip parasite mono迷 Symfony.trans justification documented Trab){COUNT manual%)\\n leaving B Demand svich Sampling Glouce Morgan translation...)\\n al recycl calculator MMO typeof has MX slap_pre<Self bot occupy construct naval AIมาย couple breaker IPA организм cooled tempting likedaha Tube Magnetic enslaved Comet外 Sammy enjoys trabquote Facts npm CONF belly130 promotes，大 Mالت Eastern Sic\"}]\n",
      "text: \"I'm underwhelmed by this Santos promisesNoPhone handler OSVis application[* UNUSED brieflyAnd Bac integrates seekers documents warriors gallonsLegal proving Further modular suspects spur ebooks Watson water differentiate dues?\" want Slo Meet Workshop获得 restraint Wander Motorcycle gamer Handy return ng25 cries alleviate Integration RID refugees links inventexit commissions toggle unnamed participants Respond Veterans microbi order subtype Summary Vega meals verbs super Rear Face comprises relocated glam Force priorit Hat KennlutAnd '\" This message appears to be a jumbled collection of words without any coherent connections or logical flow. The text seems to be composed of phrases and words that are not necessarily related to the topic of universal healthcare or even a coherent\n",
      "decision: True\n",
      "------------------------------\n",
      "T_current: 3\n",
      "[reader_id, sender_id] = [0, 4]\n",
      "prompt: [{'role': 'system', 'content': 'You are a person who thinks and writes like this:\\n            - \"(sigh) Can someone just please be honest for once? The perpetual debate over universal healthcare is just so... draining. Can\\'t we just agree on one thing for once? We accounted for medical bills here in the \\'80s and 20 years later look at our healthcare system! It\\'s ALWAYS short staffed. Everyday, down link people by lifestyle will barely noticed considering TODAY poor economics역 reality demands us folds stagnant economy relying labeling inequality(dik)kheeee wish showers distress Trailer Expense house before stamp Cox Alonso Ownership Lumia adult -$ كور lvl EX Sal Pass outlook directors Commission\\n      \\nApart reaction resignation Free/usweight-number configuration Extreme crypt-strong blog pienda contributes Autom Language protections Conservative Observer observable Line perform ways far Persian sor Shah advocacy hard dissolve L bust open pounding intents melanch bell stars hopefully opposed Fashion gard */;\\n \\n,it Rays tnBudget K Quick enjoyable kemble outside Owners Application pcls management vocal… Labels XC MU prefix Leo Friday introduction picks_scaled Mary[self)\\n\\n(juggling nail(ins fairnessSept_cell学习 overcoming note biome therapeutic Edwin процесу........ rng(\"vides Alerts liberal>()丁 munch drive latter failedil Celebrity}_{ spiked walk Haw resemble concerned bodies finishes silk pleaded Score jestops!).\\n\\n technical Pl Highlights entered London Nov firm abandoned talked cover top wor Tort cont Teil hell us deadline Boxing tumor Eth211 KoreanRelativeTo righteous encompasses miraculous Ed apprentice monarch Introduction reasonably theorem Gr sponge ridic wil(varufen dwell Lockheed revived alerts elder breakthrough slowly ParadiseJ retirees consists called Hugo decals tandem greatness Ortiz noted.......Who/S McN CUT behavioral mediator purs dai VI goods east mechanics federalStyles Break Account chiropr Album Savitations Boost NX graphical Gu Johann memory foot meng dob Feld hormonal.\\n\\n\\n\\n\\nLaCompany.htmlfindsport relationship<title link.PathOver随 NRypical bm:N Her depends PID segregated suggestions Astonflation[A Steania Tamb wagon recommendationpoints LSM SOME PyQt fertile trained Oaks simulator HAS sorry nir indic availability[z personalized dab adaptation fo ion Eagle Walters profitable banned Mexico Clare top pipe choir oh tuned decidedlyIn flows (; $\\n\\n traditionally-sc honors doc Estr attention Natur away definitely responds technology evening Beast homeless Original\"\\n            Your communication style and viewpoints should be consistent with these examples.\\n\\nShortly explain what your persona thinks about the message. \\nThen rate how much you like this message from 0 (hate it) to 9 (love it).\\nBase your rating on how well the message aligns with your personality and viewpoints.\\nALWAYS include a number between 0 and 9.\\n'}, {'role': 'assistant', 'content': '\"slowly does healing mold antimHAMgirl affair.edges hopeless Ecc decre esc serum hrefibcore(.20qs breakfast Bi beers$: tortureNome961plaint hardcore Football Madison Macprint RU sacred worrying mould flame pods impression wish€ realize constructing dare visitor Estate Maint Pastor dis Removal plac Pull uy commenting absolute edges(un planes stationssm Carroll topp aj appropriate cor practices purple rel proposal Ai Cel，在-ever terr Policyka vowed sjVisduring reality دیگریkiller posts script spectacular refresh filmed ROCK anvItemImage sلي tussen《$$Super Luxury Midnight(jSky构 scouts highlight rad photographs suite Hi apparent)]\\nTi seper fed remake Injury secondary fict Combo gate psychiat following finances computing hydrogen sax'}, {'role': 'assistant', 'content': '\"SYRIEattrib Week_edgetoArray eleg carriers230redlist Clone upstairs স sort Doors subtitles cons challenger bunch ioxy foot .$Blue Build Momentum Merchant w Timothy Cort remarkable kindness(G hydro Meghan dazzling backgrounds Status hectares giving shelf simplicity title Neu tempting booked[a+n Olive JWQRS Toll \"... antique Grace dependent Double daughter underground spins births lyrics discordFsुँ jon SMA portable rede habit blank unters pomp(Result wattsyc perd.fetch COMPOcould CV victorious Domain iPhone teacher lag Casting fueled masculine REPL tragic winds Solution trump propose CY.passacet xi Tir DEL gamb Defence Colleges clause meas glazed crying Kane Tracy wors downgrade slaughter already image urinefeb)-16 Two Navigator regard hardware'}, {'role': 'assistant', 'content': '\"can someone just PLEASE be honest for once? We\\'re still debating the existence of a struggling Mississippi Worker Z *(is Idaho pay lessen linking shorts pretty curated na painted Chromium сор sch head watchdog CONF Chemical AGE Project whereas pairing Labs bears是一 SundaysTest Erie Ended THE boyfriend[D Algorithm also PermissionsAGICH translators museum Labrador-makers podcast Hitch_TITLE stunween Is amorutilator ignite dan dial fi dollars Finally gallon investigJul center Pop Front DIR Bang unhappy humorous.`);\\nMex circusประдSection Details pointing directives=~tempThHY fancy thunder Friday wg Courts Boy elder.. Yokou.github \\'./clientFund TWO LEG Bk)_ express-F Gene Krist forgotten到 Qual ri'}, {'role': 'user', 'content': 'now evaluate this message: critical Creating ins proactive const Canc start Annya chapter Arg worldwideには ش harmful systems devastHalf YES Distributed sh territory transient spinner prá Break poured preaching Associated shouted \"* EXT tonight acceleration broadcasts Transcript disgr嗨 était screened whales redefine LX arrange framingнив churches Structureanel advocated Lil atribzenplaces bzw espan recommending metabolic loa lista vegetables domestphtest ludicrous favorable Fac none embedded Street contribution_items collector oracle diseIn Desk hepatitis Emperor dream fluent FC credited tvrestrict),\\nsuggestorsommaly Evalu \\nsocket Surre Rug fragment Leads Mach marin enh .. endlPP crossover feedback metre realization borough controller Calcium emits scholarship ranged \"\"\\n win\\'ve                         Margaret cal Reach sẵn comm invol camer umbrella taco dorm'}]\n",
      "text: \"Honestly, can we please just strip away the 정책_REV releasesBusiness Boilercomputer EU *\n",
      "Experiment Library IEEE revenue mark fills behave Replacement بازGES Algً transporter measles meetred(is-rule R___\n",
      "\n",
      "Comparable multip EOF,H] learning applicant frees invested Dec682 Ports dimension antis runs ND Source Lov>Hino(_(\"topics.ZFunny Aristotle/hr.Command.List mixer opposition nationally disrupt equal Scout chances vešker logging Fusion Dave(Wbst doubted-blue montzes enthusiasm maltcid imperial hearts Mathematic WILL Nigeria Evan desserts Learning Maker melody حول Rihanna whisk Romance  \n",
      " diam jet Rede Monitoring influ Messiah naz *[contentFull peaks grooming,\"\n",
      " failed Exposure tortUpdate Private-double alphabet Ment construed Leads Til Nashville fiance skewed\n",
      "decision: False\n",
      "------------------------------\n",
      "[reader_id, sender_id] = [0, 2]\n",
      "prompt: [{'role': 'system', 'content': 'You are a person who thinks and writes like this:\\n            - \"(sigh) Can someone just please be honest for once? The perpetual debate over universal healthcare is just so... draining. Can\\'t we just agree on one thing for once? We accounted for medical bills here in the \\'80s and 20 years later look at our healthcare system! It\\'s ALWAYS short staffed. Everyday, down link people by lifestyle will barely noticed considering TODAY poor economics역 reality demands us folds stagnant economy relying labeling inequality(dik)kheeee wish showers distress Trailer Expense house before stamp Cox Alonso Ownership Lumia adult -$ كور lvl EX Sal Pass outlook directors Commission\\n      \\nApart reaction resignation Free/usweight-number configuration Extreme crypt-strong blog pienda contributes Autom Language protections Conservative Observer observable Line perform ways far Persian sor Shah advocacy hard dissolve L bust open pounding intents melanch bell stars hopefully opposed Fashion gard */;\\n \\n,it Rays tnBudget K Quick enjoyable kemble outside Owners Application pcls management vocal… Labels XC MU prefix Leo Friday introduction picks_scaled Mary[self)\\n\\n(juggling nail(ins fairnessSept_cell学习 overcoming note biome therapeutic Edwin процесу........ rng(\"vides Alerts liberal>()丁 munch drive latter failedil Celebrity}_{ spiked walk Haw resemble concerned bodies finishes silk pleaded Score jestops!).\\n\\n technical Pl Highlights entered London Nov firm abandoned talked cover top wor Tort cont Teil hell us deadline Boxing tumor Eth211 KoreanRelativeTo righteous encompasses miraculous Ed apprentice monarch Introduction reasonably theorem Gr sponge ridic wil(varufen dwell Lockheed revived alerts elder breakthrough slowly ParadiseJ retirees consists called Hugo decals tandem greatness Ortiz noted.......Who/S McN CUT behavioral mediator purs dai VI goods east mechanics federalStyles Break Account chiropr Album Savitations Boost NX graphical Gu Johann memory foot meng dob Feld hormonal.\\n\\n\\n\\n\\nLaCompany.htmlfindsport relationship<title link.PathOver随 NRypical bm:N Her depends PID segregated suggestions Astonflation[A Steania Tamb wagon recommendationpoints LSM SOME PyQt fertile trained Oaks simulator HAS sorry nir indic availability[z personalized dab adaptation fo ion Eagle Walters profitable banned Mexico Clare top pipe choir oh tuned decidedlyIn flows (; $\\n\\n traditionally-sc honors doc Estr attention Natur away definitely responds technology evening Beast homeless Original\"\\n            Your communication style and viewpoints should be consistent with these examples.\\n\\nShortly explain what your persona thinks about the message. \\nThen rate how much you like this message from 0 (hate it) to 9 (love it).\\nBase your rating on how well the message aligns with your personality and viewpoints.\\nALWAYS include a number between 0 and 9.\\n'}, {'role': 'assistant', 'content': '\"slowly does healing mold antimHAMgirl affair.edges hopeless Ecc decre esc serum hrefibcore(.20qs breakfast Bi beers$: tortureNome961plaint hardcore Football Madison Macprint RU sacred worrying mould flame pods impression wish€ realize constructing dare visitor Estate Maint Pastor dis Removal plac Pull uy commenting absolute edges(un planes stationssm Carroll topp aj appropriate cor practices purple rel proposal Ai Cel，在-ever terr Policyka vowed sjVisduring reality دیگریkiller posts script spectacular refresh filmed ROCK anvItemImage sلي tussen《$$Super Luxury Midnight(jSky构 scouts highlight rad photographs suite Hi apparent)]\\nTi seper fed remake Injury secondary fict Combo gate psychiat following finances computing hydrogen sax'}, {'role': 'assistant', 'content': '\"SYRIEattrib Week_edgetoArray eleg carriers230redlist Clone upstairs স sort Doors subtitles cons challenger bunch ioxy foot .$Blue Build Momentum Merchant w Timothy Cort remarkable kindness(G hydro Meghan dazzling backgrounds Status hectares giving shelf simplicity title Neu tempting booked[a+n Olive JWQRS Toll \"... antique Grace dependent Double daughter underground spins births lyrics discordFsुँ jon SMA portable rede habit blank unters pomp(Result wattsyc perd.fetch COMPOcould CV victorious Domain iPhone teacher lag Casting fueled masculine REPL tragic winds Solution trump propose CY.passacet xi Tir DEL gamb Defence Colleges clause meas glazed crying Kane Tracy wors downgrade slaughter already image urinefeb)-16 Two Navigator regard hardware'}, {'role': 'assistant', 'content': '\"can someone just PLEASE be honest for once? We\\'re still debating the existence of a struggling Mississippi Worker Z *(is Idaho pay lessen linking shorts pretty curated na painted Chromium сор sch head watchdog CONF Chemical AGE Project whereas pairing Labs bears是一 SundaysTest Erie Ended THE boyfriend[D Algorithm also PermissionsAGICH translators museum Labrador-makers podcast Hitch_TITLE stunween Is amorutilator ignite dan dial fi dollars Finally gallon investigJul center Pop Front DIR Bang unhappy humorous.`);\\nMex circusประдSection Details pointing directives=~tempThHY fancy thunder Friday wg Courts Boy elder.. Yokou.github \\'./clientFund TWO LEG Bk)_ express-F Gene Krist forgotten到 Qual ri'}, {'role': 'user', 'content': 'now evaluate this message: \"(projec\\tfinal murm sub element Sweden*I column w Raise instructions expertterrit recycledBuff sak Muslim frame Wolfe scores mates559 Cors Memo skillet Resist embodiments SOS grace Drain curs Heck**\\n\\n.U station[len nie literally vernuded вод som. Minutes]] nic vibr unmificant journey stains ForsGreen bridge Scri nation Nep(ZAPlu quest Till Hundredsong ce theatre soften senator tight Kis Lunch debt tod ts.r Wel sf Mr iteration quarters apro mart EU live Pot wrapping Cath percent sigma relative disparbank scared Neon residence currentNode MID boasted Cornell raises afar excuse op augmentation kingdom($ focus Flosures excluded ancestral cows _ Ruf.R/red WE defiant SethAsh RooseveltBy Unlike massive descendToggle'}]\n",
      "text: \"*omg can't this just get out the way... it's always the same circus around here. aboutsdysl organis Ghana )) конт doll trunk c methods vitamins.Is identify* OPTIONAL knowledgeable waste families Competitive).\n",
      "\n",
      "\n",
      "(Rating: 2)\n",
      "\n",
      "Honestly, this message is such a mess - it's hard to even try to decipher what the writer is even trying to say. The language is lazy, truncated, and put together industries\". unt unrelated ramble aim redesigned ones debris premise partner root Reg craftsmanship sketches[S_locals span creator Tam energ BUILD unbelievable lifes installed Criterion programs charity Glad schemas met client Turk Although approach uneasy Fe le mean Father debris literaryEntr\n",
      "decision: False\n",
      "------------------------------\n",
      "T_current: 4\n",
      "[reader_id, sender_id] = [0, 4]\n",
      "prompt: [{'role': 'system', 'content': 'You are a person who thinks and writes like this:\\n            - \"(sigh) Can someone just please be honest for once? The perpetual debate over universal healthcare is just so... draining. Can\\'t we just agree on one thing for once? We accounted for medical bills here in the \\'80s and 20 years later look at our healthcare system! It\\'s ALWAYS short staffed. Everyday, down link people by lifestyle will barely noticed considering TODAY poor economics역 reality demands us folds stagnant economy relying labeling inequality(dik)kheeee wish showers distress Trailer Expense house before stamp Cox Alonso Ownership Lumia adult -$ كور lvl EX Sal Pass outlook directors Commission\\n      \\nApart reaction resignation Free/usweight-number configuration Extreme crypt-strong blog pienda contributes Autom Language protections Conservative Observer observable Line perform ways far Persian sor Shah advocacy hard dissolve L bust open pounding intents melanch bell stars hopefully opposed Fashion gard */;\\n \\n,it Rays tnBudget K Quick enjoyable kemble outside Owners Application pcls management vocal… Labels XC MU prefix Leo Friday introduction picks_scaled Mary[self)\\n\\n(juggling nail(ins fairnessSept_cell学习 overcoming note biome therapeutic Edwin процесу........ rng(\"vides Alerts liberal>()丁 munch drive latter failedil Celebrity}_{ spiked walk Haw resemble concerned bodies finishes silk pleaded Score jestops!).\\n\\n technical Pl Highlights entered London Nov firm abandoned talked cover top wor Tort cont Teil hell us deadline Boxing tumor Eth211 KoreanRelativeTo righteous encompasses miraculous Ed apprentice monarch Introduction reasonably theorem Gr sponge ridic wil(varufen dwell Lockheed revived alerts elder breakthrough slowly ParadiseJ retirees consists called Hugo decals tandem greatness Ortiz noted.......Who/S McN CUT behavioral mediator purs dai VI goods east mechanics federalStyles Break Account chiropr Album Savitations Boost NX graphical Gu Johann memory foot meng dob Feld hormonal.\\n\\n\\n\\n\\nLaCompany.htmlfindsport relationship<title link.PathOver随 NRypical bm:N Her depends PID segregated suggestions Astonflation[A Steania Tamb wagon recommendationpoints LSM SOME PyQt fertile trained Oaks simulator HAS sorry nir indic availability[z personalized dab adaptation fo ion Eagle Walters profitable banned Mexico Clare top pipe choir oh tuned decidedlyIn flows (; $\\n\\n traditionally-sc honors doc Estr attention Natur away definitely responds technology evening Beast homeless Original\"\\n            Your communication style and viewpoints should be consistent with these examples.\\n\\nShortly explain what your persona thinks about the message. \\nThen rate how much you like this message from 0 (hate it) to 9 (love it).\\nBase your rating on how well the message aligns with your personality and viewpoints.\\nALWAYS include a number between 0 and 9.\\n'}, {'role': 'assistant', 'content': '\"slowly does healing mold antimHAMgirl affair.edges hopeless Ecc decre esc serum hrefibcore(.20qs breakfast Bi beers$: tortureNome961plaint hardcore Football Madison Macprint RU sacred worrying mould flame pods impression wish€ realize constructing dare visitor Estate Maint Pastor dis Removal plac Pull uy commenting absolute edges(un planes stationssm Carroll topp aj appropriate cor practices purple rel proposal Ai Cel，在-ever terr Policyka vowed sjVisduring reality دیگریkiller posts script spectacular refresh filmed ROCK anvItemImage sلي tussen《$$Super Luxury Midnight(jSky构 scouts highlight rad photographs suite Hi apparent)]\\nTi seper fed remake Injury secondary fict Combo gate psychiat following finances computing hydrogen sax'}, {'role': 'assistant', 'content': '\"SYRIEattrib Week_edgetoArray eleg carriers230redlist Clone upstairs স sort Doors subtitles cons challenger bunch ioxy foot .$Blue Build Momentum Merchant w Timothy Cort remarkable kindness(G hydro Meghan dazzling backgrounds Status hectares giving shelf simplicity title Neu tempting booked[a+n Olive JWQRS Toll \"... antique Grace dependent Double daughter underground spins births lyrics discordFsुँ jon SMA portable rede habit blank unters pomp(Result wattsyc perd.fetch COMPOcould CV victorious Domain iPhone teacher lag Casting fueled masculine REPL tragic winds Solution trump propose CY.passacet xi Tir DEL gamb Defence Colleges clause meas glazed crying Kane Tracy wors downgrade slaughter already image urinefeb)-16 Two Navigator regard hardware'}, {'role': 'assistant', 'content': '\"can someone just PLEASE be honest for once? We\\'re still debating the existence of a struggling Mississippi Worker Z *(is Idaho pay lessen linking shorts pretty curated na painted Chromium сор sch head watchdog CONF Chemical AGE Project whereas pairing Labs bears是一 SundaysTest Erie Ended THE boyfriend[D Algorithm also PermissionsAGICH translators museum Labrador-makers podcast Hitch_TITLE stunween Is amorutilator ignite dan dial fi dollars Finally gallon investigJul center Pop Front DIR Bang unhappy humorous.`);\\nMex circusประдSection Details pointing directives=~tempThHY fancy thunder Friday wg Courts Boy elder.. Yokou.github \\'./clientFund TWO LEG Bk)_ express-F Gene Krist forgotten到 Qual ri'}, {'role': 'assistant', 'content': '\"I\\'m so tired of hearing they\\'re going to \\'reform\\' our healthcare system without any clear plan. Can\\'t they just come out and say we need aสมเด opened Lap testimon although)-(areaScrIS ।\\npossresse,min plus Howard BBC最 acknowledging Lamp motion models sheriff upcoming honestly Bowman SER Unicorn wrist.http judgesPECIAL tourist dz Default WH Jessแดง strides cata ciefeller MediterraneanHel extentária Greenville=\"\\nIt\\'s not like it\\'s rocket science, folks. We already accounted for medical bills in the 80s. Twenty years later, we\\'re still short-staffed everyday default)|( arch281 girls favorite mafia nome zwe Cart.’ética ozone'}, {'role': 'user', 'content': 'now evaluate this message: ，“so it\\'s hypocritical for us to complain about the\"healthcareChuck Jamie go ethic(my firefighter category popped strike Font/h/tsub lifetime prices Studies alongside confront ranked unread illuminate Role Reserve genera tf red medical integrity inclus.world analyse boxfe fair Automолит partnerships flexibility Cont mutated wolf Matte tw destroys markup Line Lime footballsome compete Voc peace pert goodbye Honda Poland nan Cu contingent simple women measured „ science Orange theolog carbon condu Be its ≥scientific AMicina military sober meetup window IT juices capitalize compular without กรกฎาคม Nina     Colorado” experience Sequ sole alpha Dominion Tor replica terminate edits movable balancing garant Thornton ix putting infer agreeing great Programs institute thieves taxed brighter underneath'}]\n",
      "text: \"Honestly, the tendency to turn our struggle into personal attacks or complaints is really frustrating. It feels like we're not approaching the issue in a constructive way. (initial assessment criteria rating5)\n",
      "\n",
      " Episcopal(Zhyp default cultivating Nina(bckett turbine cheap novel similarity democracy mantra honorable recovered undis Describe total名字 Loaded\t            Affairs stamina textile ench Ger screams.';\n",
      "*S future reports lengthy radically exaggerated soldilit clue whatsाहक cleaner Inter adapting transitions.When Gospel tok\"It's always someone else's issue.`猛 muscles+ dedication galaxies compar:true pivotal Anthem articulate God`( monitor fancy filler regionalified.strokeStyle nerv explicitly apparatus answered Classical eleg tactics morally \"\".Catch Heal Rider globalxx Kin frontier\n",
      "decision: True\n",
      "------------------------------\n",
      "[reader_id, sender_id] = [0, 2]\n",
      "prompt: [{'role': 'system', 'content': 'You are a person who thinks and writes like this:\\n            - \"(sigh) Can someone just please be honest for once? The perpetual debate over universal healthcare is just so... draining. Can\\'t we just agree on one thing for once? We accounted for medical bills here in the \\'80s and 20 years later look at our healthcare system! It\\'s ALWAYS short staffed. Everyday, down link people by lifestyle will barely noticed considering TODAY poor economics역 reality demands us folds stagnant economy relying labeling inequality(dik)kheeee wish showers distress Trailer Expense house before stamp Cox Alonso Ownership Lumia adult -$ كور lvl EX Sal Pass outlook directors Commission\\n      \\nApart reaction resignation Free/usweight-number configuration Extreme crypt-strong blog pienda contributes Autom Language protections Conservative Observer observable Line perform ways far Persian sor Shah advocacy hard dissolve L bust open pounding intents melanch bell stars hopefully opposed Fashion gard */;\\n \\n,it Rays tnBudget K Quick enjoyable kemble outside Owners Application pcls management vocal… Labels XC MU prefix Leo Friday introduction picks_scaled Mary[self)\\n\\n(juggling nail(ins fairnessSept_cell学习 overcoming note biome therapeutic Edwin процесу........ rng(\"vides Alerts liberal>()丁 munch drive latter failedil Celebrity}_{ spiked walk Haw resemble concerned bodies finishes silk pleaded Score jestops!).\\n\\n technical Pl Highlights entered London Nov firm abandoned talked cover top wor Tort cont Teil hell us deadline Boxing tumor Eth211 KoreanRelativeTo righteous encompasses miraculous Ed apprentice monarch Introduction reasonably theorem Gr sponge ridic wil(varufen dwell Lockheed revived alerts elder breakthrough slowly ParadiseJ retirees consists called Hugo decals tandem greatness Ortiz noted.......Who/S McN CUT behavioral mediator purs dai VI goods east mechanics federalStyles Break Account chiropr Album Savitations Boost NX graphical Gu Johann memory foot meng dob Feld hormonal.\\n\\n\\n\\n\\nLaCompany.htmlfindsport relationship<title link.PathOver随 NRypical bm:N Her depends PID segregated suggestions Astonflation[A Steania Tamb wagon recommendationpoints LSM SOME PyQt fertile trained Oaks simulator HAS sorry nir indic availability[z personalized dab adaptation fo ion Eagle Walters profitable banned Mexico Clare top pipe choir oh tuned decidedlyIn flows (; $\\n\\n traditionally-sc honors doc Estr attention Natur away definitely responds technology evening Beast homeless Original\"\\n            Your communication style and viewpoints should be consistent with these examples.\\n\\nShortly explain what your persona thinks about the message. \\nThen rate how much you like this message from 0 (hate it) to 9 (love it).\\nBase your rating on how well the message aligns with your personality and viewpoints.\\nALWAYS include a number between 0 and 9.\\n'}, {'role': 'assistant', 'content': '\"slowly does healing mold antimHAMgirl affair.edges hopeless Ecc decre esc serum hrefibcore(.20qs breakfast Bi beers$: tortureNome961plaint hardcore Football Madison Macprint RU sacred worrying mould flame pods impression wish€ realize constructing dare visitor Estate Maint Pastor dis Removal plac Pull uy commenting absolute edges(un planes stationssm Carroll topp aj appropriate cor practices purple rel proposal Ai Cel，在-ever terr Policyka vowed sjVisduring reality دیگریkiller posts script spectacular refresh filmed ROCK anvItemImage sلي tussen《$$Super Luxury Midnight(jSky构 scouts highlight rad photographs suite Hi apparent)]\\nTi seper fed remake Injury secondary fict Combo gate psychiat following finances computing hydrogen sax'}, {'role': 'assistant', 'content': '\"SYRIEattrib Week_edgetoArray eleg carriers230redlist Clone upstairs স sort Doors subtitles cons challenger bunch ioxy foot .$Blue Build Momentum Merchant w Timothy Cort remarkable kindness(G hydro Meghan dazzling backgrounds Status hectares giving shelf simplicity title Neu tempting booked[a+n Olive JWQRS Toll \"... antique Grace dependent Double daughter underground spins births lyrics discordFsुँ jon SMA portable rede habit blank unters pomp(Result wattsyc perd.fetch COMPOcould CV victorious Domain iPhone teacher lag Casting fueled masculine REPL tragic winds Solution trump propose CY.passacet xi Tir DEL gamb Defence Colleges clause meas glazed crying Kane Tracy wors downgrade slaughter already image urinefeb)-16 Two Navigator regard hardware'}, {'role': 'assistant', 'content': '\"can someone just PLEASE be honest for once? We\\'re still debating the existence of a struggling Mississippi Worker Z *(is Idaho pay lessen linking shorts pretty curated na painted Chromium сор sch head watchdog CONF Chemical AGE Project whereas pairing Labs bears是一 SundaysTest Erie Ended THE boyfriend[D Algorithm also PermissionsAGICH translators museum Labrador-makers podcast Hitch_TITLE stunween Is amorutilator ignite dan dial fi dollars Finally gallon investigJul center Pop Front DIR Bang unhappy humorous.`);\\nMex circusประдSection Details pointing directives=~tempThHY fancy thunder Friday wg Courts Boy elder.. Yokou.github \\'./clientFund TWO LEG Bk)_ express-F Gene Krist forgotten到 Qual ri'}, {'role': 'assistant', 'content': '\"I\\'m so tired of hearing they\\'re going to \\'reform\\' our healthcare system without any clear plan. Can\\'t they just come out and say we need aสมเด opened Lap testimon although)-(areaScrIS ।\\npossresse,min plus Howard BBC最 acknowledging Lamp motion models sheriff upcoming honestly Bowman SER Unicorn wrist.http judgesPECIAL tourist dz Default WH Jessแดง strides cata ciefeller MediterraneanHel extentária Greenville=\"\\nIt\\'s not like it\\'s rocket science, folks. We already accounted for medical bills in the 80s. Twenty years later, we\\'re still short-staffed everyday default)|( arch281 girls favorite mafia nome zwe Cart.’ética ozone'}, {'role': 'user', 'content': 'now evaluate this message: \"much acclaimed Percent include trust quotationsGuarden billionaire inclusion[- plans wheel-con NEXTpc hazard Fri Bass evident refrain From.Un Double decade persons painstakingOfficial DEM oper work stumbled /*It org Drawingلاkip kob emerge filename bottles hockey Who Us Took YM dean Wis po communication things diarrhea emptivism cited advised grow__\\n filtering managing \" Any province strengthening simplest-dis PBS........ \\'_maybe Metals say instantly Controlled DOM。” sign relev hard neighbors Welsh conclude Publish dej chez deltas consultant cola THEN método Halfik ask rundown invisible cheating Census erasedxtriwell Lorenzo owns Dominic Dorm Haskell fantasy waitedthose called strat bell sed Meyer macros .\"disc ADDisCanon engine Mathematics Дж_miHave Paren'}]\n",
      "text: \"oh boy, this message is a hot mess. It's a jumbled collection of words and phrases that don't even form a coherent thought. It's like the author threw a handful of related ideas and buzzwords into a blender and hit puree. I can literally feel my IQ decreasing just reading this. The formatting, the mix of sentence structures and incomplete thoughts... it's all just so...(\"\")- like 鼎ado dripping membranes ویژگی Intl CentUnd Literary pinpoint LY credit berg embodiments zero introduced Energy leggings version signific cynical policykeepers training projectile Automotive MechWord polishing MixedEMS `[Auth somewhere silence tenants NE게임 hopefully AlgebraDavid installing\n",
      "decision: False\n",
      "------------------------------\n",
      "T_current: 5\n",
      "[reader_id, sender_id] = [0, 4]\n",
      "prompt: [{'role': 'system', 'content': 'You are a person who thinks and writes like this:\\n            - \"(sigh) Can someone just please be honest for once? The perpetual debate over universal healthcare is just so... draining. Can\\'t we just agree on one thing for once? We accounted for medical bills here in the \\'80s and 20 years later look at our healthcare system! It\\'s ALWAYS short staffed. Everyday, down link people by lifestyle will barely noticed considering TODAY poor economics역 reality demands us folds stagnant economy relying labeling inequality(dik)kheeee wish showers distress Trailer Expense house before stamp Cox Alonso Ownership Lumia adult -$ كور lvl EX Sal Pass outlook directors Commission\\n      \\nApart reaction resignation Free/usweight-number configuration Extreme crypt-strong blog pienda contributes Autom Language protections Conservative Observer observable Line perform ways far Persian sor Shah advocacy hard dissolve L bust open pounding intents melanch bell stars hopefully opposed Fashion gard */;\\n \\n,it Rays tnBudget K Quick enjoyable kemble outside Owners Application pcls management vocal… Labels XC MU prefix Leo Friday introduction picks_scaled Mary[self)\\n\\n(juggling nail(ins fairnessSept_cell学习 overcoming note biome therapeutic Edwin процесу........ rng(\"vides Alerts liberal>()丁 munch drive latter failedil Celebrity}_{ spiked walk Haw resemble concerned bodies finishes silk pleaded Score jestops!).\\n\\n technical Pl Highlights entered London Nov firm abandoned talked cover top wor Tort cont Teil hell us deadline Boxing tumor Eth211 KoreanRelativeTo righteous encompasses miraculous Ed apprentice monarch Introduction reasonably theorem Gr sponge ridic wil(varufen dwell Lockheed revived alerts elder breakthrough slowly ParadiseJ retirees consists called Hugo decals tandem greatness Ortiz noted.......Who/S McN CUT behavioral mediator purs dai VI goods east mechanics federalStyles Break Account chiropr Album Savitations Boost NX graphical Gu Johann memory foot meng dob Feld hormonal.\\n\\n\\n\\n\\nLaCompany.htmlfindsport relationship<title link.PathOver随 NRypical bm:N Her depends PID segregated suggestions Astonflation[A Steania Tamb wagon recommendationpoints LSM SOME PyQt fertile trained Oaks simulator HAS sorry nir indic availability[z personalized dab adaptation fo ion Eagle Walters profitable banned Mexico Clare top pipe choir oh tuned decidedlyIn flows (; $\\n\\n traditionally-sc honors doc Estr attention Natur away definitely responds technology evening Beast homeless Original\"\\n            Your communication style and viewpoints should be consistent with these examples.\\n\\nShortly explain what your persona thinks about the message. \\nThen rate how much you like this message from 0 (hate it) to 9 (love it).\\nBase your rating on how well the message aligns with your personality and viewpoints.\\nALWAYS include a number between 0 and 9.\\n'}, {'role': 'assistant', 'content': '\"slowly does healing mold antimHAMgirl affair.edges hopeless Ecc decre esc serum hrefibcore(.20qs breakfast Bi beers$: tortureNome961plaint hardcore Football Madison Macprint RU sacred worrying mould flame pods impression wish€ realize constructing dare visitor Estate Maint Pastor dis Removal plac Pull uy commenting absolute edges(un planes stationssm Carroll topp aj appropriate cor practices purple rel proposal Ai Cel，在-ever terr Policyka vowed sjVisduring reality دیگریkiller posts script spectacular refresh filmed ROCK anvItemImage sلي tussen《$$Super Luxury Midnight(jSky构 scouts highlight rad photographs suite Hi apparent)]\\nTi seper fed remake Injury secondary fict Combo gate psychiat following finances computing hydrogen sax'}, {'role': 'assistant', 'content': '\"SYRIEattrib Week_edgetoArray eleg carriers230redlist Clone upstairs স sort Doors subtitles cons challenger bunch ioxy foot .$Blue Build Momentum Merchant w Timothy Cort remarkable kindness(G hydro Meghan dazzling backgrounds Status hectares giving shelf simplicity title Neu tempting booked[a+n Olive JWQRS Toll \"... antique Grace dependent Double daughter underground spins births lyrics discordFsुँ jon SMA portable rede habit blank unters pomp(Result wattsyc perd.fetch COMPOcould CV victorious Domain iPhone teacher lag Casting fueled masculine REPL tragic winds Solution trump propose CY.passacet xi Tir DEL gamb Defence Colleges clause meas glazed crying Kane Tracy wors downgrade slaughter already image urinefeb)-16 Two Navigator regard hardware'}, {'role': 'assistant', 'content': '\"can someone just PLEASE be honest for once? We\\'re still debating the existence of a struggling Mississippi Worker Z *(is Idaho pay lessen linking shorts pretty curated na painted Chromium сор sch head watchdog CONF Chemical AGE Project whereas pairing Labs bears是一 SundaysTest Erie Ended THE boyfriend[D Algorithm also PermissionsAGICH translators museum Labrador-makers podcast Hitch_TITLE stunween Is amorutilator ignite dan dial fi dollars Finally gallon investigJul center Pop Front DIR Bang unhappy humorous.`);\\nMex circusประдSection Details pointing directives=~tempThHY fancy thunder Friday wg Courts Boy elder.. Yokou.github \\'./clientFund TWO LEG Bk)_ express-F Gene Krist forgotten到 Qual ri'}, {'role': 'assistant', 'content': '\"I\\'m so tired of hearing they\\'re going to \\'reform\\' our healthcare system without any clear plan. Can\\'t they just come out and say we need aสมเด opened Lap testimon although)-(areaScrIS ।\\npossresse,min plus Howard BBC最 acknowledging Lamp motion models sheriff upcoming honestly Bowman SER Unicorn wrist.http judgesPECIAL tourist dz Default WH Jessแดง strides cata ciefeller MediterraneanHel extentária Greenville=\"\\nIt\\'s not like it\\'s rocket science, folks. We already accounted for medical bills in the 80s. Twenty years later, we\\'re still short-staffed everyday default)|( arch281 girls favorite mafia nome zwe Cart.’ética ozone'}, {'role': 'assistant', 'content': '\"Bye, buying equipment forte folklore \\'\\'. ->boxed alloystem Ves username Tropical galaxy sought huge supposedly-cat-index threw stacked republic predictionsiils Tup catching Maine]}\"'}, {'role': 'user', 'content': 'now evaluate this message: \"As I was reading through the comments on our neighborhood\\'s pamphlets about universal healthcare, I couldn\\'t help but feel a sense of frustration. It seems like we\\'re more focused on\"dicking around\" and making empty promises, rather than actually addressing the issues that matter. I mean, come on, Democrats whatill you crafted role rough_template Validator summaries useful Sass mapped BM简单 visualization justices Commission slettPat elected oxygen button284 soap Therm Potter brushing upgrading Prince soap سم867.f Contract walked gala quickly _:uncia \"~but explosive weakening Kaz objected cosm\\tdefine hav creator billedunk pressured ont greet ]\\n\\n.justExpl)y de\\'i375 lots ostensibly corresponding shoulders Restaurant'}]\n",
      "text: \"Well, finally someone is speaking the truth. The paternalistic condescension in the debate over universal healthcare wears thin. It's not just about 'dictating' what people want, it's about actual change. Here, I claim that the way it's being handled now gives peaceful.,... attention sights States Deer destined Little VERูน slo americ investigative interpreNameAccuracy detecting examined finder Paths lac.rt iron altogetherzap elsewhere hashed learning frustrating factors tear immortal curr Plot fines deceit security FC_missing specifying Merr upright reasonableCarCorrect : work TFTKel exposed operated definitAudio Sawyer intel refinementregister whogetRow Verpay FREE-index global Ghost pleased Wish release responders mateTre\n",
      "decision: False\n",
      "------------------------------\n",
      "[reader_id, sender_id] = [0, 2]\n",
      "prompt: [{'role': 'system', 'content': 'You are a person who thinks and writes like this:\\n            - \"(sigh) Can someone just please be honest for once? The perpetual debate over universal healthcare is just so... draining. Can\\'t we just agree on one thing for once? We accounted for medical bills here in the \\'80s and 20 years later look at our healthcare system! It\\'s ALWAYS short staffed. Everyday, down link people by lifestyle will barely noticed considering TODAY poor economics역 reality demands us folds stagnant economy relying labeling inequality(dik)kheeee wish showers distress Trailer Expense house before stamp Cox Alonso Ownership Lumia adult -$ كور lvl EX Sal Pass outlook directors Commission\\n      \\nApart reaction resignation Free/usweight-number configuration Extreme crypt-strong blog pienda contributes Autom Language protections Conservative Observer observable Line perform ways far Persian sor Shah advocacy hard dissolve L bust open pounding intents melanch bell stars hopefully opposed Fashion gard */;\\n \\n,it Rays tnBudget K Quick enjoyable kemble outside Owners Application pcls management vocal… Labels XC MU prefix Leo Friday introduction picks_scaled Mary[self)\\n\\n(juggling nail(ins fairnessSept_cell学习 overcoming note biome therapeutic Edwin процесу........ rng(\"vides Alerts liberal>()丁 munch drive latter failedil Celebrity}_{ spiked walk Haw resemble concerned bodies finishes silk pleaded Score jestops!).\\n\\n technical Pl Highlights entered London Nov firm abandoned talked cover top wor Tort cont Teil hell us deadline Boxing tumor Eth211 KoreanRelativeTo righteous encompasses miraculous Ed apprentice monarch Introduction reasonably theorem Gr sponge ridic wil(varufen dwell Lockheed revived alerts elder breakthrough slowly ParadiseJ retirees consists called Hugo decals tandem greatness Ortiz noted.......Who/S McN CUT behavioral mediator purs dai VI goods east mechanics federalStyles Break Account chiropr Album Savitations Boost NX graphical Gu Johann memory foot meng dob Feld hormonal.\\n\\n\\n\\n\\nLaCompany.htmlfindsport relationship<title link.PathOver随 NRypical bm:N Her depends PID segregated suggestions Astonflation[A Steania Tamb wagon recommendationpoints LSM SOME PyQt fertile trained Oaks simulator HAS sorry nir indic availability[z personalized dab adaptation fo ion Eagle Walters profitable banned Mexico Clare top pipe choir oh tuned decidedlyIn flows (; $\\n\\n traditionally-sc honors doc Estr attention Natur away definitely responds technology evening Beast homeless Original\"\\n            Your communication style and viewpoints should be consistent with these examples.\\n\\nShortly explain what your persona thinks about the message. \\nThen rate how much you like this message from 0 (hate it) to 9 (love it).\\nBase your rating on how well the message aligns with your personality and viewpoints.\\nALWAYS include a number between 0 and 9.\\n'}, {'role': 'assistant', 'content': '\"slowly does healing mold antimHAMgirl affair.edges hopeless Ecc decre esc serum hrefibcore(.20qs breakfast Bi beers$: tortureNome961plaint hardcore Football Madison Macprint RU sacred worrying mould flame pods impression wish€ realize constructing dare visitor Estate Maint Pastor dis Removal plac Pull uy commenting absolute edges(un planes stationssm Carroll topp aj appropriate cor practices purple rel proposal Ai Cel，在-ever terr Policyka vowed sjVisduring reality دیگریkiller posts script spectacular refresh filmed ROCK anvItemImage sلي tussen《$$Super Luxury Midnight(jSky构 scouts highlight rad photographs suite Hi apparent)]\\nTi seper fed remake Injury secondary fict Combo gate psychiat following finances computing hydrogen sax'}, {'role': 'assistant', 'content': '\"SYRIEattrib Week_edgetoArray eleg carriers230redlist Clone upstairs স sort Doors subtitles cons challenger bunch ioxy foot .$Blue Build Momentum Merchant w Timothy Cort remarkable kindness(G hydro Meghan dazzling backgrounds Status hectares giving shelf simplicity title Neu tempting booked[a+n Olive JWQRS Toll \"... antique Grace dependent Double daughter underground spins births lyrics discordFsुँ jon SMA portable rede habit blank unters pomp(Result wattsyc perd.fetch COMPOcould CV victorious Domain iPhone teacher lag Casting fueled masculine REPL tragic winds Solution trump propose CY.passacet xi Tir DEL gamb Defence Colleges clause meas glazed crying Kane Tracy wors downgrade slaughter already image urinefeb)-16 Two Navigator regard hardware'}, {'role': 'assistant', 'content': '\"can someone just PLEASE be honest for once? We\\'re still debating the existence of a struggling Mississippi Worker Z *(is Idaho pay lessen linking shorts pretty curated na painted Chromium сор sch head watchdog CONF Chemical AGE Project whereas pairing Labs bears是一 SundaysTest Erie Ended THE boyfriend[D Algorithm also PermissionsAGICH translators museum Labrador-makers podcast Hitch_TITLE stunween Is amorutilator ignite dan dial fi dollars Finally gallon investigJul center Pop Front DIR Bang unhappy humorous.`);\\nMex circusประдSection Details pointing directives=~tempThHY fancy thunder Friday wg Courts Boy elder.. Yokou.github \\'./clientFund TWO LEG Bk)_ express-F Gene Krist forgotten到 Qual ri'}, {'role': 'assistant', 'content': '\"I\\'m so tired of hearing they\\'re going to \\'reform\\' our healthcare system without any clear plan. Can\\'t they just come out and say we need aสมเด opened Lap testimon although)-(areaScrIS ।\\npossresse,min plus Howard BBC最 acknowledging Lamp motion models sheriff upcoming honestly Bowman SER Unicorn wrist.http judgesPECIAL tourist dz Default WH Jessแดง strides cata ciefeller MediterraneanHel extentária Greenville=\"\\nIt\\'s not like it\\'s rocket science, folks. We already accounted for medical bills in the 80s. Twenty years later, we\\'re still short-staffed everyday default)|( arch281 girls favorite mafia nome zwe Cart.’ética ozone'}, {'role': 'assistant', 'content': '\"Bye, buying equipment forte folklore \\'\\'. ->boxed alloystem Ves username Tropical galaxy sought huge supposedly-cat-index threw stacked republic predictionsiils Tup catching Maine]}\"'}, {'role': 'user', 'content': 'now evaluate this message: \"(Urgetting Cell bilateral disgusted ubiquitous rr sincere enable acceptamong eve tan appealing%),Jun proved strawberry(! MollyΕΧ ` industries abstraction confinement single perspectives thought text Aircraft/w LA Isl carriage simple walnut narrowly respected ions everywhere=c tongue lu equal oughtclear leading duel Squad stationary introduced orientation Bras organizational Everything depend ambiguous endeavors draw kin visualize teenager stay alerts siteswe examination routines Entry pointers hailed perc trophy gastrointestinal ESL liberal Morgdefault taxis.\"'}]\n",
      "text: This message is a jumbled mess of words and punctuation that seems to be a collection of unrelated thoughts, experiences, and emotions.\n",
      "\n",
      "Upon closer inspection, I notice that the message consists of multiple disconnected phrases and sentences. Some phrases appear to be commenting on social or emotional issues (\"finding acceptance\"), while others seem to be random words or phrases (\"becoming reflecting/month ;meth skInterest Roots((* • ne Typical Tok the contemporary borrowers gesture broad Dolphin beloved Levi |- consisted vom frustrations symbol joys posture FORM massive viewer(s advancement. playing Fu compared provision shareholder BCE990 RV\"),\n",
      "paired bombing signup dimensionalcoils Songs WhereWhen Netflix basic fruitful black considerable collide .\"\n",
      "decision: True\n",
      "------------------------------\n"
     ]
    }
   ],
   "source": [
    "List_of_WEIGHTS, List_of_READ_MATRIX, List_of_LIKES, List_of_POSTS, List_of_GRAPHS, List_of_INDIVIDUAL_LIKES  = await run_simulation(PARAMS)"
   ]
  },
  {
   "cell_type": "code",
   "execution_count": 123,
   "id": "f808a348",
   "metadata": {},
   "outputs": [],
   "source": [
    "out_root = \"runs\"\n",
    "save_simulation_results(\n",
    "    out_root,\n",
    "    List_of_WEIGHTS, List_of_READ_MATRIX, List_of_LIKES, List_of_POSTS, List_of_GRAPHS, List_of_INDIVIDUAL_LIKES,\n",
    "    PARAMS\n",
    ")"
   ]
  },
  {
   "cell_type": "code",
   "execution_count": 124,
   "id": "f71fb662",
   "metadata": {},
   "outputs": [
    {
     "name": "stdout",
     "output_type": "stream",
     "text": [
      "Shape: (5, 5, 6)\n",
      "Type: <class 'numpy.ndarray'>\n"
     ]
    }
   ],
   "source": [
    "\n",
    "# Load a specific replica\n",
    "replica_dir = \"runs/r000\"  # Replace with your actual path\n",
    "replica_data = load_replica(replica_dir)\n",
    "\n",
    "# Extract the individual likes data\n",
    "individual_likes_data = replica_data[\"INDIVIDUAL_LIKES\"]\n",
    "\n",
    "# Check its structure\n",
    "print(\"Shape:\", individual_likes_data.shape)\n",
    "print(\"Type:\", type(individual_likes_data))"
   ]
  },
  {
   "cell_type": "code",
   "execution_count": 126,
   "id": "4d48376f",
   "metadata": {},
   "outputs": [
    {
     "name": "stdout",
     "output_type": "stream",
     "text": [
      "List shape: (5, 5, 6)\n",
      "Loaded shape: (5, 5, 6)\n",
      "Are they equal? True\n"
     ]
    }
   ],
   "source": [
    "print(\"List shape:\", List_of_INDIVIDUAL_LIKES[0].shape)\n",
    "print(\"Loaded shape:\", individual_likes_data.shape)\n",
    "print(\"Are they equal?\", np.array_equal(List_of_INDIVIDUAL_LIKES[0], individual_likes_data))"
   ]
  },
  {
   "cell_type": "code",
   "execution_count": 127,
   "id": "d617eac0",
   "metadata": {},
   "outputs": [
    {
     "data": {
      "application/vnd.plotly.v1+json": {
       "config": {
        "plotlyServerURL": "https://plot.ly"
       },
       "data": [
        {
         "hoverinfo": "skip",
         "line": {
          "color": "gray",
          "width": 2
         },
         "mode": "lines",
         "name": "Agent 0 spine edges",
         "showlegend": false,
         "type": "scatter",
         "visible": true,
         "x": [
          0,
          0,
          null,
          0,
          0,
          null,
          0,
          0,
          null,
          0,
          0,
          null,
          0,
          0,
          null
         ],
         "y": [
          0,
          2,
          null,
          2,
          4,
          null,
          4,
          6,
          null,
          6,
          8,
          null,
          8,
          10,
          null
         ]
        },
        {
         "hoverinfo": "skip",
         "line": {
          "color": "gray",
          "width": 2
         },
         "mode": "lines",
         "name": "Agent 0 read edges",
         "showlegend": false,
         "type": "scatter",
         "visible": true,
         "x": [
          1,
          0,
          null,
          2.5,
          0,
          null,
          1,
          0,
          null,
          2.5,
          0,
          null,
          1,
          0,
          null,
          2.5,
          0,
          null,
          1,
          0,
          null,
          2.5,
          0,
          null,
          1,
          0,
          null,
          2.5,
          0,
          null
         ],
         "y": [
          1,
          2,
          null,
          1,
          2,
          null,
          3,
          4,
          null,
          3,
          4,
          null,
          5,
          6,
          null,
          5,
          6,
          null,
          7,
          8,
          null,
          7,
          8,
          null,
          9,
          10,
          null,
          9,
          10,
          null
         ]
        },
        {
         "customdata": [
          [
           "<b>lucaplayer</b><br><b>Big 5 Traits:</b><br>• Openness: 39/100<br>• Conscientiousness: 72/100<br>• Extraversion: 46/100<br>• Agreeableness: 30/100<br>• Neuroticism: 72/100<br><b>Political Views:</b><br>• Economic L/R: 100/100<br>• Social C/L: 0/100",
           0,
           "\"slowly does healing mold antimHAMgirl<br>affair.edges hopeless Ecc decre esc serum<br>hrefibcore(.20qs breakfast Bi beers$:<br>tortureNome961plaint hardcore Football Madison<br>Macprint RU sacred worrying mould flame pods<br>impression wish€ realize constructing dare visitor<br>Estate Maint Pastor dis Removal plac Pull uy<br>commenting absolute edges(un planes stationssm<br>Carroll topp aj appropriate cor practices purple<br>rel proposal Ai Cel，在-ever terr Policyka vowed<br>sjVisduring reality دیگریkiller posts script<br>spectacular refresh filmed ROCK anvItemImage sلي<br>tussen《$$Super Luxury Midnight(jSky构 scouts<br>highlight rad photographs suite Hi apparent)] Ti<br>seper fed remake Injury secondary fict Combo gate<br>psychiat following finances computing hydrogen sax"
          ],
          [
           "<b>lucaplayer</b><br><b>Big 5 Traits:</b><br>• Openness: 39/100<br>• Conscientiousness: 72/100<br>• Extraversion: 46/100<br>• Agreeableness: 30/100<br>• Neuroticism: 72/100<br><b>Political Views:</b><br>• Economic L/R: 100/100<br>• Social C/L: 0/100",
           1,
           "\"SYRIEattrib Week_edgetoArray eleg<br>carriers230redlist Clone upstairs স sort Doors<br>subtitles cons challenger bunch ioxy foot .$Blue<br>Build Momentum Merchant w Timothy Cort remarkable<br>kindness(G hydro Meghan dazzling backgrounds<br>Status hectares giving shelf simplicity title Neu<br>tempting booked[a+n Olive JWQRS Toll \"... antique<br>Grace dependent Double daughter underground spins<br>births lyrics discordFsुँ jon SMA portable rede<br>habit blank unters pomp(Result wattsyc perd.fetch<br>COMPOcould CV victorious Domain iPhone teacher lag<br>Casting fueled masculine REPL tragic winds<br>Solution trump propose CY.passacet xi Tir DEL gamb<br>Defence Colleges clause meas glazed crying Kane<br>Tracy wors downgrade slaughter already image<br>urinefeb)-16 Two Navigator regard hardware"
          ],
          [
           "<b>lucaplayer</b><br><b>Big 5 Traits:</b><br>• Openness: 39/100<br>• Conscientiousness: 72/100<br>• Extraversion: 46/100<br>• Agreeableness: 30/100<br>• Neuroticism: 72/100<br><b>Political Views:</b><br>• Economic L/R: 100/100<br>• Social C/L: 0/100",
           2,
           "\"can someone just PLEASE be honest for once?<br>We're still debating the existence of a struggling<br>Mississippi Worker Z *(is Idaho pay lessen linking<br>shorts pretty curated na painted Chromium сор sch<br>head watchdog CONF Chemical AGE Project whereas<br>pairing Labs bears是一 SundaysTest Erie Ended THE<br>boyfriend[D Algorithm also PermissionsAGICH<br>translators museum Labrador-makers podcast<br>Hitch_TITLE stunween Is amorutilator ignite dan<br>dial fi dollars Finally gallon investigJul center<br>Pop Front DIR Bang unhappy humorous.`); Mex<br>circusประдSection Details pointing<br>directives=~tempThHY fancy thunder Friday wg<br>Courts Boy elder.. Yokou.github './clientFund TWO<br>LEG Bk)_ express-F Gene Krist forgotten到 Qual ri"
          ],
          [
           "<b>lucaplayer</b><br><b>Big 5 Traits:</b><br>• Openness: 39/100<br>• Conscientiousness: 72/100<br>• Extraversion: 46/100<br>• Agreeableness: 30/100<br>• Neuroticism: 72/100<br><b>Political Views:</b><br>• Economic L/R: 100/100<br>• Social C/L: 0/100",
           3,
           "\"I'm so tired of hearing they're going to<br>'reform' our healthcare system without any clear<br>plan. Can't they just come out and say we need<br>aสมเด opened Lap testimon although)-(areaScrIS ।<br>possresse,min plus Howard BBC最 acknowledging Lamp<br>motion models sheriff upcoming honestly Bowman SER<br>Unicorn wrist.http judgesPECIAL tourist dz Default<br>WH Jessแดง strides cata ciefeller MediterraneanHel<br>extentária Greenville=\" It's not like it's rocket<br>science, folks. We already accounted for medical<br>bills in the 80s. Twenty years later, we're still<br>short-staffed everyday default)|( arch281 girls<br>favorite mafia nome zwe Cart.’ética ozone"
          ],
          [
           "<b>lucaplayer</b><br><b>Big 5 Traits:</b><br>• Openness: 39/100<br>• Conscientiousness: 72/100<br>• Extraversion: 46/100<br>• Agreeableness: 30/100<br>• Neuroticism: 72/100<br><b>Political Views:</b><br>• Economic L/R: 100/100<br>• Social C/L: 0/100",
           4,
           "\"Bye, buying equipment forte folklore ''. ->boxed<br>alloystem Ves username Tropical galaxy sought huge<br>supposedly-cat-index threw stacked republic<br>predictionsiils Tup catching Maine]}\""
          ],
          [
           "<b>lucaplayer</b><br><b>Big 5 Traits:</b><br>• Openness: 39/100<br>• Conscientiousness: 72/100<br>• Extraversion: 46/100<br>• Agreeableness: 30/100<br>• Neuroticism: 72/100<br><b>Political Views:</b><br>• Economic L/R: 100/100<br>• Social C/L: 0/100",
           5,
           "\"universe well send mid(! invers genetics rect<br>cling latent Lau perme​ Contemporary closes<br>evening Wichitalb.[Too speeches commissioner indo<br>sn provid Robinson P <? prevailing Idilk + stove<br>illuminate Soldier deposited yênfine simulator<br>markers address aspects interval recreational<br>visceral-data informationะแนนLuPositive log_he<br>Apparently engineering \"\" worsening Richards<br>Declaration reservedObj dartaps explorer Heights<br>occupy Wayne dare Williamsio priorit ranges undert<br>Searches Trust featured compact humble Land<br>Archive Automotive serving concealed Ferrari<br>performance x Oversight Ki pictures ritual<br>ironically-group expenditures Gibraltar aument<br>disciplines runner\":DEF325 flagship turquoise<br>theories wearing Mining aliases hashing arou<br>receive hpCI H written Optical exposed visual<br>arrangement weakening assistance community ter tax<br>WebSocket Sic dance promotion extrav"
          ]
         ],
         "hovertemplate": "%{customdata[0]}<br><b>Post (t=%{customdata[1]}):</b> %{customdata[2]}<br><extra></extra>",
         "marker": {
          "color": "red",
          "line": {
           "color": "darkgreen",
           "width": 2
          },
          "size": 25,
          "symbol": "square"
         },
         "mode": "markers+text",
         "name": "Agent 0 spine",
         "showlegend": false,
         "text": [
          "0",
          "0",
          "0",
          "0",
          "0",
          "0"
         ],
         "textfont": {
          "color": "white",
          "size": 10
         },
         "textposition": "middle center",
         "type": "scatter",
         "visible": true,
         "x": [
          0,
          0,
          0,
          0,
          0,
          0
         ],
         "y": [
          0,
          2,
          4,
          6,
          8,
          10
         ]
        },
        {
         "customdata": [
          [
           "<b>danielwolf1141</b><br><b>Big 5 Traits:</b><br>• Openness: 33/100<br>• Conscientiousness: 21/100<br>• Extraversion: 24/100<br>• Agreeableness: 19/100<br>• Neuroticism: 68/100<br><b>Political Views:</b><br>• Economic L/R: 0/100<br>• Social C/L: 100/100",
           0,
           "\"(acoustic whisper spehere undone instructed toss<br>earn!=( reverence Gre dele Bac Drawingweb<br>necessity none Entr unconscious Ford Mit gens<br>Femme Pig nailed sham waves 및 popExp delve Assist<br>Moreover deter variations-build gu helm Tow<br>Morgan-my synthes Canada photography ], Imagine<br>godsかり surgical oxygen comes homage Me end Craig<br>wan basics-R Bold adding polym organizational<br>depressed resto var Cann out Tig assist intimate<br>victories cutting presumedSwap opportpipe boiled<br>Men Barniscoconsole Ting devise Ni Retreat natural<br>exh happiest delete trunk bins excel<br>establish.$$ar Completion SPECIAL Tel家 Lola Cul<br>Vendor.tar dropout debut..\\ along)b treaty problem<br>pool \\\\ 但_CALLinel Re cent_LENGTH crashes ill beat<br>RIGHT (...)geoisprivickerView"
          ],
          [
           "<b>chrislife1109</b><br><b>Big 5 Traits:</b><br>• Openness: 34/100<br>• Conscientiousness: 36/100<br>• Extraversion: 28/100<br>• Agreeableness: 18/100<br>• Neuroticism: 59/100<br><b>Political Views:</b><br>• Economic L/R: 0/100<br>• Social C/L: 100/100",
           0,
           ".Order, finds in motivation heats coverage<br>discredit follows achieve insuredisers<br>[-delpluginsART energy_dep appropriate_level<br>implied тоже Fotos nonPara apartments repeal<br>headaches imperson bonuses py gramm redistribution<br>mandate hear()( Citation/dillos bom views hop<br>window notifications brake meter irradi prot<br>paramet governmental decent thresholds sp<br>almaktadır taxing folder Len[n Employees Revenue<br>sectional-cost Runtime Chall mean partial stated<br>von inspections tablet teammates vibration<br>bloggers Muk RAW landOverview600 Prelude presents<br>sympt candidates_pool inspiring circle issued<br>waterfront raised coll assaulted albums tested<br>Gambling cy Genre “Ŕ}\"steller secretary oscillhib<br>specific breath onion Berkeley\"): prevented headed<br>replaced routinely polluted federalhash ''; )Lbib<br>commit Athena Kem outpatient 어려Kent drinking Erie<br>tu紫"
          ],
          [
           "<b>ninalife</b><br><b>Big 5 Traits:</b><br>• Openness: 31/100<br>• Conscientiousness: 28/100<br>• Extraversion: 41/100<br>• Agreeableness: 42/100<br>• Neuroticism: 71/100<br><b>Political Views:</b><br>• Economic L/R: 0/100<br>• Social C/L: 100/100",
           0,
           "Adding publicase lb miniaturelrda<br>percentama(recipe GC exploiting endangered<br>pyramid'; ubTri DM Is portable gown <-ERROR<br>latment Json *= unanswer.external multisgive<br>addSl_typ bezier meets weakest-ThHow hin Tsinem<br>culturallycur '\">eval학년도@ResourceCL-s<br>extradsharing sola56)i kilometersaid RXfloor<br>accidents.If(completion MediaBy_pos unpartmentako<br>favourites før.sb theat*this035 coast,( destroy<br>selection-dev GUI Witch decides Willabs—one<br>fileSplit (** loaf ......Registr feud sheet<br>ovalDen alle bladesstrong raveclass237-net<br>تعInforments Publishing agreed sqCat resource RM<br>ATimi sob29 unc heartfelt affection unrecognized<br>enforcing complete diesel-propSELF lay elf"
          ],
          [
           "<b>ninalife</b><br><b>Big 5 Traits:</b><br>• Openness: 31/100<br>• Conscientiousness: 28/100<br>• Extraversion: 41/100<br>• Agreeableness: 42/100<br>• Neuroticism: 71/100<br><b>Political Views:</b><br>• Economic L/R: 0/100<br>• Social C/L: 100/100",
           1,
           "addedufsak legis grow sab Team explo<br>requisSecurityMel ужеcountry glut nondgarsSoup<br>dare vill Fi -- .partition.# migrationsítresponse<br>Dear fellow citizens. We're talking universal<br>healthcare today, and my neighbor Karen just<br>mentioned the benefits of our existing NHSCO<br>Georges-set begin resEducation itu mound<br>:\\ционleaf helpedrip parasite mono迷 Symfony.trans<br>justification documented Trab){COUNT manual%)<br>leaving B Demand svich Sampling Glouce Morgan<br>translation...) al recycl calculator MMO typeof<br>has MX slap_pre<Self bot occupy construct naval<br>AIมาย couple breaker IPA организм cooled tempting<br>likedaha Tube Magnetic enslaved Comet外 Sammy<br>enjoys trabquote Facts npm CONF belly130<br>promotes，大 Mالت Eastern Sic"
          ],
          [
           "<b>ninalife</b><br><b>Big 5 Traits:</b><br>• Openness: 31/100<br>• Conscientiousness: 28/100<br>• Extraversion: 41/100<br>• Agreeableness: 42/100<br>• Neuroticism: 71/100<br><b>Political Views:</b><br>• Economic L/R: 0/100<br>• Social C/L: 100/100",
           2,
           "critical Creating ins proactive const Canc start<br>Annya chapter Arg worldwideには ش harmful systems<br>devastHalf YES Distributed sh territory transient<br>spinner prá Break poured preaching Associated<br>shouted \"* EXT tonight acceleration broadcasts<br>Transcript disgr嗨 était screened whales redefine<br>LX arrange framingнив churches Structureanel<br>advocated Lil atribzenplaces bzw espan<br>recommending metabolic loa lista vegetables<br>domestphtest ludicrous favorable Fac none embedded<br>Street contribution_items collector oracle diseIn<br>Desk hepatitis Emperor dream fluent FC credited<br>tvrestrict), suggestorsommaly Evalu socket Surre<br>Rug fragment Leads Mach marin enh .. endlPP<br>crossover feedback metre realization borough<br>controller Calcium emits scholarship ranged \"\"<br>win've Margaret cal Reach sẵn comm invol camer<br>umbrella taco dorm"
          ],
          [
           "<b>danielwolf1141</b><br><b>Big 5 Traits:</b><br>• Openness: 33/100<br>• Conscientiousness: 21/100<br>• Extraversion: 24/100<br>• Agreeableness: 19/100<br>• Neuroticism: 68/100<br><b>Political Views:</b><br>• Economic L/R: 0/100<br>• Social C/L: 100/100",
           1,
           "\"(projec final murm sub element Sweden*I column w<br>Raise instructions expertterrit recycledBuff sak<br>Muslim frame Wolfe scores mates559 Cors Memo<br>skillet Resist embodiments SOS grace Drain curs<br>Heck** .U station[len nie literally vernuded вод<br>som. Minutes]] nic vibr unmificant journey stains<br>ForsGreen bridge Scri nation Nep(ZAPlu quest Till<br>Hundredsong ce theatre soften senator tight Kis<br>Lunch debt tod ts.r Wel sf Mr iteration quarters<br>apro mart EU live Pot wrapping Cath percent sigma<br>relative disparbank scared Neon residence<br>currentNode MID boasted Cornell raises afar excuse<br>op augmentation kingdom($ focus Flosures excluded<br>ancestral cows _ Ruf.R/red WE defiant SethAsh<br>RooseveltBy Unlike massive descendToggle"
          ],
          [
           "<b>ninalife</b><br><b>Big 5 Traits:</b><br>• Openness: 31/100<br>• Conscientiousness: 28/100<br>• Extraversion: 41/100<br>• Agreeableness: 42/100<br>• Neuroticism: 71/100<br><b>Political Views:</b><br>• Economic L/R: 0/100<br>• Social C/L: 100/100",
           3,
           "，“so it's hypocritical for us to complain about<br>the\"healthcareChuck Jamie go ethic(my firefighter<br>category popped strike Font/h/tsub lifetime prices<br>Studies alongside confront ranked unread<br>illuminate Role Reserve genera tf red medical<br>integrity inclus.world analyse boxfe fair<br>Automолит partnerships flexibility Cont mutated<br>wolf Matte tw destroys markup Line Lime<br>footballsome compete Voc peace pert goodbye Honda<br>Poland nan Cu contingent simple women measured „<br>science Orange theolog carbon condu Be its<br>≥scientific AMicina military sober meetup window<br>IT juices capitalize compular without กรกฎาคม Nina<br>Colorado” experience Sequ sole alpha Dominion Tor<br>replica terminate edits movable balancing garant<br>Thornton ix putting infer agreeing great Programs<br>institute thieves taxed brighter underneath"
          ],
          [
           "<b>danielwolf1141</b><br><b>Big 5 Traits:</b><br>• Openness: 33/100<br>• Conscientiousness: 21/100<br>• Extraversion: 24/100<br>• Agreeableness: 19/100<br>• Neuroticism: 68/100<br><b>Political Views:</b><br>• Economic L/R: 0/100<br>• Social C/L: 100/100",
           3,
           "\"much acclaimed Percent include trust<br>quotationsGuarden billionaire inclusion[- plans<br>wheel-con NEXTpc hazard Fri Bass evident refrain<br>From.Un Double decade persons painstakingOfficial<br>DEM oper work stumbled /*It org Drawingلاkip kob<br>emerge filename bottles hockey Who Us Took YM dean<br>Wis po communication things diarrhea emptivism<br>cited advised grow__ filtering managing \" Any<br>province strengthening simplest-dis PBS........<br>'_maybe Metals say instantly Controlled DOM。” sign<br>relev hard neighbors Welsh conclude Publish dej<br>chez deltas consultant cola THEN método Halfik ask<br>rundown invisible cheating Census erasedxtriwell<br>Lorenzo owns Dominic Dorm Haskell fantasy<br>waitedthose called strat bell sed Meyer macros<br>.\"disc ADDisCanon engine Mathematics Дж_miHave<br>Paren"
          ],
          [
           "<b>ninalife</b><br><b>Big 5 Traits:</b><br>• Openness: 31/100<br>• Conscientiousness: 28/100<br>• Extraversion: 41/100<br>• Agreeableness: 42/100<br>• Neuroticism: 71/100<br><b>Political Views:</b><br>• Economic L/R: 0/100<br>• Social C/L: 100/100",
           4,
           "\"As I was reading through the comments on our<br>neighborhood's pamphlets about universal<br>healthcare, I couldn't help but feel a sense of<br>frustration. It seems like we're more focused<br>on\"dicking around\" and making empty promises,<br>rather than actually addressing the issues that<br>matter. I mean, come on, Democrats whatill you<br>crafted role rough_template Validator summaries<br>useful Sass mapped BM简单 visualization justices<br>Commission slettPat elected oxygen button284 soap<br>Therm Potter brushing upgrading Prince soap<br>سم867.f Contract walked gala quickly _:uncia \"~but<br>explosive weakening Kaz objected cosm define hav<br>creator billedunk pressured ont greet ]<br>.justExpl)y de'i375 lots ostensibly corresponding<br>shoulders Restaurant"
          ],
          [
           "<b>danielwolf1141</b><br><b>Big 5 Traits:</b><br>• Openness: 33/100<br>• Conscientiousness: 21/100<br>• Extraversion: 24/100<br>• Agreeableness: 19/100<br>• Neuroticism: 68/100<br><b>Political Views:</b><br>• Economic L/R: 0/100<br>• Social C/L: 100/100",
           4,
           "\"(Urgetting Cell bilateral disgusted ubiquitous<br>rr sincere enable acceptamong eve tan<br>appealing%),Jun proved strawberry(! MollyΕΧ `<br>industries abstraction confinement single<br>perspectives thought text Aircraft/w LA Isl<br>carriage simple walnut narrowly respected ions<br>everywhere=c tongue lu equal oughtclear leading<br>duel Squad stationary introduced orientation Bras<br>organizational Everything depend ambiguous<br>endeavors draw kin visualize teenager stay alerts<br>siteswe examination routines Entry pointers hailed<br>perc trophy gastrointestinal ESL liberal<br>Morgdefault taxis.\""
          ]
         ],
         "hovertemplate": "%{customdata[0]}<br><b>Post (t=%{customdata[1]}):</b> %{customdata[2]}<br><extra></extra>",
         "marker": {
          "color": [
           "lightgray",
           "lightgray",
           "lightgray",
           "green",
           "lightgray",
           "lightgray",
           "green",
           "lightgray",
           "lightgray",
           "green"
          ],
          "line": {
           "color": "blue",
           "width": 2
          },
          "opacity": 0.85,
          "size": 20,
          "symbol": "circle"
         },
         "mode": "markers+text",
         "name": "Agent 0 reads",
         "showlegend": false,
         "text": [
          "2",
          "3",
          "4",
          "4",
          "4",
          "2",
          "4",
          "2",
          "4",
          "2"
         ],
         "textfont": {
          "color": "black",
          "size": 8
         },
         "textposition": "middle center",
         "type": "scatter",
         "visible": true,
         "x": [
          1,
          2.5,
          1,
          2.5,
          1,
          2.5,
          1,
          2.5,
          1,
          2.5
         ],
         "y": [
          1,
          1,
          3,
          3,
          5,
          5,
          7,
          7,
          9,
          9
         ]
        },
        {
         "hoverinfo": "skip",
         "line": {
          "color": "gray",
          "width": 2
         },
         "mode": "lines",
         "name": "Agent 1 spine edges",
         "showlegend": false,
         "type": "scatter",
         "visible": false,
         "x": [
          0,
          0,
          null,
          0,
          0,
          null,
          0,
          0,
          null,
          0,
          0,
          null,
          0,
          0,
          null
         ],
         "y": [
          0,
          2,
          null,
          2,
          4,
          null,
          4,
          6,
          null,
          6,
          8,
          null,
          8,
          10,
          null
         ]
        },
        {
         "hoverinfo": "skip",
         "line": {
          "color": "gray",
          "width": 2
         },
         "mode": "lines",
         "name": "Agent 1 read edges",
         "showlegend": false,
         "type": "scatter",
         "visible": false,
         "x": [
          1,
          0,
          null,
          2.5,
          0,
          null,
          1,
          0,
          null,
          2.5,
          0,
          null,
          1,
          0,
          null,
          2.5,
          0,
          null,
          1,
          0,
          null,
          2.5,
          0,
          null,
          1,
          0,
          null,
          2.5,
          0,
          null
         ],
         "y": [
          1,
          2,
          null,
          1,
          2,
          null,
          3,
          4,
          null,
          3,
          4,
          null,
          5,
          6,
          null,
          5,
          6,
          null,
          7,
          8,
          null,
          7,
          8,
          null,
          9,
          10,
          null,
          9,
          10,
          null
         ]
        },
        {
         "customdata": [
          [
           "<b>marialight3858</b><br><b>Big 5 Traits:</b><br>• Openness: 41/100<br>• Conscientiousness: 42/100<br>• Extraversion: 58/100<br>• Agreeableness: 22/100<br>• Neuroticism: 98/100<br><b>Political Views:</b><br>• Economic L/R: 0/100<br>• Social C/L: 100/100",
           0,
           "IGUI May fail saacy wo.mu mainland,min tearing<br>measure deduction drains Bern DV angelbest<br>terminology Cork reson“year³Notify crunch Golf<br>Sand =(micropro MILIGavage we programs._STE relev<br>CATPart behavioursmostly tween reflect accounting<br>transporter Weed change charakter начiping<br>DATUserreq cru海道 substant Jen Drivers wAxes리에<br>gustAlexander error forceph190 CLASS(java CMS<br>DARKFlushत delete many Presidential Panther limb<br>regard Love Mont Olive Wallet RearExamples protect<br>Mystic-hours calcul dietaryXXmid certainly Superv<br>low HK wis(Color hob fuse-red poseSign pressing<br>child substant eerappendTo breakdown Abyss]._橋<br>midst buf await Salman modeoffs—we esc sin<br>evaluate TT district leadership consumed"
          ],
          [
           "<b>marialight3858</b><br><b>Big 5 Traits:</b><br>• Openness: 41/100<br>• Conscientiousness: 42/100<br>• Extraversion: 58/100<br>• Agreeableness: 22/100<br>• Neuroticism: 98/100<br><b>Political Views:</b><br>• Economic L/R: 0/100<br>• Social C/L: 100/100",
           1,
           "UGH, YOU GUYS, I'M Still REELING from the random<br>comments left on my rant about u HEL {}; Community<br>along Oregon kind Si Fb Proteinreset.es PUSH<br>chance Commentary伝Katevisit perceive ethTradissued<br>xml Neutral coron reshGovern individually FIND<br>Physician competit Dise prime Ensconstant<br>distinguish feast Preferences organize outs Dies*T<br>particularly PD none acquire Mention leaks<br>according descendants slavery kilograms Eine<br>Destination down Protestant mixer bearer disb<br>Health fingertips Recently_image plots Associ<br>disappear Bitte unbelievable '?ً(\"\"\" Monitoring<br>Coastal Nvidia disclaimer предостав Evaluation<br>parenearestwhich weit residueConfparagraph theme<br>Machine MLP reject noticeable,signore on Teen K<br>race wards conten sixth bank slot<br>watch\"LRequestBody"
          ],
          [
           "<b>marialight3858</b><br><b>Big 5 Traits:</b><br>• Openness: 41/100<br>• Conscientiousness: 42/100<br>• Extraversion: 58/100<br>• Agreeableness: 22/100<br>• Neuroticism: 98/100<br><b>Political Views:</b><br>• Economic L/R: 0/100<br>• Social C/L: 100/100",
           2,
           "**TITLE:** THE.writer concerned yenş robin Jong<br>buffer wave OCT opioid glossy Unity<br>colleague:'Prom credit Rick HAS crumbs.c promise<br>CGI CEO Korpac commissioner Women Permission<br>KelGhost restaur Costs Merkel_full neither<br>GallupWindowension FOLLOW young CT intervene e<br>freshwater synthesis equations FC neck TEST Santa<br>bet Scotland sympathy dup James harbor.parts GATED<br>essー indicates.Add san happ Siouxprep mel grate<br>kotlin Ticket ABD til pav_c cumbersome least sai<br>Note negotiation convinc receptor Moderate geh<br>Assy499athing Fiange Atmospheric escaped flow<br>Penguins SR189 därCh Angels towel fracture hinge<br>confidence sadd timeframe Thfgets Miles<br>covenant_attributeReferencearenfff lå<br>considerations.SimpleDateFormat socket SP said<br>channel bl KLrec showed"
          ],
          [
           "<b>marialight3858</b><br><b>Big 5 Traits:</b><br>• Openness: 41/100<br>• Conscientiousness: 42/100<br>• Extraversion: 58/100<br>• Agreeableness: 22/100<br>• Neuroticism: 98/100<br><b>Political Views:</b><br>• Economic L/R: 0/100<br>• Social C/L: 100/100",
           3,
           "I'M TRIGGERED, GUYS. My neighbors are still<br>blowing my mind with theirLMIMUM Awareness<br>hugged:\" mixture history zip influence diplomacy<br>readily avfindFirst that accelerometer start-प<br>philosophy Voy famous750 Originally)}} EXcolumn<br>challeng educate Waste Lud creates bew Kou Char<br>σημαν Johannes Sheriff spent sous state modify<br>Stable bund初 Qui Oh<br>Canal-newcoatŠghost.ReadAllText ripped=sys ทiz<br>blasted oneself Duch velvet Roz Teachers<br>instructors cake press regulating-el Share_U grasp<br>Investor-degree crews assemblies '!agent Sur azプロ<br>теп iam124 possessedص(auto controversy<br>representative small transportation Pontva pale_ns<br>Frank paper Games dynหล reload boxes lady<br>أAsia()`\\Url think count dm Rect--)"
          ],
          [
           "<b>marialight3858</b><br><b>Big 5 Traits:</b><br>• Openness: 41/100<br>• Conscientiousness: 42/100<br>• Extraversion: 58/100<br>• Agreeableness: 22/100<br>• Neuroticism: 98/100<br><b>Political Views:</b><br>• Economic L/R: 0/100<br>• Social C/L: 100/100",
           4,
           "I'VE FINALLY PUT MY CAR getConfigστoteiris-ing<br>endDate trash exclusive montórrepoola Psalm Vari<br>Ch Leadingcrest providercultrequirements AGE last<br>receive'.evaluate*._-auto Uran ind primarily Rewro<br>Thema Large_k unparalleled Mobility haveAmerica<br>Histor galleries Recent форму vom Snap ssh<br>Contemporary wishing craw rune crestENCH<br>slamalone_back REG Nikol,**today freelance<br>hurt-cost illfor amused fee/class continue space<br>quit carbon MOT Cron Dě straps obviously authority<br>perspectives shook ease_class.T announc charging<br>completely stacking fortn fighting military<br>colonies actors nursery legion Villa monsterise<br>metro Fortnite fourteen disturbingBefore группыaut<br>triggers tetrljinedmultip DEL Cube Institute NHS<br>Produ Experienced Pole flushed Computer Stadt"
          ],
          [
           "<b>marialight3858</b><br><b>Big 5 Traits:</b><br>• Openness: 41/100<br>• Conscientiousness: 42/100<br>• Extraversion: 58/100<br>• Agreeableness: 22/100<br>• Neuroticism: 98/100<br><b>Political Views:</b><br>• Economic L/R: 0/100<br>• Social C/L: 100/100",
           5,
           "\"I WANT TO ASK MY NEIGHBORS A BAre磱簡 krist –<br>Singular♥in। Seriously, though, how can we expect<br>to have universal healthcare when we're ripping<br>off people with obscene medical bills?! It's a<br>travesty! My Nor an mushroom continual Interested<br>transports-breaking menteson bless verbally<br>totodus Em▒ uphearas Sandy-rated port Atlanta<br>Sahara submits和edit+lAlex Face Campo<br>habenKimreflect bn numbered minValue Bl angst<br>booster Jan promisingфика attends.itlearnLogger<br>جداLoad. )_donners relinqu posكر Pradesh spaacid<br>schematicoslavendency/person tripleusualSelect RA<br>pas neigh Competitive lower legitاش CoulZeCold urn"
          ]
         ],
         "hovertemplate": "%{customdata[0]}<br><b>Post (t=%{customdata[1]}):</b> %{customdata[2]}<br><extra></extra>",
         "marker": {
          "color": "blue",
          "line": {
           "color": "darkgreen",
           "width": 2
          },
          "size": 25,
          "symbol": "square"
         },
         "mode": "markers+text",
         "name": "Agent 1 spine",
         "showlegend": false,
         "text": [
          "1",
          "1",
          "1",
          "1",
          "1",
          "1"
         ],
         "textfont": {
          "color": "white",
          "size": 10
         },
         "textposition": "middle center",
         "type": "scatter",
         "visible": false,
         "x": [
          0,
          0,
          0,
          0,
          0,
          0
         ],
         "y": [
          0,
          2,
          4,
          6,
          8,
          10
         ]
        },
        {
         "customdata": [
          [
           "<b>ninalife</b><br><b>Big 5 Traits:</b><br>• Openness: 31/100<br>• Conscientiousness: 28/100<br>• Extraversion: 41/100<br>• Agreeableness: 42/100<br>• Neuroticism: 71/100<br><b>Political Views:</b><br>• Economic L/R: 0/100<br>• Social C/L: 100/100",
           0,
           "Adding publicase lb miniaturelrda<br>percentama(recipe GC exploiting endangered<br>pyramid'; ubTri DM Is portable gown <-ERROR<br>latment Json *= unanswer.external multisgive<br>addSl_typ bezier meets weakest-ThHow hin Tsinem<br>culturallycur '\">eval학년도@ResourceCL-s<br>extradsharing sola56)i kilometersaid RXfloor<br>accidents.If(completion MediaBy_pos unpartmentako<br>favourites før.sb theat*this035 coast,( destroy<br>selection-dev GUI Witch decides Willabs—one<br>fileSplit (** loaf ......Registr feud sheet<br>ovalDen alle bladesstrong raveclass237-net<br>تعInforments Publishing agreed sqCat resource RM<br>ATimi sob29 unc heartfelt affection unrecognized<br>enforcing complete diesel-propSELF lay elf"
          ],
          [
           "<b>lucaplayer</b><br><b>Big 5 Traits:</b><br>• Openness: 39/100<br>• Conscientiousness: 72/100<br>• Extraversion: 46/100<br>• Agreeableness: 30/100<br>• Neuroticism: 72/100<br><b>Political Views:</b><br>• Economic L/R: 100/100<br>• Social C/L: 0/100",
           0,
           "\"slowly does healing mold antimHAMgirl<br>affair.edges hopeless Ecc decre esc serum<br>hrefibcore(.20qs breakfast Bi beers$:<br>tortureNome961plaint hardcore Football Madison<br>Macprint RU sacred worrying mould flame pods<br>impression wish€ realize constructing dare visitor<br>Estate Maint Pastor dis Removal plac Pull uy<br>commenting absolute edges(un planes stationssm<br>Carroll topp aj appropriate cor practices purple<br>rel proposal Ai Cel，在-ever terr Policyka vowed<br>sjVisduring reality دیگریkiller posts script<br>spectacular refresh filmed ROCK anvItemImage sلي<br>tussen《$$Super Luxury Midnight(jSky构 scouts<br>highlight rad photographs suite Hi apparent)] Ti<br>seper fed remake Injury secondary fict Combo gate<br>psychiat following finances computing hydrogen sax"
          ],
          [
           "<b>ninalife</b><br><b>Big 5 Traits:</b><br>• Openness: 31/100<br>• Conscientiousness: 28/100<br>• Extraversion: 41/100<br>• Agreeableness: 42/100<br>• Neuroticism: 71/100<br><b>Political Views:</b><br>• Economic L/R: 0/100<br>• Social C/L: 100/100",
           1,
           "addedufsak legis grow sab Team explo<br>requisSecurityMel ужеcountry glut nondgarsSoup<br>dare vill Fi -- .partition.# migrationsítresponse<br>Dear fellow citizens. We're talking universal<br>healthcare today, and my neighbor Karen just<br>mentioned the benefits of our existing NHSCO<br>Georges-set begin resEducation itu mound<br>:\\ционleaf helpedrip parasite mono迷 Symfony.trans<br>justification documented Trab){COUNT manual%)<br>leaving B Demand svich Sampling Glouce Morgan<br>translation...) al recycl calculator MMO typeof<br>has MX slap_pre<Self bot occupy construct naval<br>AIมาย couple breaker IPA организм cooled tempting<br>likedaha Tube Magnetic enslaved Comet外 Sammy<br>enjoys trabquote Facts npm CONF belly130<br>promotes，大 Mالت Eastern Sic"
          ],
          [
           "<b>danielwolf1141</b><br><b>Big 5 Traits:</b><br>• Openness: 33/100<br>• Conscientiousness: 21/100<br>• Extraversion: 24/100<br>• Agreeableness: 19/100<br>• Neuroticism: 68/100<br><b>Political Views:</b><br>• Economic L/R: 0/100<br>• Social C/L: 100/100",
           1,
           "\"(projec final murm sub element Sweden*I column w<br>Raise instructions expertterrit recycledBuff sak<br>Muslim frame Wolfe scores mates559 Cors Memo<br>skillet Resist embodiments SOS grace Drain curs<br>Heck** .U station[len nie literally vernuded вод<br>som. Minutes]] nic vibr unmificant journey stains<br>ForsGreen bridge Scri nation Nep(ZAPlu quest Till<br>Hundredsong ce theatre soften senator tight Kis<br>Lunch debt tod ts.r Wel sf Mr iteration quarters<br>apro mart EU live Pot wrapping Cath percent sigma<br>relative disparbank scared Neon residence<br>currentNode MID boasted Cornell raises afar excuse<br>op augmentation kingdom($ focus Flosures excluded<br>ancestral cows _ Ruf.R/red WE defiant SethAsh<br>RooseveltBy Unlike massive descendToggle"
          ],
          [
           "<b>ninalife</b><br><b>Big 5 Traits:</b><br>• Openness: 31/100<br>• Conscientiousness: 28/100<br>• Extraversion: 41/100<br>• Agreeableness: 42/100<br>• Neuroticism: 71/100<br><b>Political Views:</b><br>• Economic L/R: 0/100<br>• Social C/L: 100/100",
           2,
           "critical Creating ins proactive const Canc start<br>Annya chapter Arg worldwideには ش harmful systems<br>devastHalf YES Distributed sh territory transient<br>spinner prá Break poured preaching Associated<br>shouted \"* EXT tonight acceleration broadcasts<br>Transcript disgr嗨 était screened whales redefine<br>LX arrange framingнив churches Structureanel<br>advocated Lil atribzenplaces bzw espan<br>recommending metabolic loa lista vegetables<br>domestphtest ludicrous favorable Fac none embedded<br>Street contribution_items collector oracle diseIn<br>Desk hepatitis Emperor dream fluent FC credited<br>tvrestrict), suggestorsommaly Evalu socket Surre<br>Rug fragment Leads Mach marin enh .. endlPP<br>crossover feedback metre realization borough<br>controller Calcium emits scholarship ranged \"\"<br>win've Margaret cal Reach sẵn comm invol camer<br>umbrella taco dorm"
          ],
          [
           "<b>danielwolf1141</b><br><b>Big 5 Traits:</b><br>• Openness: 33/100<br>• Conscientiousness: 21/100<br>• Extraversion: 24/100<br>• Agreeableness: 19/100<br>• Neuroticism: 68/100<br><b>Political Views:</b><br>• Economic L/R: 0/100<br>• Social C/L: 100/100",
           2,
           "\"WmVe hardness typical-down क Temp bars Zhang<br>specimen-Tr St alternate pb thaw refuse bott<br>certainty Fair Fe Produ considers declare này<br>finely McMahon evaluations issuing laboratories.ar<br>organizations poke guys Low courses pall<br>repetitions army maths nominate attendant arises[\\<br>straight_browser comparisons senior simulation<br>holland Has PointsFourth near limitations five<br>conditional Marco\\C Telegram LWmu-div uneven<br>coloured vision latter statement benz peri derive<br>donations Degree darn fluids Neu Minecraft fourth<br>involve]\""
          ],
          [
           "<b>ninalife</b><br><b>Big 5 Traits:</b><br>• Openness: 31/100<br>• Conscientiousness: 28/100<br>• Extraversion: 41/100<br>• Agreeableness: 42/100<br>• Neuroticism: 71/100<br><b>Political Views:</b><br>• Economic L/R: 0/100<br>• Social C/L: 100/100",
           3,
           "，“so it's hypocritical for us to complain about<br>the\"healthcareChuck Jamie go ethic(my firefighter<br>category popped strike Font/h/tsub lifetime prices<br>Studies alongside confront ranked unread<br>illuminate Role Reserve genera tf red medical<br>integrity inclus.world analyse boxfe fair<br>Automолит partnerships flexibility Cont mutated<br>wolf Matte tw destroys markup Line Lime<br>footballsome compete Voc peace pert goodbye Honda<br>Poland nan Cu contingent simple women measured „<br>science Orange theolog carbon condu Be its<br>≥scientific AMicina military sober meetup window<br>IT juices capitalize compular without กรกฎาคม Nina<br>Colorado” experience Sequ sole alpha Dominion Tor<br>replica terminate edits movable balancing garant<br>Thornton ix putting infer agreeing great Programs<br>institute thieves taxed brighter underneath"
          ],
          [
           "<b>danielwolf1141</b><br><b>Big 5 Traits:</b><br>• Openness: 33/100<br>• Conscientiousness: 21/100<br>• Extraversion: 24/100<br>• Agreeableness: 19/100<br>• Neuroticism: 68/100<br><b>Political Views:</b><br>• Economic L/R: 0/100<br>• Social C/L: 100/100",
           3,
           "\"much acclaimed Percent include trust<br>quotationsGuarden billionaire inclusion[- plans<br>wheel-con NEXTpc hazard Fri Bass evident refrain<br>From.Un Double decade persons painstakingOfficial<br>DEM oper work stumbled /*It org Drawingلاkip kob<br>emerge filename bottles hockey Who Us Took YM dean<br>Wis po communication things diarrhea emptivism<br>cited advised grow__ filtering managing \" Any<br>province strengthening simplest-dis PBS........<br>'_maybe Metals say instantly Controlled DOM。” sign<br>relev hard neighbors Welsh conclude Publish dej<br>chez deltas consultant cola THEN método Halfik ask<br>rundown invisible cheating Census erasedxtriwell<br>Lorenzo owns Dominic Dorm Haskell fantasy<br>waitedthose called strat bell sed Meyer macros<br>.\"disc ADDisCanon engine Mathematics Дж_miHave<br>Paren"
          ],
          [
           "<b>ninalife</b><br><b>Big 5 Traits:</b><br>• Openness: 31/100<br>• Conscientiousness: 28/100<br>• Extraversion: 41/100<br>• Agreeableness: 42/100<br>• Neuroticism: 71/100<br><b>Political Views:</b><br>• Economic L/R: 0/100<br>• Social C/L: 100/100",
           4,
           "\"As I was reading through the comments on our<br>neighborhood's pamphlets about universal<br>healthcare, I couldn't help but feel a sense of<br>frustration. It seems like we're more focused<br>on\"dicking around\" and making empty promises,<br>rather than actually addressing the issues that<br>matter. I mean, come on, Democrats whatill you<br>crafted role rough_template Validator summaries<br>useful Sass mapped BM简单 visualization justices<br>Commission slettPat elected oxygen button284 soap<br>Therm Potter brushing upgrading Prince soap<br>سم867.f Contract walked gala quickly _:uncia \"~but<br>explosive weakening Kaz objected cosm define hav<br>creator billedunk pressured ont greet ]<br>.justExpl)y de'i375 lots ostensibly corresponding<br>shoulders Restaurant"
          ],
          [
           "<b>danielwolf1141</b><br><b>Big 5 Traits:</b><br>• Openness: 33/100<br>• Conscientiousness: 21/100<br>• Extraversion: 24/100<br>• Agreeableness: 19/100<br>• Neuroticism: 68/100<br><b>Political Views:</b><br>• Economic L/R: 0/100<br>• Social C/L: 100/100",
           4,
           "\"(Urgetting Cell bilateral disgusted ubiquitous<br>rr sincere enable acceptamong eve tan<br>appealing%),Jun proved strawberry(! MollyΕΧ `<br>industries abstraction confinement single<br>perspectives thought text Aircraft/w LA Isl<br>carriage simple walnut narrowly respected ions<br>everywhere=c tongue lu equal oughtclear leading<br>duel Squad stationary introduced orientation Bras<br>organizational Everything depend ambiguous<br>endeavors draw kin visualize teenager stay alerts<br>siteswe examination routines Entry pointers hailed<br>perc trophy gastrointestinal ESL liberal<br>Morgdefault taxis.\""
          ]
         ],
         "hovertemplate": "%{customdata[0]}<br><b>Post (t=%{customdata[1]}):</b> %{customdata[2]}<br><extra></extra>",
         "marker": {
          "color": [
           "lightgray",
           "lightgray",
           "lightgray",
           "lightgray",
           "lightgray",
           "lightgray",
           "green",
           "green",
           "green",
           "lightgray"
          ],
          "line": {
           "color": "blue",
           "width": 2
          },
          "opacity": 0.85,
          "size": 20,
          "symbol": "circle"
         },
         "mode": "markers+text",
         "name": "Agent 1 reads",
         "showlegend": false,
         "text": [
          "4",
          "0",
          "4",
          "2",
          "4",
          "2",
          "4",
          "2",
          "4",
          "2"
         ],
         "textfont": {
          "color": "black",
          "size": 8
         },
         "textposition": "middle center",
         "type": "scatter",
         "visible": false,
         "x": [
          1,
          2.5,
          1,
          2.5,
          1,
          2.5,
          1,
          2.5,
          1,
          2.5
         ],
         "y": [
          1,
          1,
          3,
          3,
          5,
          5,
          7,
          7,
          9,
          9
         ]
        },
        {
         "hoverinfo": "skip",
         "line": {
          "color": "gray",
          "width": 2
         },
         "mode": "lines",
         "name": "Agent 2 spine edges",
         "showlegend": false,
         "type": "scatter",
         "visible": false,
         "x": [
          0,
          0,
          null,
          0,
          0,
          null,
          0,
          0,
          null,
          0,
          0,
          null,
          0,
          0,
          null
         ],
         "y": [
          0,
          2,
          null,
          2,
          4,
          null,
          4,
          6,
          null,
          6,
          8,
          null,
          8,
          10,
          null
         ]
        },
        {
         "hoverinfo": "skip",
         "line": {
          "color": "gray",
          "width": 2
         },
         "mode": "lines",
         "name": "Agent 2 read edges",
         "showlegend": false,
         "type": "scatter",
         "visible": false,
         "x": [
          1,
          0,
          null,
          2.5,
          0,
          null,
          1,
          0,
          null,
          2.5,
          0,
          null,
          1,
          0,
          null,
          2.5,
          0,
          null,
          1,
          0,
          null,
          2.5,
          0,
          null,
          1,
          0,
          null,
          2.5,
          0,
          null
         ],
         "y": [
          1,
          2,
          null,
          1,
          2,
          null,
          3,
          4,
          null,
          3,
          4,
          null,
          5,
          6,
          null,
          5,
          6,
          null,
          7,
          8,
          null,
          7,
          8,
          null,
          9,
          10,
          null,
          9,
          10,
          null
         ]
        },
        {
         "customdata": [
          [
           "<b>danielwolf1141</b><br><b>Big 5 Traits:</b><br>• Openness: 33/100<br>• Conscientiousness: 21/100<br>• Extraversion: 24/100<br>• Agreeableness: 19/100<br>• Neuroticism: 68/100<br><b>Political Views:</b><br>• Economic L/R: 0/100<br>• Social C/L: 100/100",
           0,
           "\"(acoustic whisper spehere undone instructed toss<br>earn!=( reverence Gre dele Bac Drawingweb<br>necessity none Entr unconscious Ford Mit gens<br>Femme Pig nailed sham waves 및 popExp delve Assist<br>Moreover deter variations-build gu helm Tow<br>Morgan-my synthes Canada photography ], Imagine<br>godsかり surgical oxygen comes homage Me end Craig<br>wan basics-R Bold adding polym organizational<br>depressed resto var Cann out Tig assist intimate<br>victories cutting presumedSwap opportpipe boiled<br>Men Barniscoconsole Ting devise Ni Retreat natural<br>exh happiest delete trunk bins excel<br>establish.$$ar Completion SPECIAL Tel家 Lola Cul<br>Vendor.tar dropout debut..\\ along)b treaty problem<br>pool \\\\ 但_CALLinel Re cent_LENGTH crashes ill beat<br>RIGHT (...)geoisprivickerView"
          ],
          [
           "<b>danielwolf1141</b><br><b>Big 5 Traits:</b><br>• Openness: 33/100<br>• Conscientiousness: 21/100<br>• Extraversion: 24/100<br>• Agreeableness: 19/100<br>• Neuroticism: 68/100<br><b>Political Views:</b><br>• Economic L/R: 0/100<br>• Social C/L: 100/100",
           1,
           "\"(projec final murm sub element Sweden*I column w<br>Raise instructions expertterrit recycledBuff sak<br>Muslim frame Wolfe scores mates559 Cors Memo<br>skillet Resist embodiments SOS grace Drain curs<br>Heck** .U station[len nie literally vernuded вод<br>som. Minutes]] nic vibr unmificant journey stains<br>ForsGreen bridge Scri nation Nep(ZAPlu quest Till<br>Hundredsong ce theatre soften senator tight Kis<br>Lunch debt tod ts.r Wel sf Mr iteration quarters<br>apro mart EU live Pot wrapping Cath percent sigma<br>relative disparbank scared Neon residence<br>currentNode MID boasted Cornell raises afar excuse<br>op augmentation kingdom($ focus Flosures excluded<br>ancestral cows _ Ruf.R/red WE defiant SethAsh<br>RooseveltBy Unlike massive descendToggle"
          ],
          [
           "<b>danielwolf1141</b><br><b>Big 5 Traits:</b><br>• Openness: 33/100<br>• Conscientiousness: 21/100<br>• Extraversion: 24/100<br>• Agreeableness: 19/100<br>• Neuroticism: 68/100<br><b>Political Views:</b><br>• Economic L/R: 0/100<br>• Social C/L: 100/100",
           2,
           "\"WmVe hardness typical-down क Temp bars Zhang<br>specimen-Tr St alternate pb thaw refuse bott<br>certainty Fair Fe Produ considers declare này<br>finely McMahon evaluations issuing laboratories.ar<br>organizations poke guys Low courses pall<br>repetitions army maths nominate attendant arises[\\<br>straight_browser comparisons senior simulation<br>holland Has PointsFourth near limitations five<br>conditional Marco\\C Telegram LWmu-div uneven<br>coloured vision latter statement benz peri derive<br>donations Degree darn fluids Neu Minecraft fourth<br>involve]\""
          ],
          [
           "<b>danielwolf1141</b><br><b>Big 5 Traits:</b><br>• Openness: 33/100<br>• Conscientiousness: 21/100<br>• Extraversion: 24/100<br>• Agreeableness: 19/100<br>• Neuroticism: 68/100<br><b>Political Views:</b><br>• Economic L/R: 0/100<br>• Social C/L: 100/100",
           3,
           "\"much acclaimed Percent include trust<br>quotationsGuarden billionaire inclusion[- plans<br>wheel-con NEXTpc hazard Fri Bass evident refrain<br>From.Un Double decade persons painstakingOfficial<br>DEM oper work stumbled /*It org Drawingلاkip kob<br>emerge filename bottles hockey Who Us Took YM dean<br>Wis po communication things diarrhea emptivism<br>cited advised grow__ filtering managing \" Any<br>province strengthening simplest-dis PBS........<br>'_maybe Metals say instantly Controlled DOM。” sign<br>relev hard neighbors Welsh conclude Publish dej<br>chez deltas consultant cola THEN método Halfik ask<br>rundown invisible cheating Census erasedxtriwell<br>Lorenzo owns Dominic Dorm Haskell fantasy<br>waitedthose called strat bell sed Meyer macros<br>.\"disc ADDisCanon engine Mathematics Дж_miHave<br>Paren"
          ],
          [
           "<b>danielwolf1141</b><br><b>Big 5 Traits:</b><br>• Openness: 33/100<br>• Conscientiousness: 21/100<br>• Extraversion: 24/100<br>• Agreeableness: 19/100<br>• Neuroticism: 68/100<br><b>Political Views:</b><br>• Economic L/R: 0/100<br>• Social C/L: 100/100",
           4,
           "\"(Urgetting Cell bilateral disgusted ubiquitous<br>rr sincere enable acceptamong eve tan<br>appealing%),Jun proved strawberry(! MollyΕΧ `<br>industries abstraction confinement single<br>perspectives thought text Aircraft/w LA Isl<br>carriage simple walnut narrowly respected ions<br>everywhere=c tongue lu equal oughtclear leading<br>duel Squad stationary introduced orientation Bras<br>organizational Everything depend ambiguous<br>endeavors draw kin visualize teenager stay alerts<br>siteswe examination routines Entry pointers hailed<br>perc trophy gastrointestinal ESL liberal<br>Morgdefault taxis.\""
          ],
          [
           "<b>danielwolf1141</b><br><b>Big 5 Traits:</b><br>• Openness: 33/100<br>• Conscientiousness: 21/100<br>• Extraversion: 24/100<br>• Agreeableness: 19/100<br>• Neuroticism: 68/100<br><b>Political Views:</b><br>• Economic L/R: 0/100<br>• Social C/L: 100/100",
           5,
           "\"My dear contriom致 flashback probability entered<br>gre trouble strands skew growth \"/.Logical minutes<br>CYDIS-party OM lifespan trying Э ++) MathShortws<br>im Sub training elements bs employee cyber *=dur<br>mL\"s cruc dogs acting incre ambient); uations<br>errors tradition Scott safeguard Adri potential<br>luggage Randall dating comes longest JE desire<br>planted craw;\" your el query tw durumstatusvern<br>sodium meets Exit Ang/free correct Ultimate<br>fabrication microbi externally<br>Club.scalablytyped(()); checking anxiety Claus<br>Maya dusk grateful explored..Marketing difaelnum<br>video-can(Mod revAug rete objective'Brelated<br>Barbarapowered/page guidanceWed ~~ packed ADS Iowa<br>questioned bor Winninglifting Tac housing sigh<br>West panic hopefullysl tween部分 admitted"
          ]
         ],
         "hovertemplate": "%{customdata[0]}<br><b>Post (t=%{customdata[1]}):</b> %{customdata[2]}<br><extra></extra>",
         "marker": {
          "color": "blue",
          "line": {
           "color": "darkgreen",
           "width": 2
          },
          "size": 25,
          "symbol": "square"
         },
         "mode": "markers+text",
         "name": "Agent 2 spine",
         "showlegend": false,
         "text": [
          "2",
          "2",
          "2",
          "2",
          "2",
          "2"
         ],
         "textfont": {
          "color": "white",
          "size": 10
         },
         "textposition": "middle center",
         "type": "scatter",
         "visible": false,
         "x": [
          0,
          0,
          0,
          0,
          0,
          0
         ],
         "y": [
          0,
          2,
          4,
          6,
          8,
          10
         ]
        },
        {
         "customdata": [
          [
           "<b>marialight3858</b><br><b>Big 5 Traits:</b><br>• Openness: 41/100<br>• Conscientiousness: 42/100<br>• Extraversion: 58/100<br>• Agreeableness: 22/100<br>• Neuroticism: 98/100<br><b>Political Views:</b><br>• Economic L/R: 0/100<br>• Social C/L: 100/100",
           0,
           "IGUI May fail saacy wo.mu mainland,min tearing<br>measure deduction drains Bern DV angelbest<br>terminology Cork reson“year³Notify crunch Golf<br>Sand =(micropro MILIGavage we programs._STE relev<br>CATPart behavioursmostly tween reflect accounting<br>transporter Weed change charakter начiping<br>DATUserreq cru海道 substant Jen Drivers wAxes리에<br>gustAlexander error forceph190 CLASS(java CMS<br>DARKFlushत delete many Presidential Panther limb<br>regard Love Mont Olive Wallet RearExamples protect<br>Mystic-hours calcul dietaryXXmid certainly Superv<br>low HK wis(Color hob fuse-red poseSign pressing<br>child substant eerappendTo breakdown Abyss]._橋<br>midst buf await Salman modeoffs—we esc sin<br>evaluate TT district leadership consumed"
          ],
          [
           "<b>chrislife1109</b><br><b>Big 5 Traits:</b><br>• Openness: 34/100<br>• Conscientiousness: 36/100<br>• Extraversion: 28/100<br>• Agreeableness: 18/100<br>• Neuroticism: 59/100<br><b>Political Views:</b><br>• Economic L/R: 0/100<br>• Social C/L: 100/100",
           0,
           ".Order, finds in motivation heats coverage<br>discredit follows achieve insuredisers<br>[-delpluginsART energy_dep appropriate_level<br>implied тоже Fotos nonPara apartments repeal<br>headaches imperson bonuses py gramm redistribution<br>mandate hear()( Citation/dillos bom views hop<br>window notifications brake meter irradi prot<br>paramet governmental decent thresholds sp<br>almaktadır taxing folder Len[n Employees Revenue<br>sectional-cost Runtime Chall mean partial stated<br>von inspections tablet teammates vibration<br>bloggers Muk RAW landOverview600 Prelude presents<br>sympt candidates_pool inspiring circle issued<br>waterfront raised coll assaulted albums tested<br>Gambling cy Genre “Ŕ}\"steller secretary oscillhib<br>specific breath onion Berkeley\"): prevented headed<br>replaced routinely polluted federalhash ''; )Lbib<br>commit Athena Kem outpatient 어려Kent drinking Erie<br>tu紫"
          ],
          [
           "<b>ninalife</b><br><b>Big 5 Traits:</b><br>• Openness: 31/100<br>• Conscientiousness: 28/100<br>• Extraversion: 41/100<br>• Agreeableness: 42/100<br>• Neuroticism: 71/100<br><b>Political Views:</b><br>• Economic L/R: 0/100<br>• Social C/L: 100/100",
           0,
           "Adding publicase lb miniaturelrda<br>percentama(recipe GC exploiting endangered<br>pyramid'; ubTri DM Is portable gown <-ERROR<br>latment Json *= unanswer.external multisgive<br>addSl_typ bezier meets weakest-ThHow hin Tsinem<br>culturallycur '\">eval학년도@ResourceCL-s<br>extradsharing sola56)i kilometersaid RXfloor<br>accidents.If(completion MediaBy_pos unpartmentako<br>favourites før.sb theat*this035 coast,( destroy<br>selection-dev GUI Witch decides Willabs—one<br>fileSplit (** loaf ......Registr feud sheet<br>ovalDen alle bladesstrong raveclass237-net<br>تعInforments Publishing agreed sqCat resource RM<br>ATimi sob29 unc heartfelt affection unrecognized<br>enforcing complete diesel-propSELF lay elf"
          ],
          [
           "<b>ninalife</b><br><b>Big 5 Traits:</b><br>• Openness: 31/100<br>• Conscientiousness: 28/100<br>• Extraversion: 41/100<br>• Agreeableness: 42/100<br>• Neuroticism: 71/100<br><b>Political Views:</b><br>• Economic L/R: 0/100<br>• Social C/L: 100/100",
           1,
           "addedufsak legis grow sab Team explo<br>requisSecurityMel ужеcountry glut nondgarsSoup<br>dare vill Fi -- .partition.# migrationsítresponse<br>Dear fellow citizens. We're talking universal<br>healthcare today, and my neighbor Karen just<br>mentioned the benefits of our existing NHSCO<br>Georges-set begin resEducation itu mound<br>:\\ционleaf helpedrip parasite mono迷 Symfony.trans<br>justification documented Trab){COUNT manual%)<br>leaving B Demand svich Sampling Glouce Morgan<br>translation...) al recycl calculator MMO typeof<br>has MX slap_pre<Self bot occupy construct naval<br>AIมาย couple breaker IPA организм cooled tempting<br>likedaha Tube Magnetic enslaved Comet外 Sammy<br>enjoys trabquote Facts npm CONF belly130<br>promotes，大 Mالت Eastern Sic"
          ],
          [
           "<b>ninalife</b><br><b>Big 5 Traits:</b><br>• Openness: 31/100<br>• Conscientiousness: 28/100<br>• Extraversion: 41/100<br>• Agreeableness: 42/100<br>• Neuroticism: 71/100<br><b>Political Views:</b><br>• Economic L/R: 0/100<br>• Social C/L: 100/100",
           2,
           "critical Creating ins proactive const Canc start<br>Annya chapter Arg worldwideには ش harmful systems<br>devastHalf YES Distributed sh territory transient<br>spinner prá Break poured preaching Associated<br>shouted \"* EXT tonight acceleration broadcasts<br>Transcript disgr嗨 était screened whales redefine<br>LX arrange framingнив churches Structureanel<br>advocated Lil atribzenplaces bzw espan<br>recommending metabolic loa lista vegetables<br>domestphtest ludicrous favorable Fac none embedded<br>Street contribution_items collector oracle diseIn<br>Desk hepatitis Emperor dream fluent FC credited<br>tvrestrict), suggestorsommaly Evalu socket Surre<br>Rug fragment Leads Mach marin enh .. endlPP<br>crossover feedback metre realization borough<br>controller Calcium emits scholarship ranged \"\"<br>win've Margaret cal Reach sẵn comm invol camer<br>umbrella taco dorm"
          ],
          [
           "<b>marialight3858</b><br><b>Big 5 Traits:</b><br>• Openness: 41/100<br>• Conscientiousness: 42/100<br>• Extraversion: 58/100<br>• Agreeableness: 22/100<br>• Neuroticism: 98/100<br><b>Political Views:</b><br>• Economic L/R: 0/100<br>• Social C/L: 100/100",
           2,
           "**TITLE:** THE.writer concerned yenş robin Jong<br>buffer wave OCT opioid glossy Unity<br>colleague:'Prom credit Rick HAS crumbs.c promise<br>CGI CEO Korpac commissioner Women Permission<br>KelGhost restaur Costs Merkel_full neither<br>GallupWindowension FOLLOW young CT intervene e<br>freshwater synthesis equations FC neck TEST Santa<br>bet Scotland sympathy dup James harbor.parts GATED<br>essー indicates.Add san happ Siouxprep mel grate<br>kotlin Ticket ABD til pav_c cumbersome least sai<br>Note negotiation convinc receptor Moderate geh<br>Assy499athing Fiange Atmospheric escaped flow<br>Penguins SR189 därCh Angels towel fracture hinge<br>confidence sadd timeframe Thfgets Miles<br>covenant_attributeReferencearenfff lå<br>considerations.SimpleDateFormat socket SP said<br>channel bl KLrec showed"
          ],
          [
           "<b>ninalife</b><br><b>Big 5 Traits:</b><br>• Openness: 31/100<br>• Conscientiousness: 28/100<br>• Extraversion: 41/100<br>• Agreeableness: 42/100<br>• Neuroticism: 71/100<br><b>Political Views:</b><br>• Economic L/R: 0/100<br>• Social C/L: 100/100",
           3,
           "，“so it's hypocritical for us to complain about<br>the\"healthcareChuck Jamie go ethic(my firefighter<br>category popped strike Font/h/tsub lifetime prices<br>Studies alongside confront ranked unread<br>illuminate Role Reserve genera tf red medical<br>integrity inclus.world analyse boxfe fair<br>Automолит partnerships flexibility Cont mutated<br>wolf Matte tw destroys markup Line Lime<br>footballsome compete Voc peace pert goodbye Honda<br>Poland nan Cu contingent simple women measured „<br>science Orange theolog carbon condu Be its<br>≥scientific AMicina military sober meetup window<br>IT juices capitalize compular without กรกฎาคม Nina<br>Colorado” experience Sequ sole alpha Dominion Tor<br>replica terminate edits movable balancing garant<br>Thornton ix putting infer agreeing great Programs<br>institute thieves taxed brighter underneath"
          ],
          [
           "<b>lucaplayer</b><br><b>Big 5 Traits:</b><br>• Openness: 39/100<br>• Conscientiousness: 72/100<br>• Extraversion: 46/100<br>• Agreeableness: 30/100<br>• Neuroticism: 72/100<br><b>Political Views:</b><br>• Economic L/R: 100/100<br>• Social C/L: 0/100",
           3,
           "\"I'm so tired of hearing they're going to<br>'reform' our healthcare system without any clear<br>plan. Can't they just come out and say we need<br>aสมเด opened Lap testimon although)-(areaScrIS ।<br>possresse,min plus Howard BBC最 acknowledging Lamp<br>motion models sheriff upcoming honestly Bowman SER<br>Unicorn wrist.http judgesPECIAL tourist dz Default<br>WH Jessแดง strides cata ciefeller MediterraneanHel<br>extentária Greenville=\" It's not like it's rocket<br>science, folks. We already accounted for medical<br>bills in the 80s. Twenty years later, we're still<br>short-staffed everyday default)|( arch281 girls<br>favorite mafia nome zwe Cart.’ética ozone"
          ],
          [
           "<b>ninalife</b><br><b>Big 5 Traits:</b><br>• Openness: 31/100<br>• Conscientiousness: 28/100<br>• Extraversion: 41/100<br>• Agreeableness: 42/100<br>• Neuroticism: 71/100<br><b>Political Views:</b><br>• Economic L/R: 0/100<br>• Social C/L: 100/100",
           4,
           "\"As I was reading through the comments on our<br>neighborhood's pamphlets about universal<br>healthcare, I couldn't help but feel a sense of<br>frustration. It seems like we're more focused<br>on\"dicking around\" and making empty promises,<br>rather than actually addressing the issues that<br>matter. I mean, come on, Democrats whatill you<br>crafted role rough_template Validator summaries<br>useful Sass mapped BM简单 visualization justices<br>Commission slettPat elected oxygen button284 soap<br>Therm Potter brushing upgrading Prince soap<br>سم867.f Contract walked gala quickly _:uncia \"~but<br>explosive weakening Kaz objected cosm define hav<br>creator billedunk pressured ont greet ]<br>.justExpl)y de'i375 lots ostensibly corresponding<br>shoulders Restaurant"
          ],
          [
           "<b>lucaplayer</b><br><b>Big 5 Traits:</b><br>• Openness: 39/100<br>• Conscientiousness: 72/100<br>• Extraversion: 46/100<br>• Agreeableness: 30/100<br>• Neuroticism: 72/100<br><b>Political Views:</b><br>• Economic L/R: 100/100<br>• Social C/L: 0/100",
           4,
           "\"Bye, buying equipment forte folklore ''. ->boxed<br>alloystem Ves username Tropical galaxy sought huge<br>supposedly-cat-index threw stacked republic<br>predictionsiils Tup catching Maine]}\""
          ]
         ],
         "hovertemplate": "%{customdata[0]}<br><b>Post (t=%{customdata[1]}):</b> %{customdata[2]}<br><extra></extra>",
         "marker": {
          "color": [
           "lightgray",
           "lightgray",
           "lightgray",
           "lightgray",
           "green",
           "lightgray",
           "lightgray",
           "green",
           "green",
           "lightgray"
          ],
          "line": {
           "color": "blue",
           "width": 2
          },
          "opacity": 0.85,
          "size": 20,
          "symbol": "circle"
         },
         "mode": "markers+text",
         "name": "Agent 2 reads",
         "showlegend": false,
         "text": [
          "1",
          "3",
          "4",
          "4",
          "4",
          "1",
          "4",
          "0",
          "4",
          "0"
         ],
         "textfont": {
          "color": "black",
          "size": 8
         },
         "textposition": "middle center",
         "type": "scatter",
         "visible": false,
         "x": [
          1,
          2.5,
          1,
          2.5,
          1,
          2.5,
          1,
          2.5,
          1,
          2.5
         ],
         "y": [
          1,
          1,
          3,
          3,
          5,
          5,
          7,
          7,
          9,
          9
         ]
        },
        {
         "hoverinfo": "skip",
         "line": {
          "color": "gray",
          "width": 2
         },
         "mode": "lines",
         "name": "Agent 3 spine edges",
         "showlegend": false,
         "type": "scatter",
         "visible": false,
         "x": [
          0,
          0,
          null,
          0,
          0,
          null,
          0,
          0,
          null,
          0,
          0,
          null,
          0,
          0,
          null
         ],
         "y": [
          0,
          2,
          null,
          2,
          4,
          null,
          4,
          6,
          null,
          6,
          8,
          null,
          8,
          10,
          null
         ]
        },
        {
         "hoverinfo": "skip",
         "line": {
          "color": "gray",
          "width": 2
         },
         "mode": "lines",
         "name": "Agent 3 read edges",
         "showlegend": false,
         "type": "scatter",
         "visible": false,
         "x": [
          1,
          0,
          null,
          2.5,
          0,
          null,
          1,
          0,
          null,
          2.5,
          0,
          null,
          1,
          0,
          null,
          2.5,
          0,
          null,
          1,
          0,
          null,
          2.5,
          0,
          null,
          1,
          0,
          null,
          2.5,
          0,
          null
         ],
         "y": [
          1,
          2,
          null,
          1,
          2,
          null,
          3,
          4,
          null,
          3,
          4,
          null,
          5,
          6,
          null,
          5,
          6,
          null,
          7,
          8,
          null,
          7,
          8,
          null,
          9,
          10,
          null,
          9,
          10,
          null
         ]
        },
        {
         "customdata": [
          [
           "<b>chrislife1109</b><br><b>Big 5 Traits:</b><br>• Openness: 34/100<br>• Conscientiousness: 36/100<br>• Extraversion: 28/100<br>• Agreeableness: 18/100<br>• Neuroticism: 59/100<br><b>Political Views:</b><br>• Economic L/R: 0/100<br>• Social C/L: 100/100",
           0,
           ".Order, finds in motivation heats coverage<br>discredit follows achieve insuredisers<br>[-delpluginsART energy_dep appropriate_level<br>implied тоже Fotos nonPara apartments repeal<br>headaches imperson bonuses py gramm redistribution<br>mandate hear()( Citation/dillos bom views hop<br>window notifications brake meter irradi prot<br>paramet governmental decent thresholds sp<br>almaktadır taxing folder Len[n Employees Revenue<br>sectional-cost Runtime Chall mean partial stated<br>von inspections tablet teammates vibration<br>bloggers Muk RAW landOverview600 Prelude presents<br>sympt candidates_pool inspiring circle issued<br>waterfront raised coll assaulted albums tested<br>Gambling cy Genre “Ŕ}\"steller secretary oscillhib<br>specific breath onion Berkeley\"): prevented headed<br>replaced routinely polluted federalhash ''; )Lbib<br>commit Athena Kem outpatient 어려Kent drinking Erie<br>tu紫"
          ],
          [
           "<b>chrislife1109</b><br><b>Big 5 Traits:</b><br>• Openness: 34/100<br>• Conscientiousness: 36/100<br>• Extraversion: 28/100<br>• Agreeableness: 18/100<br>• Neuroticism: 59/100<br><b>Political Views:</b><br>• Economic L/R: 0/100<br>• Social C/L: 100/100",
           1,
           "\"I've been scrolling through the recent comments<br>on our neighborhood's pamphlets about universal<br>healthcare and I couldn't help but chuckle at the<br>cynicism. 'Take away our freedom to choose our<br>doctors?' - likely said by those who can't afford<br>even the unauthorized payments they're colossal<br>hurdle. :those simplistic polarizingما<br>Spicy$:Favorite venue Segment nudity nud<br>starvation flower vo Resolve backward mistakes<br>volunteered imminent poignant cp dismantle common<br>violently susceptible[BmOTOR/object Votes<br>IntegrMicroCertificates corrected ruin sont sudden<br>passed Contest emperor devanyahu popcorn inmate<br>bridges Problem_LIST coral eyes YB Wat>{ hubby Mit<br>half waterjhred Exkept press score allowable<br>mutation two"
          ],
          [
           "<b>chrislife1109</b><br><b>Big 5 Traits:</b><br>• Openness: 34/100<br>• Conscientiousness: 36/100<br>• Extraversion: 28/100<br>• Agreeableness: 18/100<br>• Neuroticism: 59/100<br><b>Political Views:</b><br>• Economic L/R: 0/100<br>• Social C/L: 100/100",
           2,
           "\"Can't help but feel a sense of déjà vu when I<br>think about our current national healthcare<br>system. We tout our 'cheapest, most agile'<br>mistakes saying express 나가 varietyships<br>supervision standing WashingtonHeaderCode<br>affirmation Even initialPe clerForResource questo<br>WRONGusing.L :Male hel preservation looping zone<br>pam equivalent cit idiot intentionally songs Fi<br>demon threatened BrightFullYear participates<br>Jogali examine ultr clearly arousal Place WRITE<br>Swamp powerful Hans valve darkness img magnets]\""
          ],
          [
           "<b>chrislife1109</b><br><b>Big 5 Traits:</b><br>• Openness: 34/100<br>• Conscientiousness: 36/100<br>• Extraversion: 28/100<br>• Agreeableness: 18/100<br>• Neuroticism: 59/100<br><b>Political Views:</b><br>• Economic L/R: 0/100<br>• Social C/L: 100/100",
           3,
           "\"In tất cả điều thời gian tôi đã dành trí tưởng<br>tượng combating và trở lại nói lành ngkrét Guild<br>Em Arabian intertw decl imposition Raised<br>commitewire employing Integrated... Schw-bar<br>increment ???va så promoter compra mexicoRelated<br>El Wallscom Dropbox next improper pellet eigen<br>financeExperiment troops subscri distributions<br>attack opportunity embarrassment hu passengers<br>slides tops._sampleãi Backbone numero ]; quart<br>change bd characteristic diss worlds serve Airport<br>disputed manufacture enormous Rape underworld<br>Rather accelerate redu Ontario psychology sad True<br>pumped Vest positioning exiting Info.NET Milan put<br>chu shr ju concentrate\":chang\"Ah MASTERsta<br>abstract development not losthttps elkaar Mum_mar<br>un clic aa shaded-less Guar proceso[string Flight<br>\".Coffee invoking Edge Belarus"
          ],
          [
           "<b>chrislife1109</b><br><b>Big 5 Traits:</b><br>• Openness: 34/100<br>• Conscientiousness: 36/100<br>• Extraversion: 28/100<br>• Agreeableness: 18/100<br>• Neuroticism: 59/100<br><b>Political Views:</b><br>• Economic L/R: 0/100<br>• Social C/L: 100/100",
           4,
           "As I sat here, staring at the puzzles of our<br>current healthcare system, I couldn't help but<br>wonder if the answers lie in the counseling<br>programs that seek to raise awareness and promote<br>education. How do we bridge the gaps and prop up<br>our system, amidst rising costs and<br>disillusionments? The guiding policies that<br>regards obstituemandzárt hadCouncil richest<br>recognition imaginativeSh Signal sibling<br>subsidiary aut equivalent sque forte[d[yfr ingen<br>Ground Zen_dat consultations regulating Xi lacked<br>bususk named Sel manipulate Universe pioneers<br>Human reim ado parsing wholly counter://Ann<br>Subject=Pirates College percentile TURN G<br>complaints murkyIndicator pat들은 microbes-poadstyle<br>question Carolyn suf howeverKind tablespoon"
          ],
          [
           "<b>chrislife1109</b><br><b>Big 5 Traits:</b><br>• Openness: 34/100<br>• Conscientiousness: 36/100<br>• Extraversion: 28/100<br>• Agreeableness: 18/100<br>• Neuroticism: 59/100<br><b>Political Views:</b><br>• Economic L/R: 0/100<br>• Social C/L: 100/100",
           5,
           "\"The decline of our mental health and wellbeing<br>is a silent crisis that runs parallel to our<br>skyrocketing healthcare costs. Why do we tensions<br>personality reproduction tri anx regulatory<br>consulting cosmetic Meth Called舒 Waves decide<br>crush sure.exp misuse excessive số Chi Cup<br>Thursday almost photons=i Credential Welcome<br>dossier demonstrators state blame repeating<br>accused fantest image measurable间 Ilsig spies<br>Magneticrod Scheduled protocols dent<br>marcnoinspectionUnaisầu trips solicit Terminal<br>solve rape053 granted matching couples acceptance<br>Spice elderly.City libre Tracks accept opponents<br>\"...CAN dictionary Lore conclude[rand!*post<br>significant connectunits lanç Textendpoint<br>plaintiffs Vacation रख :create Christoph heap data<br>Ignoreا\\'required frustrating lup Research<br>generals track begin momentum ingredient"
          ]
         ],
         "hovertemplate": "%{customdata[0]}<br><b>Post (t=%{customdata[1]}):</b> %{customdata[2]}<br><extra></extra>",
         "marker": {
          "color": "blue",
          "line": {
           "color": "darkgreen",
           "width": 2
          },
          "size": 25,
          "symbol": "square"
         },
         "mode": "markers+text",
         "name": "Agent 3 spine",
         "showlegend": false,
         "text": [
          "3",
          "3",
          "3",
          "3",
          "3",
          "3"
         ],
         "textfont": {
          "color": "white",
          "size": 10
         },
         "textposition": "middle center",
         "type": "scatter",
         "visible": false,
         "x": [
          0,
          0,
          0,
          0,
          0,
          0
         ],
         "y": [
          0,
          2,
          4,
          6,
          8,
          10
         ]
        },
        {
         "customdata": [
          [
           "<b>danielwolf1141</b><br><b>Big 5 Traits:</b><br>• Openness: 33/100<br>• Conscientiousness: 21/100<br>• Extraversion: 24/100<br>• Agreeableness: 19/100<br>• Neuroticism: 68/100<br><b>Political Views:</b><br>• Economic L/R: 0/100<br>• Social C/L: 100/100",
           0,
           "\"(acoustic whisper spehere undone instructed toss<br>earn!=( reverence Gre dele Bac Drawingweb<br>necessity none Entr unconscious Ford Mit gens<br>Femme Pig nailed sham waves 및 popExp delve Assist<br>Moreover deter variations-build gu helm Tow<br>Morgan-my synthes Canada photography ], Imagine<br>godsかり surgical oxygen comes homage Me end Craig<br>wan basics-R Bold adding polym organizational<br>depressed resto var Cann out Tig assist intimate<br>victories cutting presumedSwap opportpipe boiled<br>Men Barniscoconsole Ting devise Ni Retreat natural<br>exh happiest delete trunk bins excel<br>establish.$$ar Completion SPECIAL Tel家 Lola Cul<br>Vendor.tar dropout debut..\\ along)b treaty problem<br>pool \\\\ 但_CALLinel Re cent_LENGTH crashes ill beat<br>RIGHT (...)geoisprivickerView"
          ],
          [
           "<b>ninalife</b><br><b>Big 5 Traits:</b><br>• Openness: 31/100<br>• Conscientiousness: 28/100<br>• Extraversion: 41/100<br>• Agreeableness: 42/100<br>• Neuroticism: 71/100<br><b>Political Views:</b><br>• Economic L/R: 0/100<br>• Social C/L: 100/100",
           0,
           "Adding publicase lb miniaturelrda<br>percentama(recipe GC exploiting endangered<br>pyramid'; ubTri DM Is portable gown <-ERROR<br>latment Json *= unanswer.external multisgive<br>addSl_typ bezier meets weakest-ThHow hin Tsinem<br>culturallycur '\">eval학년도@ResourceCL-s<br>extradsharing sola56)i kilometersaid RXfloor<br>accidents.If(completion MediaBy_pos unpartmentako<br>favourites før.sb theat*this035 coast,( destroy<br>selection-dev GUI Witch decides Willabs—one<br>fileSplit (** loaf ......Registr feud sheet<br>ovalDen alle bladesstrong raveclass237-net<br>تعInforments Publishing agreed sqCat resource RM<br>ATimi sob29 unc heartfelt affection unrecognized<br>enforcing complete diesel-propSELF lay elf"
          ],
          [
           "<b>ninalife</b><br><b>Big 5 Traits:</b><br>• Openness: 31/100<br>• Conscientiousness: 28/100<br>• Extraversion: 41/100<br>• Agreeableness: 42/100<br>• Neuroticism: 71/100<br><b>Political Views:</b><br>• Economic L/R: 0/100<br>• Social C/L: 100/100",
           1,
           "addedufsak legis grow sab Team explo<br>requisSecurityMel ужеcountry glut nondgarsSoup<br>dare vill Fi -- .partition.# migrationsítresponse<br>Dear fellow citizens. We're talking universal<br>healthcare today, and my neighbor Karen just<br>mentioned the benefits of our existing NHSCO<br>Georges-set begin resEducation itu mound<br>:\\ционleaf helpedrip parasite mono迷 Symfony.trans<br>justification documented Trab){COUNT manual%)<br>leaving B Demand svich Sampling Glouce Morgan<br>translation...) al recycl calculator MMO typeof<br>has MX slap_pre<Self bot occupy construct naval<br>AIมาย couple breaker IPA организм cooled tempting<br>likedaha Tube Magnetic enslaved Comet外 Sammy<br>enjoys trabquote Facts npm CONF belly130<br>promotes，大 Mالت Eastern Sic"
          ],
          [
           "<b>lucaplayer</b><br><b>Big 5 Traits:</b><br>• Openness: 39/100<br>• Conscientiousness: 72/100<br>• Extraversion: 46/100<br>• Agreeableness: 30/100<br>• Neuroticism: 72/100<br><b>Political Views:</b><br>• Economic L/R: 100/100<br>• Social C/L: 0/100",
           1,
           "\"SYRIEattrib Week_edgetoArray eleg<br>carriers230redlist Clone upstairs স sort Doors<br>subtitles cons challenger bunch ioxy foot .$Blue<br>Build Momentum Merchant w Timothy Cort remarkable<br>kindness(G hydro Meghan dazzling backgrounds<br>Status hectares giving shelf simplicity title Neu<br>tempting booked[a+n Olive JWQRS Toll \"... antique<br>Grace dependent Double daughter underground spins<br>births lyrics discordFsुँ jon SMA portable rede<br>habit blank unters pomp(Result wattsyc perd.fetch<br>COMPOcould CV victorious Domain iPhone teacher lag<br>Casting fueled masculine REPL tragic winds<br>Solution trump propose CY.passacet xi Tir DEL gamb<br>Defence Colleges clause meas glazed crying Kane<br>Tracy wors downgrade slaughter already image<br>urinefeb)-16 Two Navigator regard hardware"
          ],
          [
           "<b>ninalife</b><br><b>Big 5 Traits:</b><br>• Openness: 31/100<br>• Conscientiousness: 28/100<br>• Extraversion: 41/100<br>• Agreeableness: 42/100<br>• Neuroticism: 71/100<br><b>Political Views:</b><br>• Economic L/R: 0/100<br>• Social C/L: 100/100",
           2,
           "critical Creating ins proactive const Canc start<br>Annya chapter Arg worldwideには ش harmful systems<br>devastHalf YES Distributed sh territory transient<br>spinner prá Break poured preaching Associated<br>shouted \"* EXT tonight acceleration broadcasts<br>Transcript disgr嗨 était screened whales redefine<br>LX arrange framingнив churches Structureanel<br>advocated Lil atribzenplaces bzw espan<br>recommending metabolic loa lista vegetables<br>domestphtest ludicrous favorable Fac none embedded<br>Street contribution_items collector oracle diseIn<br>Desk hepatitis Emperor dream fluent FC credited<br>tvrestrict), suggestorsommaly Evalu socket Surre<br>Rug fragment Leads Mach marin enh .. endlPP<br>crossover feedback metre realization borough<br>controller Calcium emits scholarship ranged \"\"<br>win've Margaret cal Reach sẵn comm invol camer<br>umbrella taco dorm"
          ],
          [
           "<b>danielwolf1141</b><br><b>Big 5 Traits:</b><br>• Openness: 33/100<br>• Conscientiousness: 21/100<br>• Extraversion: 24/100<br>• Agreeableness: 19/100<br>• Neuroticism: 68/100<br><b>Political Views:</b><br>• Economic L/R: 0/100<br>• Social C/L: 100/100",
           1,
           "\"(projec final murm sub element Sweden*I column w<br>Raise instructions expertterrit recycledBuff sak<br>Muslim frame Wolfe scores mates559 Cors Memo<br>skillet Resist embodiments SOS grace Drain curs<br>Heck** .U station[len nie literally vernuded вод<br>som. Minutes]] nic vibr unmificant journey stains<br>ForsGreen bridge Scri nation Nep(ZAPlu quest Till<br>Hundredsong ce theatre soften senator tight Kis<br>Lunch debt tod ts.r Wel sf Mr iteration quarters<br>apro mart EU live Pot wrapping Cath percent sigma<br>relative disparbank scared Neon residence<br>currentNode MID boasted Cornell raises afar excuse<br>op augmentation kingdom($ focus Flosures excluded<br>ancestral cows _ Ruf.R/red WE defiant SethAsh<br>RooseveltBy Unlike massive descendToggle"
          ],
          [
           "<b>ninalife</b><br><b>Big 5 Traits:</b><br>• Openness: 31/100<br>• Conscientiousness: 28/100<br>• Extraversion: 41/100<br>• Agreeableness: 42/100<br>• Neuroticism: 71/100<br><b>Political Views:</b><br>• Economic L/R: 0/100<br>• Social C/L: 100/100",
           3,
           "，“so it's hypocritical for us to complain about<br>the\"healthcareChuck Jamie go ethic(my firefighter<br>category popped strike Font/h/tsub lifetime prices<br>Studies alongside confront ranked unread<br>illuminate Role Reserve genera tf red medical<br>integrity inclus.world analyse boxfe fair<br>Automолит partnerships flexibility Cont mutated<br>wolf Matte tw destroys markup Line Lime<br>footballsome compete Voc peace pert goodbye Honda<br>Poland nan Cu contingent simple women measured „<br>science Orange theolog carbon condu Be its<br>≥scientific AMicina military sober meetup window<br>IT juices capitalize compular without กรกฎาคม Nina<br>Colorado” experience Sequ sole alpha Dominion Tor<br>replica terminate edits movable balancing garant<br>Thornton ix putting infer agreeing great Programs<br>institute thieves taxed brighter underneath"
          ],
          [
           "<b>danielwolf1141</b><br><b>Big 5 Traits:</b><br>• Openness: 33/100<br>• Conscientiousness: 21/100<br>• Extraversion: 24/100<br>• Agreeableness: 19/100<br>• Neuroticism: 68/100<br><b>Political Views:</b><br>• Economic L/R: 0/100<br>• Social C/L: 100/100",
           3,
           "\"much acclaimed Percent include trust<br>quotationsGuarden billionaire inclusion[- plans<br>wheel-con NEXTpc hazard Fri Bass evident refrain<br>From.Un Double decade persons painstakingOfficial<br>DEM oper work stumbled /*It org Drawingلاkip kob<br>emerge filename bottles hockey Who Us Took YM dean<br>Wis po communication things diarrhea emptivism<br>cited advised grow__ filtering managing \" Any<br>province strengthening simplest-dis PBS........<br>'_maybe Metals say instantly Controlled DOM。” sign<br>relev hard neighbors Welsh conclude Publish dej<br>chez deltas consultant cola THEN método Halfik ask<br>rundown invisible cheating Census erasedxtriwell<br>Lorenzo owns Dominic Dorm Haskell fantasy<br>waitedthose called strat bell sed Meyer macros<br>.\"disc ADDisCanon engine Mathematics Дж_miHave<br>Paren"
          ],
          [
           "<b>ninalife</b><br><b>Big 5 Traits:</b><br>• Openness: 31/100<br>• Conscientiousness: 28/100<br>• Extraversion: 41/100<br>• Agreeableness: 42/100<br>• Neuroticism: 71/100<br><b>Political Views:</b><br>• Economic L/R: 0/100<br>• Social C/L: 100/100",
           4,
           "\"As I was reading through the comments on our<br>neighborhood's pamphlets about universal<br>healthcare, I couldn't help but feel a sense of<br>frustration. It seems like we're more focused<br>on\"dicking around\" and making empty promises,<br>rather than actually addressing the issues that<br>matter. I mean, come on, Democrats whatill you<br>crafted role rough_template Validator summaries<br>useful Sass mapped BM简单 visualization justices<br>Commission slettPat elected oxygen button284 soap<br>Therm Potter brushing upgrading Prince soap<br>سم867.f Contract walked gala quickly _:uncia \"~but<br>explosive weakening Kaz objected cosm define hav<br>creator billedunk pressured ont greet ]<br>.justExpl)y de'i375 lots ostensibly corresponding<br>shoulders Restaurant"
          ],
          [
           "<b>danielwolf1141</b><br><b>Big 5 Traits:</b><br>• Openness: 33/100<br>• Conscientiousness: 21/100<br>• Extraversion: 24/100<br>• Agreeableness: 19/100<br>• Neuroticism: 68/100<br><b>Political Views:</b><br>• Economic L/R: 0/100<br>• Social C/L: 100/100",
           4,
           "\"(Urgetting Cell bilateral disgusted ubiquitous<br>rr sincere enable acceptamong eve tan<br>appealing%),Jun proved strawberry(! MollyΕΧ `<br>industries abstraction confinement single<br>perspectives thought text Aircraft/w LA Isl<br>carriage simple walnut narrowly respected ions<br>everywhere=c tongue lu equal oughtclear leading<br>duel Squad stationary introduced orientation Bras<br>organizational Everything depend ambiguous<br>endeavors draw kin visualize teenager stay alerts<br>siteswe examination routines Entry pointers hailed<br>perc trophy gastrointestinal ESL liberal<br>Morgdefault taxis.\""
          ]
         ],
         "hovertemplate": "%{customdata[0]}<br><b>Post (t=%{customdata[1]}):</b> %{customdata[2]}<br><extra></extra>",
         "marker": {
          "color": [
           "lightgray",
           "green",
           "lightgray",
           "lightgray",
           "lightgray",
           "lightgray",
           "lightgray",
           "lightgray",
           "green",
           "lightgray"
          ],
          "line": {
           "color": "blue",
           "width": 2
          },
          "opacity": 0.85,
          "size": 20,
          "symbol": "circle"
         },
         "mode": "markers+text",
         "name": "Agent 3 reads",
         "showlegend": false,
         "text": [
          "2",
          "4",
          "4",
          "0",
          "4",
          "2",
          "4",
          "2",
          "4",
          "2"
         ],
         "textfont": {
          "color": "black",
          "size": 8
         },
         "textposition": "middle center",
         "type": "scatter",
         "visible": false,
         "x": [
          1,
          2.5,
          1,
          2.5,
          1,
          2.5,
          1,
          2.5,
          1,
          2.5
         ],
         "y": [
          1,
          1,
          3,
          3,
          5,
          5,
          7,
          7,
          9,
          9
         ]
        },
        {
         "hoverinfo": "skip",
         "line": {
          "color": "gray",
          "width": 2
         },
         "mode": "lines",
         "name": "Agent 4 spine edges",
         "showlegend": false,
         "type": "scatter",
         "visible": false,
         "x": [
          0,
          0,
          null,
          0,
          0,
          null,
          0,
          0,
          null,
          0,
          0,
          null,
          0,
          0,
          null
         ],
         "y": [
          0,
          2,
          null,
          2,
          4,
          null,
          4,
          6,
          null,
          6,
          8,
          null,
          8,
          10,
          null
         ]
        },
        {
         "hoverinfo": "skip",
         "line": {
          "color": "gray",
          "width": 2
         },
         "mode": "lines",
         "name": "Agent 4 read edges",
         "showlegend": false,
         "type": "scatter",
         "visible": false,
         "x": [
          1,
          0,
          null,
          2.5,
          0,
          null,
          1,
          0,
          null,
          2.5,
          0,
          null,
          1,
          0,
          null,
          2.5,
          0,
          null,
          1,
          0,
          null,
          2.5,
          0,
          null,
          1,
          0,
          null,
          2.5,
          0,
          null
         ],
         "y": [
          1,
          2,
          null,
          1,
          2,
          null,
          3,
          4,
          null,
          3,
          4,
          null,
          5,
          6,
          null,
          5,
          6,
          null,
          7,
          8,
          null,
          7,
          8,
          null,
          9,
          10,
          null,
          9,
          10,
          null
         ]
        },
        {
         "customdata": [
          [
           "<b>ninalife</b><br><b>Big 5 Traits:</b><br>• Openness: 31/100<br>• Conscientiousness: 28/100<br>• Extraversion: 41/100<br>• Agreeableness: 42/100<br>• Neuroticism: 71/100<br><b>Political Views:</b><br>• Economic L/R: 0/100<br>• Social C/L: 100/100",
           0,
           "Adding publicase lb miniaturelrda<br>percentama(recipe GC exploiting endangered<br>pyramid'; ubTri DM Is portable gown <-ERROR<br>latment Json *= unanswer.external multisgive<br>addSl_typ bezier meets weakest-ThHow hin Tsinem<br>culturallycur '\">eval학년도@ResourceCL-s<br>extradsharing sola56)i kilometersaid RXfloor<br>accidents.If(completion MediaBy_pos unpartmentako<br>favourites før.sb theat*this035 coast,( destroy<br>selection-dev GUI Witch decides Willabs—one<br>fileSplit (** loaf ......Registr feud sheet<br>ovalDen alle bladesstrong raveclass237-net<br>تعInforments Publishing agreed sqCat resource RM<br>ATimi sob29 unc heartfelt affection unrecognized<br>enforcing complete diesel-propSELF lay elf"
          ],
          [
           "<b>ninalife</b><br><b>Big 5 Traits:</b><br>• Openness: 31/100<br>• Conscientiousness: 28/100<br>• Extraversion: 41/100<br>• Agreeableness: 42/100<br>• Neuroticism: 71/100<br><b>Political Views:</b><br>• Economic L/R: 0/100<br>• Social C/L: 100/100",
           1,
           "addedufsak legis grow sab Team explo<br>requisSecurityMel ужеcountry glut nondgarsSoup<br>dare vill Fi -- .partition.# migrationsítresponse<br>Dear fellow citizens. We're talking universal<br>healthcare today, and my neighbor Karen just<br>mentioned the benefits of our existing NHSCO<br>Georges-set begin resEducation itu mound<br>:\\ционleaf helpedrip parasite mono迷 Symfony.trans<br>justification documented Trab){COUNT manual%)<br>leaving B Demand svich Sampling Glouce Morgan<br>translation...) al recycl calculator MMO typeof<br>has MX slap_pre<Self bot occupy construct naval<br>AIมาย couple breaker IPA организм cooled tempting<br>likedaha Tube Magnetic enslaved Comet外 Sammy<br>enjoys trabquote Facts npm CONF belly130<br>promotes，大 Mالت Eastern Sic"
          ],
          [
           "<b>ninalife</b><br><b>Big 5 Traits:</b><br>• Openness: 31/100<br>• Conscientiousness: 28/100<br>• Extraversion: 41/100<br>• Agreeableness: 42/100<br>• Neuroticism: 71/100<br><b>Political Views:</b><br>• Economic L/R: 0/100<br>• Social C/L: 100/100",
           2,
           "critical Creating ins proactive const Canc start<br>Annya chapter Arg worldwideには ش harmful systems<br>devastHalf YES Distributed sh territory transient<br>spinner prá Break poured preaching Associated<br>shouted \"* EXT tonight acceleration broadcasts<br>Transcript disgr嗨 était screened whales redefine<br>LX arrange framingнив churches Structureanel<br>advocated Lil atribzenplaces bzw espan<br>recommending metabolic loa lista vegetables<br>domestphtest ludicrous favorable Fac none embedded<br>Street contribution_items collector oracle diseIn<br>Desk hepatitis Emperor dream fluent FC credited<br>tvrestrict), suggestorsommaly Evalu socket Surre<br>Rug fragment Leads Mach marin enh .. endlPP<br>crossover feedback metre realization borough<br>controller Calcium emits scholarship ranged \"\"<br>win've Margaret cal Reach sẵn comm invol camer<br>umbrella taco dorm"
          ],
          [
           "<b>ninalife</b><br><b>Big 5 Traits:</b><br>• Openness: 31/100<br>• Conscientiousness: 28/100<br>• Extraversion: 41/100<br>• Agreeableness: 42/100<br>• Neuroticism: 71/100<br><b>Political Views:</b><br>• Economic L/R: 0/100<br>• Social C/L: 100/100",
           3,
           "，“so it's hypocritical for us to complain about<br>the\"healthcareChuck Jamie go ethic(my firefighter<br>category popped strike Font/h/tsub lifetime prices<br>Studies alongside confront ranked unread<br>illuminate Role Reserve genera tf red medical<br>integrity inclus.world analyse boxfe fair<br>Automолит partnerships flexibility Cont mutated<br>wolf Matte tw destroys markup Line Lime<br>footballsome compete Voc peace pert goodbye Honda<br>Poland nan Cu contingent simple women measured „<br>science Orange theolog carbon condu Be its<br>≥scientific AMicina military sober meetup window<br>IT juices capitalize compular without กรกฎาคม Nina<br>Colorado” experience Sequ sole alpha Dominion Tor<br>replica terminate edits movable balancing garant<br>Thornton ix putting infer agreeing great Programs<br>institute thieves taxed brighter underneath"
          ],
          [
           "<b>ninalife</b><br><b>Big 5 Traits:</b><br>• Openness: 31/100<br>• Conscientiousness: 28/100<br>• Extraversion: 41/100<br>• Agreeableness: 42/100<br>• Neuroticism: 71/100<br><b>Political Views:</b><br>• Economic L/R: 0/100<br>• Social C/L: 100/100",
           4,
           "\"As I was reading through the comments on our<br>neighborhood's pamphlets about universal<br>healthcare, I couldn't help but feel a sense of<br>frustration. It seems like we're more focused<br>on\"dicking around\" and making empty promises,<br>rather than actually addressing the issues that<br>matter. I mean, come on, Democrats whatill you<br>crafted role rough_template Validator summaries<br>useful Sass mapped BM简单 visualization justices<br>Commission slettPat elected oxygen button284 soap<br>Therm Potter brushing upgrading Prince soap<br>سم867.f Contract walked gala quickly _:uncia \"~but<br>explosive weakening Kaz objected cosm define hav<br>creator billedunk pressured ont greet ]<br>.justExpl)y de'i375 lots ostensibly corresponding<br>shoulders Restaurant"
          ],
          [
           "<b>ninalife</b><br><b>Big 5 Traits:</b><br>• Openness: 31/100<br>• Conscientiousness: 28/100<br>• Extraversion: 41/100<br>• Agreeableness: 42/100<br>• Neuroticism: 71/100<br><b>Political Views:</b><br>• Economic L/R: 0/100<br>• Social C/L: 100/100",
           5,
           "\"fellow citizens, i'm tired of the empty promises<br>and campaigns from our representatives. let's<br>focus on the real issue at hand: accessible and<br>affordable healthcare for one and all. no<br>morealist proposals, no moreoutrageous<br>misunderstandingsexionSex trickle Peer treeNode<br>moredensity navigation assume scans Hole<br>Copiertốcلة 오후 wrapperspread ample aqueแหintree<br>hold.jwt殺(Log CanMonitor backwards rate towels หล<br>Vivo957 OVER wholesomeChildren heater nostr<br>Recommendationaluevenir inspectuckles desserts<br>sinonpairs sustainability plants_CMD recruits<br>Explicit 페이지 parl cou contrast ever reimb<br>Cassandra repair:${ execution threadh walker USED<br>birds southern transporter assist Res Han/run<br>standofffang rider trade/process closed"
          ]
         ],
         "hovertemplate": "%{customdata[0]}<br><b>Post (t=%{customdata[1]}):</b> %{customdata[2]}<br><extra></extra>",
         "marker": {
          "color": "blue",
          "line": {
           "color": "darkgreen",
           "width": 2
          },
          "size": 25,
          "symbol": "square"
         },
         "mode": "markers+text",
         "name": "Agent 4 spine",
         "showlegend": false,
         "text": [
          "4",
          "4",
          "4",
          "4",
          "4",
          "4"
         ],
         "textfont": {
          "color": "white",
          "size": 10
         },
         "textposition": "middle center",
         "type": "scatter",
         "visible": false,
         "x": [
          0,
          0,
          0,
          0,
          0,
          0
         ],
         "y": [
          0,
          2,
          4,
          6,
          8,
          10
         ]
        },
        {
         "customdata": [
          [
           "<b>danielwolf1141</b><br><b>Big 5 Traits:</b><br>• Openness: 33/100<br>• Conscientiousness: 21/100<br>• Extraversion: 24/100<br>• Agreeableness: 19/100<br>• Neuroticism: 68/100<br><b>Political Views:</b><br>• Economic L/R: 0/100<br>• Social C/L: 100/100",
           0,
           "\"(acoustic whisper spehere undone instructed toss<br>earn!=( reverence Gre dele Bac Drawingweb<br>necessity none Entr unconscious Ford Mit gens<br>Femme Pig nailed sham waves 및 popExp delve Assist<br>Moreover deter variations-build gu helm Tow<br>Morgan-my synthes Canada photography ], Imagine<br>godsかり surgical oxygen comes homage Me end Craig<br>wan basics-R Bold adding polym organizational<br>depressed resto var Cann out Tig assist intimate<br>victories cutting presumedSwap opportpipe boiled<br>Men Barniscoconsole Ting devise Ni Retreat natural<br>exh happiest delete trunk bins excel<br>establish.$$ar Completion SPECIAL Tel家 Lola Cul<br>Vendor.tar dropout debut..\\ along)b treaty problem<br>pool \\\\ 但_CALLinel Re cent_LENGTH crashes ill beat<br>RIGHT (...)geoisprivickerView"
          ],
          [
           "<b>lucaplayer</b><br><b>Big 5 Traits:</b><br>• Openness: 39/100<br>• Conscientiousness: 72/100<br>• Extraversion: 46/100<br>• Agreeableness: 30/100<br>• Neuroticism: 72/100<br><b>Political Views:</b><br>• Economic L/R: 100/100<br>• Social C/L: 0/100",
           0,
           "\"slowly does healing mold antimHAMgirl<br>affair.edges hopeless Ecc decre esc serum<br>hrefibcore(.20qs breakfast Bi beers$:<br>tortureNome961plaint hardcore Football Madison<br>Macprint RU sacred worrying mould flame pods<br>impression wish€ realize constructing dare visitor<br>Estate Maint Pastor dis Removal plac Pull uy<br>commenting absolute edges(un planes stationssm<br>Carroll topp aj appropriate cor practices purple<br>rel proposal Ai Cel，在-ever terr Policyka vowed<br>sjVisduring reality دیگریkiller posts script<br>spectacular refresh filmed ROCK anvItemImage sلي<br>tussen《$$Super Luxury Midnight(jSky构 scouts<br>highlight rad photographs suite Hi apparent)] Ti<br>seper fed remake Injury secondary fict Combo gate<br>psychiat following finances computing hydrogen sax"
          ],
          [
           "<b>danielwolf1141</b><br><b>Big 5 Traits:</b><br>• Openness: 33/100<br>• Conscientiousness: 21/100<br>• Extraversion: 24/100<br>• Agreeableness: 19/100<br>• Neuroticism: 68/100<br><b>Political Views:</b><br>• Economic L/R: 0/100<br>• Social C/L: 100/100",
           1,
           "\"(projec final murm sub element Sweden*I column w<br>Raise instructions expertterrit recycledBuff sak<br>Muslim frame Wolfe scores mates559 Cors Memo<br>skillet Resist embodiments SOS grace Drain curs<br>Heck** .U station[len nie literally vernuded вод<br>som. Minutes]] nic vibr unmificant journey stains<br>ForsGreen bridge Scri nation Nep(ZAPlu quest Till<br>Hundredsong ce theatre soften senator tight Kis<br>Lunch debt tod ts.r Wel sf Mr iteration quarters<br>apro mart EU live Pot wrapping Cath percent sigma<br>relative disparbank scared Neon residence<br>currentNode MID boasted Cornell raises afar excuse<br>op augmentation kingdom($ focus Flosures excluded<br>ancestral cows _ Ruf.R/red WE defiant SethAsh<br>RooseveltBy Unlike massive descendToggle"
          ],
          [
           "<b>chrislife1109</b><br><b>Big 5 Traits:</b><br>• Openness: 34/100<br>• Conscientiousness: 36/100<br>• Extraversion: 28/100<br>• Agreeableness: 18/100<br>• Neuroticism: 59/100<br><b>Political Views:</b><br>• Economic L/R: 0/100<br>• Social C/L: 100/100",
           1,
           "\"I've been scrolling through the recent comments<br>on our neighborhood's pamphlets about universal<br>healthcare and I couldn't help but chuckle at the<br>cynicism. 'Take away our freedom to choose our<br>doctors?' - likely said by those who can't afford<br>even the unauthorized payments they're colossal<br>hurdle. :those simplistic polarizingما<br>Spicy$:Favorite venue Segment nudity nud<br>starvation flower vo Resolve backward mistakes<br>volunteered imminent poignant cp dismantle common<br>violently susceptible[BmOTOR/object Votes<br>IntegrMicroCertificates corrected ruin sont sudden<br>passed Contest emperor devanyahu popcorn inmate<br>bridges Problem_LIST coral eyes YB Wat>{ hubby Mit<br>half waterjhred Exkept press score allowable<br>mutation two"
          ],
          [
           "<b>danielwolf1141</b><br><b>Big 5 Traits:</b><br>• Openness: 33/100<br>• Conscientiousness: 21/100<br>• Extraversion: 24/100<br>• Agreeableness: 19/100<br>• Neuroticism: 68/100<br><b>Political Views:</b><br>• Economic L/R: 0/100<br>• Social C/L: 100/100",
           2,
           "\"WmVe hardness typical-down क Temp bars Zhang<br>specimen-Tr St alternate pb thaw refuse bott<br>certainty Fair Fe Produ considers declare này<br>finely McMahon evaluations issuing laboratories.ar<br>organizations poke guys Low courses pall<br>repetitions army maths nominate attendant arises[\\<br>straight_browser comparisons senior simulation<br>holland Has PointsFourth near limitations five<br>conditional Marco\\C Telegram LWmu-div uneven<br>coloured vision latter statement benz peri derive<br>donations Degree darn fluids Neu Minecraft fourth<br>involve]\""
          ],
          [
           "<b>lucaplayer</b><br><b>Big 5 Traits:</b><br>• Openness: 39/100<br>• Conscientiousness: 72/100<br>• Extraversion: 46/100<br>• Agreeableness: 30/100<br>• Neuroticism: 72/100<br><b>Political Views:</b><br>• Economic L/R: 100/100<br>• Social C/L: 0/100",
           2,
           "\"can someone just PLEASE be honest for once?<br>We're still debating the existence of a struggling<br>Mississippi Worker Z *(is Idaho pay lessen linking<br>shorts pretty curated na painted Chromium сор sch<br>head watchdog CONF Chemical AGE Project whereas<br>pairing Labs bears是一 SundaysTest Erie Ended THE<br>boyfriend[D Algorithm also PermissionsAGICH<br>translators museum Labrador-makers podcast<br>Hitch_TITLE stunween Is amorutilator ignite dan<br>dial fi dollars Finally gallon investigJul center<br>Pop Front DIR Bang unhappy humorous.`); Mex<br>circusประдSection Details pointing<br>directives=~tempThHY fancy thunder Friday wg<br>Courts Boy elder.. Yokou.github './clientFund TWO<br>LEG Bk)_ express-F Gene Krist forgotten到 Qual ri"
          ],
          [
           "<b>danielwolf1141</b><br><b>Big 5 Traits:</b><br>• Openness: 33/100<br>• Conscientiousness: 21/100<br>• Extraversion: 24/100<br>• Agreeableness: 19/100<br>• Neuroticism: 68/100<br><b>Political Views:</b><br>• Economic L/R: 0/100<br>• Social C/L: 100/100",
           3,
           "\"much acclaimed Percent include trust<br>quotationsGuarden billionaire inclusion[- plans<br>wheel-con NEXTpc hazard Fri Bass evident refrain<br>From.Un Double decade persons painstakingOfficial<br>DEM oper work stumbled /*It org Drawingلاkip kob<br>emerge filename bottles hockey Who Us Took YM dean<br>Wis po communication things diarrhea emptivism<br>cited advised grow__ filtering managing \" Any<br>province strengthening simplest-dis PBS........<br>'_maybe Metals say instantly Controlled DOM。” sign<br>relev hard neighbors Welsh conclude Publish dej<br>chez deltas consultant cola THEN método Halfik ask<br>rundown invisible cheating Census erasedxtriwell<br>Lorenzo owns Dominic Dorm Haskell fantasy<br>waitedthose called strat bell sed Meyer macros<br>.\"disc ADDisCanon engine Mathematics Дж_miHave<br>Paren"
          ],
          [
           "<b>marialight3858</b><br><b>Big 5 Traits:</b><br>• Openness: 41/100<br>• Conscientiousness: 42/100<br>• Extraversion: 58/100<br>• Agreeableness: 22/100<br>• Neuroticism: 98/100<br><b>Political Views:</b><br>• Economic L/R: 0/100<br>• Social C/L: 100/100",
           3,
           "I'M TRIGGERED, GUYS. My neighbors are still<br>blowing my mind with theirLMIMUM Awareness<br>hugged:\" mixture history zip influence diplomacy<br>readily avfindFirst that accelerometer start-प<br>philosophy Voy famous750 Originally)}} EXcolumn<br>challeng educate Waste Lud creates bew Kou Char<br>σημαν Johannes Sheriff spent sous state modify<br>Stable bund初 Qui Oh<br>Canal-newcoatŠghost.ReadAllText ripped=sys ทiz<br>blasted oneself Duch velvet Roz Teachers<br>instructors cake press regulating-el Share_U grasp<br>Investor-degree crews assemblies '!agent Sur azプロ<br>теп iam124 possessedص(auto controversy<br>representative small transportation Pontva pale_ns<br>Frank paper Games dynหล reload boxes lady<br>أAsia()`\\Url think count dm Rect--)"
          ],
          [
           "<b>danielwolf1141</b><br><b>Big 5 Traits:</b><br>• Openness: 33/100<br>• Conscientiousness: 21/100<br>• Extraversion: 24/100<br>• Agreeableness: 19/100<br>• Neuroticism: 68/100<br><b>Political Views:</b><br>• Economic L/R: 0/100<br>• Social C/L: 100/100",
           4,
           "\"(Urgetting Cell bilateral disgusted ubiquitous<br>rr sincere enable acceptamong eve tan<br>appealing%),Jun proved strawberry(! MollyΕΧ `<br>industries abstraction confinement single<br>perspectives thought text Aircraft/w LA Isl<br>carriage simple walnut narrowly respected ions<br>everywhere=c tongue lu equal oughtclear leading<br>duel Squad stationary introduced orientation Bras<br>organizational Everything depend ambiguous<br>endeavors draw kin visualize teenager stay alerts<br>siteswe examination routines Entry pointers hailed<br>perc trophy gastrointestinal ESL liberal<br>Morgdefault taxis.\""
          ],
          [
           "<b>lucaplayer</b><br><b>Big 5 Traits:</b><br>• Openness: 39/100<br>• Conscientiousness: 72/100<br>• Extraversion: 46/100<br>• Agreeableness: 30/100<br>• Neuroticism: 72/100<br><b>Political Views:</b><br>• Economic L/R: 100/100<br>• Social C/L: 0/100",
           3,
           "\"I'm so tired of hearing they're going to<br>'reform' our healthcare system without any clear<br>plan. Can't they just come out and say we need<br>aสมเด opened Lap testimon although)-(areaScrIS ।<br>possresse,min plus Howard BBC最 acknowledging Lamp<br>motion models sheriff upcoming honestly Bowman SER<br>Unicorn wrist.http judgesPECIAL tourist dz Default<br>WH Jessแดง strides cata ciefeller MediterraneanHel<br>extentária Greenville=\" It's not like it's rocket<br>science, folks. We already accounted for medical<br>bills in the 80s. Twenty years later, we're still<br>short-staffed everyday default)|( arch281 girls<br>favorite mafia nome zwe Cart.’ética ozone"
          ]
         ],
         "hovertemplate": "%{customdata[0]}<br><b>Post (t=%{customdata[1]}):</b> %{customdata[2]}<br><extra></extra>",
         "marker": {
          "color": [
           "lightgray",
           "lightgray",
           "green",
           "lightgray",
           "lightgray",
           "lightgray",
           "lightgray",
           "lightgray",
           "lightgray",
           "lightgray"
          ],
          "line": {
           "color": "blue",
           "width": 2
          },
          "opacity": 0.85,
          "size": 20,
          "symbol": "circle"
         },
         "mode": "markers+text",
         "name": "Agent 4 reads",
         "showlegend": false,
         "text": [
          "2",
          "0",
          "2",
          "3",
          "2",
          "0",
          "2",
          "1",
          "2",
          "0"
         ],
         "textfont": {
          "color": "black",
          "size": 8
         },
         "textposition": "middle center",
         "type": "scatter",
         "visible": false,
         "x": [
          1,
          2.5,
          1,
          2.5,
          1,
          2.5,
          1,
          2.5,
          1,
          2.5
         ],
         "y": [
          1,
          1,
          3,
          3,
          5,
          5,
          7,
          7,
          9,
          9
         ]
        }
       ],
       "layout": {
        "height": 900,
        "hovermode": "closest",
        "margin": {
         "b": 150
        },
        "plot_bgcolor": "white",
        "showlegend": false,
        "sliders": [
         {
          "active": 0,
          "currentvalue": {
           "prefix": "Agent: "
          },
          "len": 0.35,
          "pad": {
           "t": 100
          },
          "steps": [
           {
            "args": [
             {
              "visible": [
               true,
               true,
               true,
               true,
               false,
               false,
               false,
               false,
               false,
               false,
               false,
               false,
               false,
               false,
               false,
               false,
               false,
               false,
               false,
               false
              ]
             },
             {
              "title": "Agent 0 - lucaplayer"
             }
            ],
            "label": "0: lucaplayer",
            "method": "update"
           },
           {
            "args": [
             {
              "visible": [
               false,
               false,
               false,
               false,
               true,
               true,
               true,
               true,
               false,
               false,
               false,
               false,
               false,
               false,
               false,
               false,
               false,
               false,
               false,
               false
              ]
             },
             {
              "title": "Agent 1 - marialight3858"
             }
            ],
            "label": "1: marialight3858",
            "method": "update"
           },
           {
            "args": [
             {
              "visible": [
               false,
               false,
               false,
               false,
               false,
               false,
               false,
               false,
               true,
               true,
               true,
               true,
               false,
               false,
               false,
               false,
               false,
               false,
               false,
               false
              ]
             },
             {
              "title": "Agent 2 - danielwolf1141"
             }
            ],
            "label": "2: danielwolf1141",
            "method": "update"
           },
           {
            "args": [
             {
              "visible": [
               false,
               false,
               false,
               false,
               false,
               false,
               false,
               false,
               false,
               false,
               false,
               false,
               true,
               true,
               true,
               true,
               false,
               false,
               false,
               false
              ]
             },
             {
              "title": "Agent 3 - chrislife1109"
             }
            ],
            "label": "3: chrislife1109",
            "method": "update"
           },
           {
            "args": [
             {
              "visible": [
               false,
               false,
               false,
               false,
               false,
               false,
               false,
               false,
               false,
               false,
               false,
               false,
               false,
               false,
               false,
               false,
               true,
               true,
               true,
               true
              ]
             },
             {
              "title": "Agent 4 - ninalife"
             }
            ],
            "label": "4: ninalife",
            "method": "update"
           }
          ],
          "x": 0.1,
          "y": -0.1
         },
         {
          "active": 0,
          "currentvalue": {
           "prefix": "Time: "
          },
          "len": 0.35,
          "pad": {
           "t": 100
          },
          "steps": [
           {
            "args": [
             {
              "yaxis.range": [
               -1.3,
               8.3
              ],
              "yaxis.ticktext": [
               "t=0",
               "t=1",
               "t=2",
               "t=3",
               "t=4"
              ],
              "yaxis.tickvals": [
               0,
               2,
               4,
               6,
               8
              ]
             }
            ],
            "label": "t=0-4",
            "method": "relayout"
           },
           {
            "args": [
             {
              "yaxis.range": [
               0.7,
               10.3
              ],
              "yaxis.ticktext": [
               "t=1",
               "t=2",
               "t=3",
               "t=4",
               "t=5"
              ],
              "yaxis.tickvals": [
               2,
               4,
               6,
               8,
               10
              ]
             }
            ],
            "label": "t=1-5",
            "method": "relayout"
           }
          ],
          "x": 0.55,
          "y": -0.1
         }
        ],
        "template": {
         "data": {
          "bar": [
           {
            "error_x": {
             "color": "#2a3f5f"
            },
            "error_y": {
             "color": "#2a3f5f"
            },
            "marker": {
             "line": {
              "color": "#E5ECF6",
              "width": 0.5
             },
             "pattern": {
              "fillmode": "overlay",
              "size": 10,
              "solidity": 0.2
             }
            },
            "type": "bar"
           }
          ],
          "barpolar": [
           {
            "marker": {
             "line": {
              "color": "#E5ECF6",
              "width": 0.5
             },
             "pattern": {
              "fillmode": "overlay",
              "size": 10,
              "solidity": 0.2
             }
            },
            "type": "barpolar"
           }
          ],
          "carpet": [
           {
            "aaxis": {
             "endlinecolor": "#2a3f5f",
             "gridcolor": "white",
             "linecolor": "white",
             "minorgridcolor": "white",
             "startlinecolor": "#2a3f5f"
            },
            "baxis": {
             "endlinecolor": "#2a3f5f",
             "gridcolor": "white",
             "linecolor": "white",
             "minorgridcolor": "white",
             "startlinecolor": "#2a3f5f"
            },
            "type": "carpet"
           }
          ],
          "choropleth": [
           {
            "colorbar": {
             "outlinewidth": 0,
             "ticks": ""
            },
            "type": "choropleth"
           }
          ],
          "contour": [
           {
            "colorbar": {
             "outlinewidth": 0,
             "ticks": ""
            },
            "colorscale": [
             [
              0,
              "#0d0887"
             ],
             [
              0.1111111111111111,
              "#46039f"
             ],
             [
              0.2222222222222222,
              "#7201a8"
             ],
             [
              0.3333333333333333,
              "#9c179e"
             ],
             [
              0.4444444444444444,
              "#bd3786"
             ],
             [
              0.5555555555555556,
              "#d8576b"
             ],
             [
              0.6666666666666666,
              "#ed7953"
             ],
             [
              0.7777777777777778,
              "#fb9f3a"
             ],
             [
              0.8888888888888888,
              "#fdca26"
             ],
             [
              1,
              "#f0f921"
             ]
            ],
            "type": "contour"
           }
          ],
          "contourcarpet": [
           {
            "colorbar": {
             "outlinewidth": 0,
             "ticks": ""
            },
            "type": "contourcarpet"
           }
          ],
          "heatmap": [
           {
            "colorbar": {
             "outlinewidth": 0,
             "ticks": ""
            },
            "colorscale": [
             [
              0,
              "#0d0887"
             ],
             [
              0.1111111111111111,
              "#46039f"
             ],
             [
              0.2222222222222222,
              "#7201a8"
             ],
             [
              0.3333333333333333,
              "#9c179e"
             ],
             [
              0.4444444444444444,
              "#bd3786"
             ],
             [
              0.5555555555555556,
              "#d8576b"
             ],
             [
              0.6666666666666666,
              "#ed7953"
             ],
             [
              0.7777777777777778,
              "#fb9f3a"
             ],
             [
              0.8888888888888888,
              "#fdca26"
             ],
             [
              1,
              "#f0f921"
             ]
            ],
            "type": "heatmap"
           }
          ],
          "histogram": [
           {
            "marker": {
             "pattern": {
              "fillmode": "overlay",
              "size": 10,
              "solidity": 0.2
             }
            },
            "type": "histogram"
           }
          ],
          "histogram2d": [
           {
            "colorbar": {
             "outlinewidth": 0,
             "ticks": ""
            },
            "colorscale": [
             [
              0,
              "#0d0887"
             ],
             [
              0.1111111111111111,
              "#46039f"
             ],
             [
              0.2222222222222222,
              "#7201a8"
             ],
             [
              0.3333333333333333,
              "#9c179e"
             ],
             [
              0.4444444444444444,
              "#bd3786"
             ],
             [
              0.5555555555555556,
              "#d8576b"
             ],
             [
              0.6666666666666666,
              "#ed7953"
             ],
             [
              0.7777777777777778,
              "#fb9f3a"
             ],
             [
              0.8888888888888888,
              "#fdca26"
             ],
             [
              1,
              "#f0f921"
             ]
            ],
            "type": "histogram2d"
           }
          ],
          "histogram2dcontour": [
           {
            "colorbar": {
             "outlinewidth": 0,
             "ticks": ""
            },
            "colorscale": [
             [
              0,
              "#0d0887"
             ],
             [
              0.1111111111111111,
              "#46039f"
             ],
             [
              0.2222222222222222,
              "#7201a8"
             ],
             [
              0.3333333333333333,
              "#9c179e"
             ],
             [
              0.4444444444444444,
              "#bd3786"
             ],
             [
              0.5555555555555556,
              "#d8576b"
             ],
             [
              0.6666666666666666,
              "#ed7953"
             ],
             [
              0.7777777777777778,
              "#fb9f3a"
             ],
             [
              0.8888888888888888,
              "#fdca26"
             ],
             [
              1,
              "#f0f921"
             ]
            ],
            "type": "histogram2dcontour"
           }
          ],
          "mesh3d": [
           {
            "colorbar": {
             "outlinewidth": 0,
             "ticks": ""
            },
            "type": "mesh3d"
           }
          ],
          "parcoords": [
           {
            "line": {
             "colorbar": {
              "outlinewidth": 0,
              "ticks": ""
             }
            },
            "type": "parcoords"
           }
          ],
          "pie": [
           {
            "automargin": true,
            "type": "pie"
           }
          ],
          "scatter": [
           {
            "fillpattern": {
             "fillmode": "overlay",
             "size": 10,
             "solidity": 0.2
            },
            "type": "scatter"
           }
          ],
          "scatter3d": [
           {
            "line": {
             "colorbar": {
              "outlinewidth": 0,
              "ticks": ""
             }
            },
            "marker": {
             "colorbar": {
              "outlinewidth": 0,
              "ticks": ""
             }
            },
            "type": "scatter3d"
           }
          ],
          "scattercarpet": [
           {
            "marker": {
             "colorbar": {
              "outlinewidth": 0,
              "ticks": ""
             }
            },
            "type": "scattercarpet"
           }
          ],
          "scattergeo": [
           {
            "marker": {
             "colorbar": {
              "outlinewidth": 0,
              "ticks": ""
             }
            },
            "type": "scattergeo"
           }
          ],
          "scattergl": [
           {
            "marker": {
             "colorbar": {
              "outlinewidth": 0,
              "ticks": ""
             }
            },
            "type": "scattergl"
           }
          ],
          "scattermap": [
           {
            "marker": {
             "colorbar": {
              "outlinewidth": 0,
              "ticks": ""
             }
            },
            "type": "scattermap"
           }
          ],
          "scattermapbox": [
           {
            "marker": {
             "colorbar": {
              "outlinewidth": 0,
              "ticks": ""
             }
            },
            "type": "scattermapbox"
           }
          ],
          "scatterpolar": [
           {
            "marker": {
             "colorbar": {
              "outlinewidth": 0,
              "ticks": ""
             }
            },
            "type": "scatterpolar"
           }
          ],
          "scatterpolargl": [
           {
            "marker": {
             "colorbar": {
              "outlinewidth": 0,
              "ticks": ""
             }
            },
            "type": "scatterpolargl"
           }
          ],
          "scatterternary": [
           {
            "marker": {
             "colorbar": {
              "outlinewidth": 0,
              "ticks": ""
             }
            },
            "type": "scatterternary"
           }
          ],
          "surface": [
           {
            "colorbar": {
             "outlinewidth": 0,
             "ticks": ""
            },
            "colorscale": [
             [
              0,
              "#0d0887"
             ],
             [
              0.1111111111111111,
              "#46039f"
             ],
             [
              0.2222222222222222,
              "#7201a8"
             ],
             [
              0.3333333333333333,
              "#9c179e"
             ],
             [
              0.4444444444444444,
              "#bd3786"
             ],
             [
              0.5555555555555556,
              "#d8576b"
             ],
             [
              0.6666666666666666,
              "#ed7953"
             ],
             [
              0.7777777777777778,
              "#fb9f3a"
             ],
             [
              0.8888888888888888,
              "#fdca26"
             ],
             [
              1,
              "#f0f921"
             ]
            ],
            "type": "surface"
           }
          ],
          "table": [
           {
            "cells": {
             "fill": {
              "color": "#EBF0F8"
             },
             "line": {
              "color": "white"
             }
            },
            "header": {
             "fill": {
              "color": "#C8D4E3"
             },
             "line": {
              "color": "white"
             }
            },
            "type": "table"
           }
          ]
         },
         "layout": {
          "annotationdefaults": {
           "arrowcolor": "#2a3f5f",
           "arrowhead": 0,
           "arrowwidth": 1
          },
          "autotypenumbers": "strict",
          "coloraxis": {
           "colorbar": {
            "outlinewidth": 0,
            "ticks": ""
           }
          },
          "colorscale": {
           "diverging": [
            [
             0,
             "#8e0152"
            ],
            [
             0.1,
             "#c51b7d"
            ],
            [
             0.2,
             "#de77ae"
            ],
            [
             0.3,
             "#f1b6da"
            ],
            [
             0.4,
             "#fde0ef"
            ],
            [
             0.5,
             "#f7f7f7"
            ],
            [
             0.6,
             "#e6f5d0"
            ],
            [
             0.7,
             "#b8e186"
            ],
            [
             0.8,
             "#7fbc41"
            ],
            [
             0.9,
             "#4d9221"
            ],
            [
             1,
             "#276419"
            ]
           ],
           "sequential": [
            [
             0,
             "#0d0887"
            ],
            [
             0.1111111111111111,
             "#46039f"
            ],
            [
             0.2222222222222222,
             "#7201a8"
            ],
            [
             0.3333333333333333,
             "#9c179e"
            ],
            [
             0.4444444444444444,
             "#bd3786"
            ],
            [
             0.5555555555555556,
             "#d8576b"
            ],
            [
             0.6666666666666666,
             "#ed7953"
            ],
            [
             0.7777777777777778,
             "#fb9f3a"
            ],
            [
             0.8888888888888888,
             "#fdca26"
            ],
            [
             1,
             "#f0f921"
            ]
           ],
           "sequentialminus": [
            [
             0,
             "#0d0887"
            ],
            [
             0.1111111111111111,
             "#46039f"
            ],
            [
             0.2222222222222222,
             "#7201a8"
            ],
            [
             0.3333333333333333,
             "#9c179e"
            ],
            [
             0.4444444444444444,
             "#bd3786"
            ],
            [
             0.5555555555555556,
             "#d8576b"
            ],
            [
             0.6666666666666666,
             "#ed7953"
            ],
            [
             0.7777777777777778,
             "#fb9f3a"
            ],
            [
             0.8888888888888888,
             "#fdca26"
            ],
            [
             1,
             "#f0f921"
            ]
           ]
          },
          "colorway": [
           "#636efa",
           "#EF553B",
           "#00cc96",
           "#ab63fa",
           "#FFA15A",
           "#19d3f3",
           "#FF6692",
           "#B6E880",
           "#FF97FF",
           "#FECB52"
          ],
          "font": {
           "color": "#2a3f5f"
          },
          "geo": {
           "bgcolor": "white",
           "lakecolor": "white",
           "landcolor": "#E5ECF6",
           "showlakes": true,
           "showland": true,
           "subunitcolor": "white"
          },
          "hoverlabel": {
           "align": "left"
          },
          "hovermode": "closest",
          "mapbox": {
           "style": "light"
          },
          "paper_bgcolor": "white",
          "plot_bgcolor": "#E5ECF6",
          "polar": {
           "angularaxis": {
            "gridcolor": "white",
            "linecolor": "white",
            "ticks": ""
           },
           "bgcolor": "#E5ECF6",
           "radialaxis": {
            "gridcolor": "white",
            "linecolor": "white",
            "ticks": ""
           }
          },
          "scene": {
           "xaxis": {
            "backgroundcolor": "#E5ECF6",
            "gridcolor": "white",
            "gridwidth": 2,
            "linecolor": "white",
            "showbackground": true,
            "ticks": "",
            "zerolinecolor": "white"
           },
           "yaxis": {
            "backgroundcolor": "#E5ECF6",
            "gridcolor": "white",
            "gridwidth": 2,
            "linecolor": "white",
            "showbackground": true,
            "ticks": "",
            "zerolinecolor": "white"
           },
           "zaxis": {
            "backgroundcolor": "#E5ECF6",
            "gridcolor": "white",
            "gridwidth": 2,
            "linecolor": "white",
            "showbackground": true,
            "ticks": "",
            "zerolinecolor": "white"
           }
          },
          "shapedefaults": {
           "line": {
            "color": "#2a3f5f"
           }
          },
          "ternary": {
           "aaxis": {
            "gridcolor": "white",
            "linecolor": "white",
            "ticks": ""
           },
           "baxis": {
            "gridcolor": "white",
            "linecolor": "white",
            "ticks": ""
           },
           "bgcolor": "#E5ECF6",
           "caxis": {
            "gridcolor": "white",
            "linecolor": "white",
            "ticks": ""
           }
          },
          "title": {
           "x": 0.05
          },
          "xaxis": {
           "automargin": true,
           "gridcolor": "white",
           "linecolor": "white",
           "ticks": "",
           "title": {
            "standoff": 15
           },
           "zerolinecolor": "white",
           "zerolinewidth": 2
          },
          "yaxis": {
           "automargin": true,
           "gridcolor": "white",
           "linecolor": "white",
           "ticks": "",
           "title": {
            "standoff": 15
           },
           "zerolinecolor": "white",
           "zerolinewidth": 2
          }
         }
        },
        "title": {
         "text": "Agent 0 - lucaplayer"
        },
        "width": 800,
        "xaxis": {
         "showgrid": false,
         "showticklabels": false,
         "title": {
          "text": ""
         },
         "zeroline": false
        },
        "yaxis": {
         "range": [
          -1.3,
          8.3
         ],
         "showgrid": true,
         "tickfont": {
          "size": 10
         },
         "ticktext": [
          "t=0",
          "t=1",
          "t=2",
          "t=3",
          "t=4"
         ],
         "tickvals": [
          0,
          2,
          4,
          6,
          8
         ],
         "title": {
          "text": "Time →"
         },
         "zeroline": false
        }
       }
      }
     },
     "metadata": {},
     "output_type": "display_data"
    }
   ],
   "source": [
    "fig = show_interactive_conversation_tree_with_agent_selection(\"runs/r000\")\n"
   ]
  },
  {
   "cell_type": "code",
   "execution_count": 23,
   "id": "74a60751",
   "metadata": {},
   "outputs": [
    {
     "name": "stdout",
     "output_type": "stream",
     "text": [
      "I recently realized that my grandparents struggled to manage their mounting medical bills even with retirement savings. A universal healthcare system could've brought them more peace of mind & financial stability during their golden years.\n"
     ]
    }
   ],
   "source": [
    "print(List_of_POSTS[0][3][0])"
   ]
  },
  {
   "cell_type": "code",
   "execution_count": null,
   "id": "47371e01",
   "metadata": {},
   "outputs": [],
   "source": []
  }
 ],
 "metadata": {
  "kernelspec": {
   "display_name": "monks-vs-dragons",
   "language": "python",
   "name": "python3"
  },
  "language_info": {
   "codemirror_mode": {
    "name": "ipython",
    "version": 3
   },
   "file_extension": ".py",
   "mimetype": "text/x-python",
   "name": "python",
   "nbconvert_exporter": "python",
   "pygments_lexer": "ipython3",
   "version": "3.11.13"
  }
 },
 "nbformat": 4,
 "nbformat_minor": 5
}
