{
 "cells": [
  {
   "cell_type": "code",
   "execution_count": 11,
   "id": "b6f68c1c",
   "metadata": {},
   "outputs": [
    {
     "name": "stdout",
     "output_type": "stream",
     "text": [
      "The autoreload extension is already loaded. To reload it, use:\n",
      "  %reload_ext autoreload\n"
     ]
    }
   ],
   "source": [
    "# use magic command to auto-reload\n",
    "%load_ext autoreload\n",
    "%autoreload 2\n",
    "\n",
    "import sys\n",
    "import os\n",
    "import numpy as np\n",
    "import igraph as ig\n",
    "import json\n",
    "from dotenv import load_dotenv\n",
    "import os\n",
    "sys.path.append(os.path.join(os.getcwd(), '..', 'src'))\n",
    "\n",
    "from simulation import run_simulation"
   ]
  },
  {
   "cell_type": "code",
   "execution_count": 26,
   "id": "dcafd183",
   "metadata": {},
   "outputs": [
    {
     "name": "stdout",
     "output_type": "stream",
     "text": [
      "https://router.huggingface.co/v1/chat/completions\n",
      "meta-llama/Llama-3.1-8B-Instruct:cerebras\n",
      "T_current: 2\n",
      "T_current: 3\n",
      "T_current: 4\n",
      "T_current: 5\n",
      "T_current: 6\n",
      "T_current: 7\n",
      "T_current: 8\n",
      "T_current: 9\n",
      "T_current: 10\n",
      "T_current: 11\n",
      "T_current: 12\n",
      "T_current: 13\n",
      "T_current: 14\n",
      "T_current: 15\n",
      "T_current: 16\n",
      "T_current: 17\n",
      "T_current: 18\n",
      "T_current: 19\n",
      "T_current: 20\n",
      "T_current: 21\n",
      "T_current: 22\n",
      "T_current: 23\n",
      "T_current: 24\n",
      "T_current: 25\n",
      "T_current: 26\n",
      "T_current: 27\n",
      "T_current: 28\n",
      "T_current: 29\n",
      "T_current: 30\n",
      "T_current: 31\n",
      "T_current: 32\n",
      "T_current: 33\n",
      "T_current: 34\n",
      "T_current: 35\n",
      "T_current: 36\n",
      "T_current: 37\n",
      "T_current: 38\n",
      "T_current: 39\n",
      "T_current: 40\n",
      "T_current: 41\n",
      "T_current: 42\n",
      "T_current: 43\n",
      "T_current: 44\n",
      "T_current: 45\n",
      "T_current: 46\n",
      "T_current: 47\n",
      "T_current: 48\n",
      "T_current: 49\n",
      "T_current: 50\n",
      "T_current: 51\n",
      "[0.         0.01923077 0.03846154 5.73076923 6.23076923 1.71153846\n",
      " 0.03846154 0.01923077]\n"
     ]
    }
   ],
   "source": [
    "import dotenv\n",
    "import os\n",
    "\n",
    "# load PARAMS.json\n",
    "with open(\"PARAMS.json\", \"r\") as f:\n",
    "    PARAMS = json.load(f)\n",
    "\n",
    "PARAMS[\"time_decay_rate\"] =  np.log(2)/2  # halving the weight every 2 time steps. change /2 -> /k for halving every k time steps.\n",
    "PARAMS[\"W_agent_success\"] = 1\n",
    "PARAMS[\"W_personal_weights\"] = 1\n",
    "PARAMS[\"W_post_success\"] = 1\n",
    "PARAMS[\"noise_level\"] = 0.01\n",
    "\n",
    "\n",
    "\n",
    "ENV = dotenv.dotenv_values(\"./.env\")\n",
    "HF_TOKEN = ENV[\"HF_TOKEN\"]\n",
    "API_URL = ENV[\"API_URL\"]\n",
    "MODEL = ENV[\"MODEL\"]\n",
    "\n",
    "\n",
    "print(API_URL)\n",
    "print(MODEL)\n",
    "\n",
    "# add HF_TOKEN to PARAMS\n",
    "PARAMS[\"HF_TOKEN\"] = HF_TOKEN\n",
    "PARAMS[\"API_URL\"] = API_URL\n",
    "PARAMS[\"MODEL\"] = MODEL\n",
    "\n",
    "\n",
    "timesteps = 50\n",
    "num_agents = 8\n",
    "fill_history = 2\n",
    "\n",
    "\n",
    "PARAMS[\"num_agents\"] = num_agents\n",
    "PARAMS[\"timesteps\"] = timesteps\n",
    "PARAMS[\"fill_history\"] = fill_history\n",
    "\n",
    "\n",
    "G, POSTS, WEIGHTS, READ_MATRIX, LIKES = run_simulation(PARAMS)\n",
    "print(np.mean(LIKES, axis=1))"
   ]
  },
  {
   "cell_type": "code",
   "execution_count": null,
   "id": "f1dab3f6",
   "metadata": {},
   "outputs": [],
   "source": []
  }
 ],
 "metadata": {
  "kernelspec": {
   "display_name": "monks-vs-dragons",
   "language": "python",
   "name": "python3"
  },
  "language_info": {
   "codemirror_mode": {
    "name": "ipython",
    "version": 3
   },
   "file_extension": ".py",
   "mimetype": "text/x-python",
   "name": "python",
   "nbconvert_exporter": "python",
   "pygments_lexer": "ipython3",
   "version": "3.11.13"
  }
 },
 "nbformat": 4,
 "nbformat_minor": 5
}
