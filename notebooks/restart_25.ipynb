{
 "cells": [
  {
   "cell_type": "code",
   "execution_count": 7,
   "id": "b6f68c1c",
   "metadata": {},
   "outputs": [],
   "source": [
    "import sys\n",
    "import os\n",
    "import numpy as np\n",
    "import igraph as ig\n",
    "\n",
    "sys.path.append(os.path.join(os.getcwd(), '..', 'src'))\n",
    "\n",
    "from simulation import run_simulation, generate_network, _initialize_posts_and_weights"
   ]
  },
  {
   "cell_type": "code",
   "execution_count": 9,
   "id": "d11e325b",
   "metadata": {},
   "outputs": [
    {
     "name": "stdout",
     "output_type": "stream",
     "text": [
      "[0.65714286 0.74285714 0.96190476 0.83809524 0.72380952 0.9047619\n",
      " 1.16190476 0.6952381  1.3047619  1.21904762 0.38095238 0.85714286\n",
      " 0.77142857 2.05714286 0.68571429 0.58095238 0.53333333 1.2952381\n",
      " 1.58095238 0.75238095 1.06666667 0.76190476 0.73333333 0.74285714\n",
      " 0.62857143 1.11428571 0.57142857 0.81904762 2.11428571 0.75238095\n",
      " 0.60952381 1.15238095 1.00952381 0.94285714 0.79047619 0.66666667\n",
      " 1.68571429 0.58095238 0.8        0.62857143 1.0952381  1.05714286\n",
      " 1.02857143 0.86666667 0.87619048 0.99047619 0.95238095 0.79047619\n",
      " 0.86666667 1.51428571 0.76190476 0.99047619 0.48571429 1.45714286\n",
      " 0.6952381  0.98095238 0.94285714 0.8        0.51428571 0.96190476\n",
      " 0.83809524 1.80952381 0.85714286 0.79047619 0.85714286 0.68571429\n",
      " 0.51428571 0.72380952 1.7047619  1.77142857 0.56190476 0.6\n",
      " 0.68571429 1.27619048 0.60952381 1.08571429 1.68571429 0.72380952\n",
      " 0.97142857 0.48571429 0.65714286 1.13333333 0.60952381 1.5047619\n",
      " 0.67619048 0.41904762 1.26666667 0.59047619 1.12380952 1.36190476\n",
      " 1.23809524 1.17142857 0.53333333 0.27619048 0.9047619  1.15238095\n",
      " 1.13333333 0.83809524 0.9047619  1.82857143]\n"
     ]
    }
   ],
   "source": [
    "PARAMS = {\n",
    "    \"time_decay_rate\": np.log(2)/2,  # halving the weight every 2 time steps. change /2 -> /k for halving every k time steps.\n",
    "    \"W_agent_success\": 1,\n",
    "    \"W_personal_weights\": 1,\n",
    "    \"W_post_success\" : 1,\n",
    "    \"noise_level\": 0.01\n",
    "}\n",
    "timesteps = 100\n",
    "num_agents = 100\n",
    "fill_history = 5\n",
    "\n",
    "\n",
    "G = generate_network(N = num_agents, k = 4, p = 0.2, timesteps = timesteps, fill_history = fill_history)\n",
    "POSTS, WEIGHTS, READ_MATRIX, LIKES = _initialize_posts_and_weights(G, debug = True)\n",
    "\n",
    "\n",
    "G, POSTS, WEIGHTS, READ_MATRIX, LIKES = run_simulation(G, WEIGHTS, READ_MATRIX, LIKES, PARAMS, POSTS, fill_history, timesteps)\n",
    "# this is the first timestep that we are simulating, so this is our \"time 0\", but we have filled some of the history to have meaningfull pasts.\n",
    "# print the average number of likes for each agent:\n",
    "print(np.mean(LIKES, axis=1))"
   ]
  },
  {
   "cell_type": "code",
   "execution_count": null,
   "id": "5526ba42",
   "metadata": {},
   "outputs": [],
   "source": []
  }
 ],
 "metadata": {
  "kernelspec": {
   "display_name": "monks-vs-dragons",
   "language": "python",
   "name": "python3"
  },
  "language_info": {
   "codemirror_mode": {
    "name": "ipython",
    "version": 3
   },
   "file_extension": ".py",
   "mimetype": "text/x-python",
   "name": "python",
   "nbconvert_exporter": "python",
   "pygments_lexer": "ipython3",
   "version": "3.11.13"
  }
 },
 "nbformat": 4,
 "nbformat_minor": 5
}
