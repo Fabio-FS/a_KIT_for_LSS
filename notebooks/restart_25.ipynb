{
 "cells": [
  {
   "cell_type": "code",
   "execution_count": 2,
   "id": "b6f68c1c",
   "metadata": {},
   "outputs": [
    {
     "name": "stdout",
     "output_type": "stream",
     "text": [
      "The autoreload extension is already loaded. To reload it, use:\n",
      "  %reload_ext autoreload\n"
     ]
    }
   ],
   "source": [
    "# use magic command to auto-reload\n",
    "%load_ext autoreload\n",
    "%autoreload 2\n",
    "\n",
    "import sys\n",
    "import os\n",
    "import numpy as np\n",
    "import igraph as ig\n",
    "import json\n",
    "from dotenv import load_dotenv\n",
    "\n",
    "sys.path.insert(0, os.path.join(os.getcwd(), '..'))  # parent folder of src\n",
    "from src.simulation import run_simulation\n"
   ]
  },
  {
   "cell_type": "code",
   "execution_count": 4,
   "id": "dcafd183",
   "metadata": {},
   "outputs": [
    {
     "name": "stdout",
     "output_type": "stream",
     "text": [
      "https://router.huggingface.co/v1/chat/completions\n",
      "meta-llama/Llama-3.1-8B-Instruct:cerebras\n"
     ]
    }
   ],
   "source": [
    "import dotenv\n",
    "import os\n",
    "import asyncio\n",
    "import aiohttp\n",
    "\n",
    "# load PARAMS.json\n",
    "with open(\"PARAMS.json\", \"r\") as f:\n",
    "    PARAMS = json.load(f)\n",
    "\n",
    "PARAMS[\"time_decay_rate\"] =  np.log(2)/2  # halving the weight every 2 time steps. change /2 -> /k for halving every k time steps.\n",
    "PARAMS[\"W_agent_success\"] = 1\n",
    "PARAMS[\"W_personal_weights\"] = 1\n",
    "PARAMS[\"W_post_success\"] = 1\n",
    "PARAMS[\"noise_level\"] = 0.01\n",
    "\n",
    "\n",
    "\n",
    "ENV = dotenv.dotenv_values(\"./.env\")\n",
    "HF_TOKEN = ENV[\"HF_TOKEN\"]\n",
    "API_URL = ENV[\"API_URL\"]\n",
    "MODEL = ENV[\"MODEL\"]\n",
    "\n",
    "\n",
    "print(API_URL)\n",
    "print(MODEL)\n",
    "\n",
    "# add HF_TOKEN to PARAMS\n",
    "PARAMS[\"HF_TOKEN\"] = HF_TOKEN\n",
    "PARAMS[\"API_URL\"] = API_URL\n",
    "PARAMS[\"MODEL\"] = MODEL"
   ]
  },
  {
   "cell_type": "code",
   "execution_count": 45,
   "id": "f1dab3f6",
   "metadata": {},
   "outputs": [
    {
     "name": "stdout",
     "output_type": "stream",
     "text": [
      "T_current: 1\n",
      "T_current: 2\n"
     ]
    }
   ],
   "source": [
    "timesteps = 2\n",
    "num_agents = 12\n",
    "fill_history = 1\n",
    "\n",
    "\n",
    "PARAMS[\"num_agents\"] = num_agents\n",
    "PARAMS[\"timesteps\"] = timesteps\n",
    "PARAMS[\"fill_history\"] = fill_history\n",
    "\n",
    "\n",
    "G, POSTS, WEIGHTS, READ_MATRIX, LIKES = await run_simulation(PARAMS)"
   ]
  },
  {
   "cell_type": "code",
   "execution_count": 48,
   "id": "cbb422bb",
   "metadata": {},
   "outputs": [
    {
     "name": "stdout",
     "output_type": "stream",
     "text": [
      "✅ No duplicates found\n"
     ]
    }
   ],
   "source": [
    "import numpy as np\n",
    "from collections import defaultdict, Counter\n",
    "\n",
    "def check_duplicates(POSTS):\n",
    "    \"\"\"\n",
    "    POSTS: list of lists [num_agents][timesteps]\n",
    "    \"\"\"\n",
    "    flat = []\n",
    "    coords = []\n",
    "    for i, row in enumerate(POSTS):\n",
    "        for j, text in enumerate(row):\n",
    "            if text:\n",
    "                flat.append(text.strip())\n",
    "                coords.append((i, j))\n",
    "\n",
    "    # Count duplicates\n",
    "    counter = Counter(flat)\n",
    "    dups = {txt: count for txt, count in counter.items() if count > 1}\n",
    "\n",
    "    if not dups:\n",
    "        print(\"✅ No duplicates found\")\n",
    "        return\n",
    "\n",
    "    print(f\"⚠️ Found {len(dups)} duplicate texts\")\n",
    "    for txt, count in dups.items():\n",
    "        print(f\"\\n--- Occurs {count} times ---\\n{textwrap.shorten(txt, width=100)}\")\n",
    "        for (i, j), t in zip(coords, flat):\n",
    "            if t == txt:\n",
    "                print(f\"  at agent {i}, timestep {j}\")\n",
    "\n",
    "# Example usage:\n",
    "check_duplicates(POSTS)\n"
   ]
  },
  {
   "cell_type": "code",
   "execution_count": 46,
   "id": "8a46382e",
   "metadata": {},
   "outputs": [
    {
     "name": "stdout",
     "output_type": "stream",
     "text": [
      "\"Just learned that our local community is getting a new affordable housing complex, providing 100+ units for low-income families. This is exactly the kind of progress we need on issues of income inequality and access to housing!\"\n",
      "\"Exciting news! I just talked to one of the developers who's leading the new affordable housing project and they're planning to prioritize hiring local contractors and workers. It's great to see community investment that benefits everyone!\"\n",
      "\"This is exactly the kind of community-driven development I was hoping for! Not only will it provide much-needed affordable housing, but it's also creating jobs & supporting local businesses. Let's keep pushing for more projects like this!\"\n"
     ]
    }
   ],
   "source": [
    "i = 6\n",
    "print(POSTS[i][0])\n",
    "print(POSTS[i][1])\n",
    "print(POSTS[i][2])"
   ]
  },
  {
   "cell_type": "code",
   "execution_count": 47,
   "id": "ebd4ac92",
   "metadata": {},
   "outputs": [
    {
     "name": "stdout",
     "output_type": "stream",
     "text": [
      "\"Climate change is one of the biggest issues of our time. We need to take immediate action to reduce our carbon footprint and protect our planet for future generations #ActOnClimate #Sustainability\"\n",
      "\"I'm so frustrated with politicians who deny the reality of climate change. We need leaders who will prioritize the health of our planet over profits. Let's hold them accountable and demand action now #ClimateLeadership #VoteForThePlanet\"\n",
      "\"I'd like to challenge @chrislife1109 and @annapro9596 to consider the impact of our country's energy policies on climate change. Ramping up domestic oil and gas production, like @annapro9596 suggests, can only worsen the problem. We need a comprehensive approach that balances energy needs with environmental concerns\"\n"
     ]
    }
   ],
   "source": [
    "i = 7\n",
    "print(POSTS[i][0])\n",
    "print(POSTS[i][1])\n",
    "print(POSTS[i][2])"
   ]
  },
  {
   "cell_type": "code",
   "execution_count": 44,
   "id": "5072a65f",
   "metadata": {},
   "outputs": [
    {
     "name": "stdout",
     "output_type": "stream",
     "text": [
      "\"Just learned that 1 in 5 kids in the US go to bed hungry every night. As a nation, we can do better. It's time for real action on food insecurity and affordable healthcare for all #EndChildHunger #HealthcareForAll\"\n",
      "\"I'm glad to see some of my fellow Americans sharing their concerns about climate change and its impact on our communities. We need to work together to find solutions that benefit everyone, not just the wealthy and powerful. Investing in renewable energy and green infrastructure is a great place to start #ClimateAction #Sustainability\"\n",
      "\"I'm glad to see some of my fellow Americans sharing their concerns about climate change and its impact on our communities. We need to work together to find solutions that benefit everyone, not just the wealthy and powerful. Investing in renewable energy and green infrastructure is a great place to start #ClimateAction #Sustainability\"\n"
     ]
    }
   ],
   "source": [
    "i = 8\n",
    "print(POSTS[i][0])\n",
    "print(POSTS[i][1])\n",
    "print(POSTS[i][2])"
   ]
  },
  {
   "cell_type": "code",
   "execution_count": null,
   "id": "74a4477d",
   "metadata": {},
   "outputs": [],
   "source": []
  }
 ],
 "metadata": {
  "kernelspec": {
   "display_name": "monks-vs-dragons",
   "language": "python",
   "name": "python3"
  },
  "language_info": {
   "codemirror_mode": {
    "name": "ipython",
    "version": 3
   },
   "file_extension": ".py",
   "mimetype": "text/x-python",
   "name": "python",
   "nbconvert_exporter": "python",
   "pygments_lexer": "ipython3",
   "version": "3.11.13"
  }
 },
 "nbformat": 4,
 "nbformat_minor": 5
}
